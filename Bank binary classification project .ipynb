{
 "cells": [
  {
   "cell_type": "markdown",
   "id": "b3f97fc9-2b9e-4e50-b125-7248346d9c91",
   "metadata": {},
   "source": [
    "## Capstone Project: Banking Income Binary Classification"
   ]
  },
  {
   "cell_type": "markdown",
   "id": "685a83aa-b569-4258-a2f3-a20e4dcdc36f",
   "metadata": {},
   "source": [
    "### importing Modules"
   ]
  },
  {
   "cell_type": "code",
   "execution_count": 1,
   "id": "249fb841-5da4-4c6f-b03b-a9130ce35d59",
   "metadata": {},
   "outputs": [],
   "source": [
    "import chardet\n",
    "import pandas as pd\n",
    "import numpy as np\n",
    "import matplotlib.pyplot as plt\n",
    "import seaborn as sns\n",
    "%matplotlib inline"
   ]
  },
  {
   "cell_type": "markdown",
   "id": "925f745b-8f21-40db-944a-7819d928d91a",
   "metadata": {},
   "source": [
    "### Data Reading "
   ]
  },
  {
   "cell_type": "code",
   "execution_count": 3,
   "id": "41f85596-39bd-4d87-aaab-80f7f94c5e26",
   "metadata": {},
   "outputs": [
    {
     "name": "stdout",
     "output_type": "stream",
     "text": [
      "Detected encoding: ascii\n"
     ]
    }
   ],
   "source": [
    "with open('maincapstoneproj.csv', 'rb') as f:\n",
    "    result = chardet.detect(f.read())\n",
    "\n",
    "encoding = result['encoding']\n",
    "print(f\"Detected encoding: {encoding}\")"
   ]
  },
  {
   "cell_type": "code",
   "execution_count": 4,
   "id": "9e018cab-4eb8-4442-b2eb-9fd871dcb7cd",
   "metadata": {},
   "outputs": [],
   "source": [
    "df = pd.read_csv('maincapstoneproj.csv', encoding=encoding)"
   ]
  },
  {
   "cell_type": "code",
   "execution_count": 5,
   "id": "28ca9848-a19c-424d-a191-307566f5192d",
   "metadata": {},
   "outputs": [
    {
     "data": {
      "text/html": [
       "<div>\n",
       "<style scoped>\n",
       "    .dataframe tbody tr th:only-of-type {\n",
       "        vertical-align: middle;\n",
       "    }\n",
       "\n",
       "    .dataframe tbody tr th {\n",
       "        vertical-align: top;\n",
       "    }\n",
       "\n",
       "    .dataframe thead th {\n",
       "        text-align: right;\n",
       "    }\n",
       "</style>\n",
       "<table border=\"1\" class=\"dataframe\">\n",
       "  <thead>\n",
       "    <tr style=\"text-align: right;\">\n",
       "      <th></th>\n",
       "      <th>Age</th>\n",
       "      <th>workclass</th>\n",
       "      <th>fnlwgt</th>\n",
       "      <th>Education</th>\n",
       "      <th>education-num</th>\n",
       "      <th>Martial-Status</th>\n",
       "      <th>Occupation</th>\n",
       "      <th>relationship</th>\n",
       "      <th>race</th>\n",
       "      <th>sex</th>\n",
       "      <th>capital-gain</th>\n",
       "      <th>capital-loss</th>\n",
       "      <th>hour-per-week</th>\n",
       "      <th>native-country</th>\n",
       "      <th>Salary</th>\n",
       "    </tr>\n",
       "  </thead>\n",
       "  <tbody>\n",
       "    <tr>\n",
       "      <th>0</th>\n",
       "      <td>39</td>\n",
       "      <td>State-gov</td>\n",
       "      <td>77516</td>\n",
       "      <td>Bachelors</td>\n",
       "      <td>13</td>\n",
       "      <td>Never-married</td>\n",
       "      <td>Adm-clerical</td>\n",
       "      <td>Not-in-family</td>\n",
       "      <td>White</td>\n",
       "      <td>Male</td>\n",
       "      <td>2174</td>\n",
       "      <td>0</td>\n",
       "      <td>40</td>\n",
       "      <td>United-States</td>\n",
       "      <td>&lt;=50K</td>\n",
       "    </tr>\n",
       "    <tr>\n",
       "      <th>1</th>\n",
       "      <td>50</td>\n",
       "      <td>Self-emp-not-inc</td>\n",
       "      <td>83311</td>\n",
       "      <td>Bachelors</td>\n",
       "      <td>13</td>\n",
       "      <td>Married-civ-spouse</td>\n",
       "      <td>Exec-managerial</td>\n",
       "      <td>Husband</td>\n",
       "      <td>White</td>\n",
       "      <td>Male</td>\n",
       "      <td>0</td>\n",
       "      <td>0</td>\n",
       "      <td>13</td>\n",
       "      <td>United-States</td>\n",
       "      <td>&lt;=50K</td>\n",
       "    </tr>\n",
       "    <tr>\n",
       "      <th>2</th>\n",
       "      <td>38</td>\n",
       "      <td>Private</td>\n",
       "      <td>215646</td>\n",
       "      <td>HS-grad</td>\n",
       "      <td>9</td>\n",
       "      <td>Divorced</td>\n",
       "      <td>Handlers-cleaners</td>\n",
       "      <td>Not-in-family</td>\n",
       "      <td>White</td>\n",
       "      <td>Male</td>\n",
       "      <td>0</td>\n",
       "      <td>0</td>\n",
       "      <td>40</td>\n",
       "      <td>United-States</td>\n",
       "      <td>&lt;=50K</td>\n",
       "    </tr>\n",
       "    <tr>\n",
       "      <th>3</th>\n",
       "      <td>53</td>\n",
       "      <td>Private</td>\n",
       "      <td>234721</td>\n",
       "      <td>11th</td>\n",
       "      <td>7</td>\n",
       "      <td>Married-civ-spouse</td>\n",
       "      <td>Handlers-cleaners</td>\n",
       "      <td>Husband</td>\n",
       "      <td>Black</td>\n",
       "      <td>Male</td>\n",
       "      <td>0</td>\n",
       "      <td>0</td>\n",
       "      <td>40</td>\n",
       "      <td>United-States</td>\n",
       "      <td>&lt;=50K</td>\n",
       "    </tr>\n",
       "    <tr>\n",
       "      <th>4</th>\n",
       "      <td>28</td>\n",
       "      <td>Private</td>\n",
       "      <td>338409</td>\n",
       "      <td>Bachelors</td>\n",
       "      <td>13</td>\n",
       "      <td>Married-civ-spouse</td>\n",
       "      <td>Prof-specialty</td>\n",
       "      <td>Wife</td>\n",
       "      <td>Black</td>\n",
       "      <td>Female</td>\n",
       "      <td>0</td>\n",
       "      <td>0</td>\n",
       "      <td>40</td>\n",
       "      <td>Cuba</td>\n",
       "      <td>&lt;=50K</td>\n",
       "    </tr>\n",
       "    <tr>\n",
       "      <th>...</th>\n",
       "      <td>...</td>\n",
       "      <td>...</td>\n",
       "      <td>...</td>\n",
       "      <td>...</td>\n",
       "      <td>...</td>\n",
       "      <td>...</td>\n",
       "      <td>...</td>\n",
       "      <td>...</td>\n",
       "      <td>...</td>\n",
       "      <td>...</td>\n",
       "      <td>...</td>\n",
       "      <td>...</td>\n",
       "      <td>...</td>\n",
       "      <td>...</td>\n",
       "      <td>...</td>\n",
       "    </tr>\n",
       "    <tr>\n",
       "      <th>32556</th>\n",
       "      <td>27</td>\n",
       "      <td>Private</td>\n",
       "      <td>257302</td>\n",
       "      <td>Assoc-acdm</td>\n",
       "      <td>12</td>\n",
       "      <td>Married-civ-spouse</td>\n",
       "      <td>Tech-support</td>\n",
       "      <td>Wife</td>\n",
       "      <td>White</td>\n",
       "      <td>Female</td>\n",
       "      <td>0</td>\n",
       "      <td>0</td>\n",
       "      <td>38</td>\n",
       "      <td>United-States</td>\n",
       "      <td>&lt;=50K</td>\n",
       "    </tr>\n",
       "    <tr>\n",
       "      <th>32557</th>\n",
       "      <td>40</td>\n",
       "      <td>Private</td>\n",
       "      <td>154374</td>\n",
       "      <td>HS-grad</td>\n",
       "      <td>9</td>\n",
       "      <td>Married-civ-spouse</td>\n",
       "      <td>Machine-op-inspct</td>\n",
       "      <td>Husband</td>\n",
       "      <td>White</td>\n",
       "      <td>Male</td>\n",
       "      <td>0</td>\n",
       "      <td>0</td>\n",
       "      <td>40</td>\n",
       "      <td>United-States</td>\n",
       "      <td>&gt;50K</td>\n",
       "    </tr>\n",
       "    <tr>\n",
       "      <th>32558</th>\n",
       "      <td>58</td>\n",
       "      <td>Private</td>\n",
       "      <td>151910</td>\n",
       "      <td>HS-grad</td>\n",
       "      <td>9</td>\n",
       "      <td>Widowed</td>\n",
       "      <td>Adm-clerical</td>\n",
       "      <td>Unmarried</td>\n",
       "      <td>White</td>\n",
       "      <td>Female</td>\n",
       "      <td>0</td>\n",
       "      <td>0</td>\n",
       "      <td>40</td>\n",
       "      <td>United-States</td>\n",
       "      <td>&lt;=50K</td>\n",
       "    </tr>\n",
       "    <tr>\n",
       "      <th>32559</th>\n",
       "      <td>22</td>\n",
       "      <td>Private</td>\n",
       "      <td>201490</td>\n",
       "      <td>HS-grad</td>\n",
       "      <td>9</td>\n",
       "      <td>Never-married</td>\n",
       "      <td>Adm-clerical</td>\n",
       "      <td>Own-child</td>\n",
       "      <td>White</td>\n",
       "      <td>Male</td>\n",
       "      <td>0</td>\n",
       "      <td>0</td>\n",
       "      <td>20</td>\n",
       "      <td>United-States</td>\n",
       "      <td>&lt;=50K</td>\n",
       "    </tr>\n",
       "    <tr>\n",
       "      <th>32560</th>\n",
       "      <td>52</td>\n",
       "      <td>Self-emp-inc</td>\n",
       "      <td>287927</td>\n",
       "      <td>HS-grad</td>\n",
       "      <td>9</td>\n",
       "      <td>Married-civ-spouse</td>\n",
       "      <td>Exec-managerial</td>\n",
       "      <td>Wife</td>\n",
       "      <td>White</td>\n",
       "      <td>Female</td>\n",
       "      <td>15024</td>\n",
       "      <td>0</td>\n",
       "      <td>40</td>\n",
       "      <td>United-States</td>\n",
       "      <td>&gt;50K</td>\n",
       "    </tr>\n",
       "  </tbody>\n",
       "</table>\n",
       "<p>32561 rows × 15 columns</p>\n",
       "</div>"
      ],
      "text/plain": [
       "       Age          workclass  fnlwgt    Education  education-num  \\\n",
       "0       39          State-gov   77516    Bachelors             13   \n",
       "1       50   Self-emp-not-inc   83311    Bachelors             13   \n",
       "2       38            Private  215646      HS-grad              9   \n",
       "3       53            Private  234721         11th              7   \n",
       "4       28            Private  338409    Bachelors             13   \n",
       "...    ...                ...     ...          ...            ...   \n",
       "32556   27            Private  257302   Assoc-acdm             12   \n",
       "32557   40            Private  154374      HS-grad              9   \n",
       "32558   58            Private  151910      HS-grad              9   \n",
       "32559   22            Private  201490      HS-grad              9   \n",
       "32560   52       Self-emp-inc  287927      HS-grad              9   \n",
       "\n",
       "            Martial-Status          Occupation    relationship    race  \\\n",
       "0            Never-married        Adm-clerical   Not-in-family   White   \n",
       "1       Married-civ-spouse     Exec-managerial         Husband   White   \n",
       "2                 Divorced   Handlers-cleaners   Not-in-family   White   \n",
       "3       Married-civ-spouse   Handlers-cleaners         Husband   Black   \n",
       "4       Married-civ-spouse      Prof-specialty            Wife   Black   \n",
       "...                    ...                 ...             ...     ...   \n",
       "32556   Married-civ-spouse        Tech-support            Wife   White   \n",
       "32557   Married-civ-spouse   Machine-op-inspct         Husband   White   \n",
       "32558              Widowed        Adm-clerical       Unmarried   White   \n",
       "32559        Never-married        Adm-clerical       Own-child   White   \n",
       "32560   Married-civ-spouse     Exec-managerial            Wife   White   \n",
       "\n",
       "           sex  capital-gain  capital-loss  hour-per-week  native-country  \\\n",
       "0         Male          2174             0             40   United-States   \n",
       "1         Male             0             0             13   United-States   \n",
       "2         Male             0             0             40   United-States   \n",
       "3         Male             0             0             40   United-States   \n",
       "4       Female             0             0             40            Cuba   \n",
       "...        ...           ...           ...            ...             ...   \n",
       "32556   Female             0             0             38   United-States   \n",
       "32557     Male             0             0             40   United-States   \n",
       "32558   Female             0             0             40   United-States   \n",
       "32559     Male             0             0             20   United-States   \n",
       "32560   Female         15024             0             40   United-States   \n",
       "\n",
       "       Salary  \n",
       "0       <=50K  \n",
       "1       <=50K  \n",
       "2       <=50K  \n",
       "3       <=50K  \n",
       "4       <=50K  \n",
       "...       ...  \n",
       "32556   <=50K  \n",
       "32557    >50K  \n",
       "32558   <=50K  \n",
       "32559   <=50K  \n",
       "32560    >50K  \n",
       "\n",
       "[32561 rows x 15 columns]"
      ]
     },
     "execution_count": 5,
     "metadata": {},
     "output_type": "execute_result"
    }
   ],
   "source": [
    "df"
   ]
  },
  {
   "cell_type": "markdown",
   "id": "357cfc35-c431-42e5-8ebd-f9dec3f2f8f2",
   "metadata": {},
   "source": [
    "### Data Cleaning or Manipulation "
   ]
  },
  {
   "cell_type": "code",
   "execution_count": 6,
   "id": "edae9c05-4d66-46fe-b917-e418ff9525e9",
   "metadata": {},
   "outputs": [
    {
     "data": {
      "text/plain": [
       "Age                                54\n",
       "workclass                           ?\n",
       "fnlwgt                         180211\n",
       "Education                Some-college\n",
       "education-num                      10\n",
       "Martial-Status     Married-civ-spouse\n",
       "Occupation                          ?\n",
       "relationship                  Husband\n",
       "race               Asian-Pac-Islander\n",
       "sex                              Male\n",
       "capital-gain                        0\n",
       "capital-loss                        0\n",
       "hour-per-week                      60\n",
       "native-country                  South\n",
       "Salary                           >50K\n",
       "Name: 27, dtype: object"
      ]
     },
     "execution_count": 6,
     "metadata": {},
     "output_type": "execute_result"
    }
   ],
   "source": [
    "df.iloc[27]"
   ]
  },
  {
   "cell_type": "code",
   "execution_count": 7,
   "id": "e39fe9bb-2e59-470a-affa-e4d2d649c55d",
   "metadata": {},
   "outputs": [
    {
     "name": "stdout",
     "output_type": "stream",
     "text": [
      "\n",
      "Updated DataFrame:\n",
      "       Age          workclass  fnlwgt    Education  education-num  \\\n",
      "0       39          State-gov   77516    Bachelors             13   \n",
      "1       50   Self-emp-not-inc   83311    Bachelors             13   \n",
      "2       38            Private  215646      HS-grad              9   \n",
      "3       53            Private  234721         11th              7   \n",
      "4       28            Private  338409    Bachelors             13   \n",
      "...    ...                ...     ...          ...            ...   \n",
      "32556   27            Private  257302   Assoc-acdm             12   \n",
      "32557   40            Private  154374      HS-grad              9   \n",
      "32558   58            Private  151910      HS-grad              9   \n",
      "32559   22            Private  201490      HS-grad              9   \n",
      "32560   52       Self-emp-inc  287927      HS-grad              9   \n",
      "\n",
      "            Martial-Status          Occupation    relationship    race  \\\n",
      "0            Never-married        Adm-clerical   Not-in-family   White   \n",
      "1       Married-civ-spouse     Exec-managerial         Husband   White   \n",
      "2                 Divorced   Handlers-cleaners   Not-in-family   White   \n",
      "3       Married-civ-spouse   Handlers-cleaners         Husband   Black   \n",
      "4       Married-civ-spouse      Prof-specialty            Wife   Black   \n",
      "...                    ...                 ...             ...     ...   \n",
      "32556   Married-civ-spouse        Tech-support            Wife   White   \n",
      "32557   Married-civ-spouse   Machine-op-inspct         Husband   White   \n",
      "32558              Widowed        Adm-clerical       Unmarried   White   \n",
      "32559        Never-married        Adm-clerical       Own-child   White   \n",
      "32560   Married-civ-spouse     Exec-managerial            Wife   White   \n",
      "\n",
      "           sex  capital-gain  capital-loss  hour-per-week  native-country  \\\n",
      "0         Male          2174             0             40   United-States   \n",
      "1         Male             0             0             13   United-States   \n",
      "2         Male             0             0             40   United-States   \n",
      "3         Male             0             0             40   United-States   \n",
      "4       Female             0             0             40            Cuba   \n",
      "...        ...           ...           ...            ...             ...   \n",
      "32556   Female             0             0             38   United-States   \n",
      "32557     Male             0             0             40   United-States   \n",
      "32558   Female             0             0             40   United-States   \n",
      "32559     Male             0             0             20   United-States   \n",
      "32560   Female         15024             0             40   United-States   \n",
      "\n",
      "       Salary  \n",
      "0       <=50K  \n",
      "1       <=50K  \n",
      "2       <=50K  \n",
      "3       <=50K  \n",
      "4       <=50K  \n",
      "...       ...  \n",
      "32556   <=50K  \n",
      "32557    >50K  \n",
      "32558   <=50K  \n",
      "32559   <=50K  \n",
      "32560    >50K  \n",
      "\n",
      "[32561 rows x 15 columns]\n",
      "\n",
      "DataFrame saved to 'maincapstoneproj.csv'.\n"
     ]
    }
   ],
   "source": [
    "def replacemode(x, mode_value):\n",
    "    if x ==' ?':\n",
    "        return mode_value\n",
    "    else:\n",
    "        return x\n",
    "\n",
    "def replacemean(x, mean_value):\n",
    "    if pd.isnull(x):\n",
    "        return mean_value\n",
    "    else:\n",
    "        return x\n",
    "\n",
    "\n",
    "\n",
    "\n",
    "def update(column):\n",
    "    if column.dtype == 'O': \n",
    "        mode_value = column.mode()[0]\n",
    "        return column.apply(lambda x:replacemode(x, mode_value))\n",
    "    else:  \n",
    "        mean_value = column.mean()\n",
    "        return column.apply(lambda x:replacemean(x, mean_value))\n",
    "\n",
    "\n",
    "for col in df.columns:\n",
    "    df[col] = update(df[col])\n",
    "\n",
    "print(\"\\nUpdated DataFrame:\")\n",
    "print(df)\n",
    "df.to_csv('maincapstoneproj.csv', index=False)\n",
    "\n",
    "print(\"\\nDataFrame saved to 'maincapstoneproj.csv'.\")"
   ]
  },
  {
   "cell_type": "code",
   "execution_count": 8,
   "id": "145ffbeb-24c5-485a-af88-f4315882479d",
   "metadata": {},
   "outputs": [
    {
     "data": {
      "text/plain": [
       "Age                                54\n",
       "workclass                     Private\n",
       "fnlwgt                         180211\n",
       "Education                Some-college\n",
       "education-num                      10\n",
       "Martial-Status     Married-civ-spouse\n",
       "Occupation             Prof-specialty\n",
       "relationship                  Husband\n",
       "race               Asian-Pac-Islander\n",
       "sex                              Male\n",
       "capital-gain                        0\n",
       "capital-loss                        0\n",
       "hour-per-week                      60\n",
       "native-country                  South\n",
       "Salary                           >50K\n",
       "Name: 27, dtype: object"
      ]
     },
     "execution_count": 8,
     "metadata": {},
     "output_type": "execute_result"
    }
   ],
   "source": [
    "df.iloc[27]"
   ]
  },
  {
   "cell_type": "markdown",
   "id": "041cac5e-2bda-4761-87ee-6e2e31ea8942",
   "metadata": {},
   "source": [
    "### Exploratory Data Analysis(EDA)"
   ]
  },
  {
   "cell_type": "markdown",
   "id": "2ef47e92-e232-4418-9c34-a0702fe64219",
   "metadata": {},
   "source": [
    "#### Classifying into two categories based in their data types\n",
    "Numerical - Age,fnlwgt,education-num,capital-gain,capital-loss,hour-per-week\n",
    "\n",
    "Categorical - workclass,Education,Martial-Status,Occupation,relationship,race,sex,Salary"
   ]
  },
  {
   "cell_type": "markdown",
   "id": "7f53f2c2-87de-4eea-a2f1-d6da797543e4",
   "metadata": {},
   "source": [
    "### Univariate Analysis on numerical columns"
   ]
  },
  {
   "cell_type": "code",
   "execution_count": 9,
   "id": "8034095c-69d7-4efd-b650-107815e244db",
   "metadata": {},
   "outputs": [
    {
     "data": {
      "text/plain": [
       "Age               0\n",
       "workclass         0\n",
       "fnlwgt            0\n",
       "Education         0\n",
       "education-num     0\n",
       "Martial-Status    0\n",
       "Occupation        0\n",
       "relationship      0\n",
       "race              0\n",
       "sex               0\n",
       "capital-gain      0\n",
       "capital-loss      0\n",
       "hour-per-week     0\n",
       "native-country    0\n",
       "Salary            0\n",
       "dtype: int64"
      ]
     },
     "execution_count": 9,
     "metadata": {},
     "output_type": "execute_result"
    }
   ],
   "source": [
    "df.isnull().sum()"
   ]
  },
  {
   "cell_type": "markdown",
   "id": "9a0abb12-9432-4f35-9908-4a62a5c170f0",
   "metadata": {},
   "source": [
    "#### Age"
   ]
  },
  {
   "cell_type": "code",
   "execution_count": 10,
   "id": "a2dab34a-d1fd-4a6e-b86c-198e7f5f8e2b",
   "metadata": {},
   "outputs": [
    {
     "data": {
      "text/plain": [
       "count    32561.000000\n",
       "mean        38.581647\n",
       "std         13.640433\n",
       "min         17.000000\n",
       "25%         28.000000\n",
       "50%         37.000000\n",
       "75%         48.000000\n",
       "max         90.000000\n",
       "Name: Age, dtype: float64"
      ]
     },
     "execution_count": 10,
     "metadata": {},
     "output_type": "execute_result"
    }
   ],
   "source": [
    "df['Age'].describe()  "
   ]
  },
  {
   "cell_type": "code",
   "execution_count": 11,
   "id": "962ac9d8-23da-4d9e-9ce9-3695b0fba657",
   "metadata": {},
   "outputs": [
    {
     "data": {
      "text/plain": [
       "<Axes: ylabel='Frequency'>"
      ]
     },
     "execution_count": 11,
     "metadata": {},
     "output_type": "execute_result"
    },
    {
     "data": {
      "image/png": "[encoded data removed]",
      "text/plain": [
       "<Figure size 640x480 with 1 Axes>"
      ]
     },
     "metadata": {},
     "output_type": "display_data"
    }
   ],
   "source": [
    "df['Age'].plot(kind='hist', bins=20) "
   ]
  },
  {
   "cell_type": "code",
   "execution_count": 12,
   "id": "798df5d6-d671-4478-9bf4-13c11b753e1b",
   "metadata": {},
   "outputs": [
    {
     "data": {
      "text/plain": [
       "<Axes: ylabel='Density'>"
      ]
     },
     "execution_count": 12,
     "metadata": {},
     "output_type": "execute_result"
    },
    {
     "data": {
      "image/png": "[encoded data removed]",
      "text/plain": [
       "<Figure size 640x480 with 1 Axes>"
      ]
     },
     "metadata": {},
     "output_type": "display_data"
    }
   ],
   "source": [
    "df['Age'].plot(kind='kde')"
   ]
  },
  {
   "cell_type": "code",
   "execution_count": 13,
   "id": "b59c7fc8-1ee8-45d2-a7b5-d538e43e0323",
   "metadata": {},
   "outputs": [
    {
     "data": {
      "text/plain": [
       "0.5587433694130484"
      ]
     },
     "execution_count": 13,
     "metadata": {},
     "output_type": "execute_result"
    }
   ],
   "source": [
    "df['Age'].skew()  "
   ]
  },
  {
   "cell_type": "code",
   "execution_count": 14,
   "id": "6b529fbb-95ec-44c9-bb23-5ffdb7abaff9",
   "metadata": {},
   "outputs": [
    {
     "data": {
      "text/plain": [
       "<Axes: >"
      ]
     },
     "execution_count": 14,
     "metadata": {},
     "output_type": "execute_result"
    },
    {
     "data": {
      "image/png": "[encoded data removed]",
      "text/plain": [
       "<Figure size 640x480 with 1 Axes>"
      ]
     },
     "metadata": {},
     "output_type": "display_data"
    }
   ],
   "source": [
    "df['Age'].plot(kind='box')"
   ]
  },
  {
   "cell_type": "code",
   "execution_count": 15,
   "id": "af22216c-91b0-4940-bf5e-aa485e5fbee8",
   "metadata": {},
   "outputs": [
    {
     "data": {
      "text/html": [
       "<div>\n",
       "<style scoped>\n",
       "    .dataframe tbody tr th:only-of-type {\n",
       "        vertical-align: middle;\n",
       "    }\n",
       "\n",
       "    .dataframe tbody tr th {\n",
       "        vertical-align: top;\n",
       "    }\n",
       "\n",
       "    .dataframe thead th {\n",
       "        text-align: right;\n",
       "    }\n",
       "</style>\n",
       "<table border=\"1\" class=\"dataframe\">\n",
       "  <thead>\n",
       "    <tr style=\"text-align: right;\">\n",
       "      <th></th>\n",
       "      <th>Age</th>\n",
       "      <th>workclass</th>\n",
       "      <th>fnlwgt</th>\n",
       "      <th>Education</th>\n",
       "      <th>education-num</th>\n",
       "      <th>Martial-Status</th>\n",
       "      <th>Occupation</th>\n",
       "      <th>relationship</th>\n",
       "      <th>race</th>\n",
       "      <th>sex</th>\n",
       "      <th>capital-gain</th>\n",
       "      <th>capital-loss</th>\n",
       "      <th>hour-per-week</th>\n",
       "      <th>native-country</th>\n",
       "      <th>Salary</th>\n",
       "    </tr>\n",
       "  </thead>\n",
       "  <tbody>\n",
       "    <tr>\n",
       "      <th>74</th>\n",
       "      <td>79</td>\n",
       "      <td>Private</td>\n",
       "      <td>124744</td>\n",
       "      <td>Some-college</td>\n",
       "      <td>10</td>\n",
       "      <td>Married-civ-spouse</td>\n",
       "      <td>Prof-specialty</td>\n",
       "      <td>Other-relative</td>\n",
       "      <td>White</td>\n",
       "      <td>Male</td>\n",
       "      <td>0</td>\n",
       "      <td>0</td>\n",
       "      <td>20</td>\n",
       "      <td>United-States</td>\n",
       "      <td>&lt;=50K</td>\n",
       "    </tr>\n",
       "    <tr>\n",
       "      <th>222</th>\n",
       "      <td>90</td>\n",
       "      <td>Private</td>\n",
       "      <td>51744</td>\n",
       "      <td>HS-grad</td>\n",
       "      <td>9</td>\n",
       "      <td>Never-married</td>\n",
       "      <td>Other-service</td>\n",
       "      <td>Not-in-family</td>\n",
       "      <td>Black</td>\n",
       "      <td>Male</td>\n",
       "      <td>0</td>\n",
       "      <td>2206</td>\n",
       "      <td>40</td>\n",
       "      <td>United-States</td>\n",
       "      <td>&lt;=50K</td>\n",
       "    </tr>\n",
       "    <tr>\n",
       "      <th>430</th>\n",
       "      <td>80</td>\n",
       "      <td>Private</td>\n",
       "      <td>107762</td>\n",
       "      <td>HS-grad</td>\n",
       "      <td>9</td>\n",
       "      <td>Widowed</td>\n",
       "      <td>Prof-specialty</td>\n",
       "      <td>Not-in-family</td>\n",
       "      <td>White</td>\n",
       "      <td>Male</td>\n",
       "      <td>0</td>\n",
       "      <td>0</td>\n",
       "      <td>24</td>\n",
       "      <td>United-States</td>\n",
       "      <td>&lt;=50K</td>\n",
       "    </tr>\n",
       "    <tr>\n",
       "      <th>918</th>\n",
       "      <td>81</td>\n",
       "      <td>Self-emp-not-inc</td>\n",
       "      <td>136063</td>\n",
       "      <td>HS-grad</td>\n",
       "      <td>9</td>\n",
       "      <td>Married-civ-spouse</td>\n",
       "      <td>Exec-managerial</td>\n",
       "      <td>Husband</td>\n",
       "      <td>White</td>\n",
       "      <td>Male</td>\n",
       "      <td>0</td>\n",
       "      <td>0</td>\n",
       "      <td>30</td>\n",
       "      <td>United-States</td>\n",
       "      <td>&lt;=50K</td>\n",
       "    </tr>\n",
       "    <tr>\n",
       "      <th>978</th>\n",
       "      <td>78</td>\n",
       "      <td>Private</td>\n",
       "      <td>182977</td>\n",
       "      <td>HS-grad</td>\n",
       "      <td>9</td>\n",
       "      <td>Widowed</td>\n",
       "      <td>Other-service</td>\n",
       "      <td>Not-in-family</td>\n",
       "      <td>Black</td>\n",
       "      <td>Female</td>\n",
       "      <td>2964</td>\n",
       "      <td>0</td>\n",
       "      <td>40</td>\n",
       "      <td>United-States</td>\n",
       "      <td>&lt;=50K</td>\n",
       "    </tr>\n",
       "    <tr>\n",
       "      <th>...</th>\n",
       "      <td>...</td>\n",
       "      <td>...</td>\n",
       "      <td>...</td>\n",
       "      <td>...</td>\n",
       "      <td>...</td>\n",
       "      <td>...</td>\n",
       "      <td>...</td>\n",
       "      <td>...</td>\n",
       "      <td>...</td>\n",
       "      <td>...</td>\n",
       "      <td>...</td>\n",
       "      <td>...</td>\n",
       "      <td>...</td>\n",
       "      <td>...</td>\n",
       "      <td>...</td>\n",
       "    </tr>\n",
       "    <tr>\n",
       "      <th>32277</th>\n",
       "      <td>90</td>\n",
       "      <td>Private</td>\n",
       "      <td>313749</td>\n",
       "      <td>HS-grad</td>\n",
       "      <td>9</td>\n",
       "      <td>Widowed</td>\n",
       "      <td>Adm-clerical</td>\n",
       "      <td>Unmarried</td>\n",
       "      <td>White</td>\n",
       "      <td>Female</td>\n",
       "      <td>0</td>\n",
       "      <td>0</td>\n",
       "      <td>25</td>\n",
       "      <td>United-States</td>\n",
       "      <td>&lt;=50K</td>\n",
       "    </tr>\n",
       "    <tr>\n",
       "      <th>32367</th>\n",
       "      <td>90</td>\n",
       "      <td>Local-gov</td>\n",
       "      <td>214594</td>\n",
       "      <td>7th-8th</td>\n",
       "      <td>4</td>\n",
       "      <td>Married-civ-spouse</td>\n",
       "      <td>Protective-serv</td>\n",
       "      <td>Husband</td>\n",
       "      <td>White</td>\n",
       "      <td>Male</td>\n",
       "      <td>2653</td>\n",
       "      <td>0</td>\n",
       "      <td>40</td>\n",
       "      <td>United-States</td>\n",
       "      <td>&lt;=50K</td>\n",
       "    </tr>\n",
       "    <tr>\n",
       "      <th>32459</th>\n",
       "      <td>85</td>\n",
       "      <td>Private</td>\n",
       "      <td>98611</td>\n",
       "      <td>Bachelors</td>\n",
       "      <td>13</td>\n",
       "      <td>Married-civ-spouse</td>\n",
       "      <td>Exec-managerial</td>\n",
       "      <td>Husband</td>\n",
       "      <td>White</td>\n",
       "      <td>Male</td>\n",
       "      <td>0</td>\n",
       "      <td>0</td>\n",
       "      <td>3</td>\n",
       "      <td>Poland</td>\n",
       "      <td>&lt;=50K</td>\n",
       "    </tr>\n",
       "    <tr>\n",
       "      <th>32494</th>\n",
       "      <td>82</td>\n",
       "      <td>Private</td>\n",
       "      <td>403910</td>\n",
       "      <td>HS-grad</td>\n",
       "      <td>9</td>\n",
       "      <td>Never-married</td>\n",
       "      <td>Prof-specialty</td>\n",
       "      <td>Not-in-family</td>\n",
       "      <td>White</td>\n",
       "      <td>Male</td>\n",
       "      <td>0</td>\n",
       "      <td>0</td>\n",
       "      <td>3</td>\n",
       "      <td>United-States</td>\n",
       "      <td>&lt;=50K</td>\n",
       "    </tr>\n",
       "    <tr>\n",
       "      <th>32525</th>\n",
       "      <td>81</td>\n",
       "      <td>Private</td>\n",
       "      <td>120478</td>\n",
       "      <td>Assoc-voc</td>\n",
       "      <td>11</td>\n",
       "      <td>Divorced</td>\n",
       "      <td>Prof-specialty</td>\n",
       "      <td>Unmarried</td>\n",
       "      <td>White</td>\n",
       "      <td>Female</td>\n",
       "      <td>0</td>\n",
       "      <td>0</td>\n",
       "      <td>1</td>\n",
       "      <td>United-States</td>\n",
       "      <td>&lt;=50K</td>\n",
       "    </tr>\n",
       "  </tbody>\n",
       "</table>\n",
       "<p>166 rows × 15 columns</p>\n",
       "</div>"
      ],
      "text/plain": [
       "       Age          workclass  fnlwgt      Education  education-num  \\\n",
       "74      79            Private  124744   Some-college             10   \n",
       "222     90            Private   51744        HS-grad              9   \n",
       "430     80            Private  107762        HS-grad              9   \n",
       "918     81   Self-emp-not-inc  136063        HS-grad              9   \n",
       "978     78            Private  182977        HS-grad              9   \n",
       "...    ...                ...     ...            ...            ...   \n",
       "32277   90            Private  313749        HS-grad              9   \n",
       "32367   90          Local-gov  214594        7th-8th              4   \n",
       "32459   85            Private   98611      Bachelors             13   \n",
       "32494   82            Private  403910        HS-grad              9   \n",
       "32525   81            Private  120478      Assoc-voc             11   \n",
       "\n",
       "            Martial-Status        Occupation     relationship    race  \\\n",
       "74      Married-civ-spouse    Prof-specialty   Other-relative   White   \n",
       "222          Never-married     Other-service    Not-in-family   Black   \n",
       "430                Widowed    Prof-specialty    Not-in-family   White   \n",
       "918     Married-civ-spouse   Exec-managerial          Husband   White   \n",
       "978                Widowed     Other-service    Not-in-family   Black   \n",
       "...                    ...               ...              ...     ...   \n",
       "32277              Widowed      Adm-clerical        Unmarried   White   \n",
       "32367   Married-civ-spouse   Protective-serv          Husband   White   \n",
       "32459   Married-civ-spouse   Exec-managerial          Husband   White   \n",
       "32494        Never-married    Prof-specialty    Not-in-family   White   \n",
       "32525             Divorced    Prof-specialty        Unmarried   White   \n",
       "\n",
       "           sex  capital-gain  capital-loss  hour-per-week  native-country  \\\n",
       "74        Male             0             0             20   United-States   \n",
       "222       Male             0          2206             40   United-States   \n",
       "430       Male             0             0             24   United-States   \n",
       "918       Male             0             0             30   United-States   \n",
       "978     Female          2964             0             40   United-States   \n",
       "...        ...           ...           ...            ...             ...   \n",
       "32277   Female             0             0             25   United-States   \n",
       "32367     Male          2653             0             40   United-States   \n",
       "32459     Male             0             0              3          Poland   \n",
       "32494     Male             0             0              3   United-States   \n",
       "32525   Female             0             0              1   United-States   \n",
       "\n",
       "       Salary  \n",
       "74      <=50K  \n",
       "222     <=50K  \n",
       "430     <=50K  \n",
       "918     <=50K  \n",
       "978     <=50K  \n",
       "...       ...  \n",
       "32277   <=50K  \n",
       "32367   <=50K  \n",
       "32459   <=50K  \n",
       "32494   <=50K  \n",
       "32525   <=50K  \n",
       "\n",
       "[166 rows x 15 columns]"
      ]
     },
     "execution_count": 15,
     "metadata": {},
     "output_type": "execute_result"
    }
   ],
   "source": [
    "df[df['Age'] > 77]"
   ]
  },
  {
   "cell_type": "markdown",
   "id": "96b39989-e992-485f-9f38-8e5d0d8f2d46",
   "metadata": {},
   "source": [
    "### Conclusions "
   ]
  },
  {
   "cell_type": "markdown",
   "id": "c0dd83fd-2c94-4f82-a267-a2b550e25921",
   "metadata": {},
   "source": [
    "- Age is normally(Almost) distributed\n",
    "- 0% of values are missing \n",
    "- There are some outliers"
   ]
  },
  {
   "cell_type": "markdown",
   "id": "0a7cc81a-b00f-489f-8f1b-856cc2d68799",
   "metadata": {},
   "source": [
    "### fnlwgt "
   ]
  },
  {
   "cell_type": "code",
   "execution_count": 18,
   "id": "e59b175b-3c28-4589-bca7-ad6cbd4ba64a",
   "metadata": {},
   "outputs": [
    {
     "data": {
      "text/plain": [
       "count    3.256100e+04\n",
       "mean     1.897784e+05\n",
       "std      1.055500e+05\n",
       "min      1.228500e+04\n",
       "25%      1.178270e+05\n",
       "50%      1.783560e+05\n",
       "75%      2.370510e+05\n",
       "max      1.484705e+06\n",
       "Name: fnlwgt, dtype: float64"
      ]
     },
     "execution_count": 18,
     "metadata": {},
     "output_type": "execute_result"
    }
   ],
   "source": [
    "df['fnlwgt'].describe()"
   ]
  },
  {
   "cell_type": "code",
   "execution_count": 19,
   "id": "a1df6125-9ed0-4438-a1c1-41d2969c90ec",
   "metadata": {},
   "outputs": [
    {
     "data": {
      "text/plain": [
       "<Axes: ylabel='Frequency'>"
      ]
     },
     "execution_count": 19,
     "metadata": {},
     "output_type": "execute_result"
    },
    {
     "data": {
      "image/png": "[encoded data removed]",
      "text/plain": [
       "<Figure size 640x480 with 1 Axes>"
      ]
     },
     "metadata": {},
     "output_type": "display_data"
    }
   ],
   "source": [
    "df['fnlwgt'].plot(kind='hist', bins=20)"
   ]
  },
  {
   "cell_type": "code",
   "execution_count": 20,
   "id": "8f84cba8-4c00-433e-b97a-073ce391d575",
   "metadata": {},
   "outputs": [
    {
     "data": {
      "text/plain": [
       "<Axes: ylabel='Density'>"
      ]
     },
     "execution_count": 20,
     "metadata": {},
     "output_type": "execute_result"
    },
    {
     "data": {
      "image/png": "[encoded data removed]",
      "text/plain": [
       "<Figure size 640x480 with 1 Axes>"
      ]
     },
     "metadata": {},
     "output_type": "display_data"
    }
   ],
   "source": [
    "df['fnlwgt'].plot(kind='kde')"
   ]
  },
  {
   "cell_type": "code",
   "execution_count": 21,
   "id": "57a6de7e-827e-4612-8760-9fb19f509cb0",
   "metadata": {},
   "outputs": [
    {
     "data": {
      "text/plain": [
       "1.4469800945789826"
      ]
     },
     "execution_count": 21,
     "metadata": {},
     "output_type": "execute_result"
    }
   ],
   "source": [
    "df['fnlwgt'].skew()"
   ]
  },
  {
   "cell_type": "code",
   "execution_count": 22,
   "id": "2cda2f67-4c32-4a66-a449-9c788f5c34e6",
   "metadata": {},
   "outputs": [
    {
     "data": {
      "text/plain": [
       "<Axes: >"
      ]
     },
     "execution_count": 22,
     "metadata": {},
     "output_type": "execute_result"
    },
    {
     "data": {
      "image/png": "[encoded data removed]",
      "text/plain": [
       "<Figure size 640x480 with 1 Axes>"
      ]
     },
     "metadata": {},
     "output_type": "display_data"
    }
   ],
   "source": [
    "df['fnlwgt'].plot(kind='box')"
   ]
  },
  {
   "cell_type": "code",
   "execution_count": 23,
   "id": "79b4c195-8712-4180-9a40-242b30ab31c9",
   "metadata": {},
   "outputs": [
    {
     "data": {
      "text/html": [
       "<div>\n",
       "<style scoped>\n",
       "    .dataframe tbody tr th:only-of-type {\n",
       "        vertical-align: middle;\n",
       "    }\n",
       "\n",
       "    .dataframe tbody tr th {\n",
       "        vertical-align: top;\n",
       "    }\n",
       "\n",
       "    .dataframe thead th {\n",
       "        text-align: right;\n",
       "    }\n",
       "</style>\n",
       "<table border=\"1\" class=\"dataframe\">\n",
       "  <thead>\n",
       "    <tr style=\"text-align: right;\">\n",
       "      <th></th>\n",
       "      <th>Age</th>\n",
       "      <th>workclass</th>\n",
       "      <th>fnlwgt</th>\n",
       "      <th>Education</th>\n",
       "      <th>education-num</th>\n",
       "      <th>Martial-Status</th>\n",
       "      <th>Occupation</th>\n",
       "      <th>relationship</th>\n",
       "      <th>race</th>\n",
       "      <th>sex</th>\n",
       "      <th>capital-gain</th>\n",
       "      <th>capital-loss</th>\n",
       "      <th>hour-per-week</th>\n",
       "      <th>native-country</th>\n",
       "      <th>Salary</th>\n",
       "    </tr>\n",
       "  </thead>\n",
       "  <tbody>\n",
       "    <tr>\n",
       "      <th>0</th>\n",
       "      <td>39</td>\n",
       "      <td>State-gov</td>\n",
       "      <td>77516</td>\n",
       "      <td>Bachelors</td>\n",
       "      <td>13</td>\n",
       "      <td>Never-married</td>\n",
       "      <td>Adm-clerical</td>\n",
       "      <td>Not-in-family</td>\n",
       "      <td>White</td>\n",
       "      <td>Male</td>\n",
       "      <td>2174</td>\n",
       "      <td>0</td>\n",
       "      <td>40</td>\n",
       "      <td>United-States</td>\n",
       "      <td>&lt;=50K</td>\n",
       "    </tr>\n",
       "    <tr>\n",
       "      <th>1</th>\n",
       "      <td>50</td>\n",
       "      <td>Self-emp-not-inc</td>\n",
       "      <td>83311</td>\n",
       "      <td>Bachelors</td>\n",
       "      <td>13</td>\n",
       "      <td>Married-civ-spouse</td>\n",
       "      <td>Exec-managerial</td>\n",
       "      <td>Husband</td>\n",
       "      <td>White</td>\n",
       "      <td>Male</td>\n",
       "      <td>0</td>\n",
       "      <td>0</td>\n",
       "      <td>13</td>\n",
       "      <td>United-States</td>\n",
       "      <td>&lt;=50K</td>\n",
       "    </tr>\n",
       "    <tr>\n",
       "      <th>2</th>\n",
       "      <td>38</td>\n",
       "      <td>Private</td>\n",
       "      <td>215646</td>\n",
       "      <td>HS-grad</td>\n",
       "      <td>9</td>\n",
       "      <td>Divorced</td>\n",
       "      <td>Handlers-cleaners</td>\n",
       "      <td>Not-in-family</td>\n",
       "      <td>White</td>\n",
       "      <td>Male</td>\n",
       "      <td>0</td>\n",
       "      <td>0</td>\n",
       "      <td>40</td>\n",
       "      <td>United-States</td>\n",
       "      <td>&lt;=50K</td>\n",
       "    </tr>\n",
       "    <tr>\n",
       "      <th>3</th>\n",
       "      <td>53</td>\n",
       "      <td>Private</td>\n",
       "      <td>234721</td>\n",
       "      <td>11th</td>\n",
       "      <td>7</td>\n",
       "      <td>Married-civ-spouse</td>\n",
       "      <td>Handlers-cleaners</td>\n",
       "      <td>Husband</td>\n",
       "      <td>Black</td>\n",
       "      <td>Male</td>\n",
       "      <td>0</td>\n",
       "      <td>0</td>\n",
       "      <td>40</td>\n",
       "      <td>United-States</td>\n",
       "      <td>&lt;=50K</td>\n",
       "    </tr>\n",
       "    <tr>\n",
       "      <th>4</th>\n",
       "      <td>28</td>\n",
       "      <td>Private</td>\n",
       "      <td>338409</td>\n",
       "      <td>Bachelors</td>\n",
       "      <td>13</td>\n",
       "      <td>Married-civ-spouse</td>\n",
       "      <td>Prof-specialty</td>\n",
       "      <td>Wife</td>\n",
       "      <td>Black</td>\n",
       "      <td>Female</td>\n",
       "      <td>0</td>\n",
       "      <td>0</td>\n",
       "      <td>40</td>\n",
       "      <td>Cuba</td>\n",
       "      <td>&lt;=50K</td>\n",
       "    </tr>\n",
       "    <tr>\n",
       "      <th>...</th>\n",
       "      <td>...</td>\n",
       "      <td>...</td>\n",
       "      <td>...</td>\n",
       "      <td>...</td>\n",
       "      <td>...</td>\n",
       "      <td>...</td>\n",
       "      <td>...</td>\n",
       "      <td>...</td>\n",
       "      <td>...</td>\n",
       "      <td>...</td>\n",
       "      <td>...</td>\n",
       "      <td>...</td>\n",
       "      <td>...</td>\n",
       "      <td>...</td>\n",
       "      <td>...</td>\n",
       "    </tr>\n",
       "    <tr>\n",
       "      <th>32556</th>\n",
       "      <td>27</td>\n",
       "      <td>Private</td>\n",
       "      <td>257302</td>\n",
       "      <td>Assoc-acdm</td>\n",
       "      <td>12</td>\n",
       "      <td>Married-civ-spouse</td>\n",
       "      <td>Tech-support</td>\n",
       "      <td>Wife</td>\n",
       "      <td>White</td>\n",
       "      <td>Female</td>\n",
       "      <td>0</td>\n",
       "      <td>0</td>\n",
       "      <td>38</td>\n",
       "      <td>United-States</td>\n",
       "      <td>&lt;=50K</td>\n",
       "    </tr>\n",
       "    <tr>\n",
       "      <th>32557</th>\n",
       "      <td>40</td>\n",
       "      <td>Private</td>\n",
       "      <td>154374</td>\n",
       "      <td>HS-grad</td>\n",
       "      <td>9</td>\n",
       "      <td>Married-civ-spouse</td>\n",
       "      <td>Machine-op-inspct</td>\n",
       "      <td>Husband</td>\n",
       "      <td>White</td>\n",
       "      <td>Male</td>\n",
       "      <td>0</td>\n",
       "      <td>0</td>\n",
       "      <td>40</td>\n",
       "      <td>United-States</td>\n",
       "      <td>&gt;50K</td>\n",
       "    </tr>\n",
       "    <tr>\n",
       "      <th>32558</th>\n",
       "      <td>58</td>\n",
       "      <td>Private</td>\n",
       "      <td>151910</td>\n",
       "      <td>HS-grad</td>\n",
       "      <td>9</td>\n",
       "      <td>Widowed</td>\n",
       "      <td>Adm-clerical</td>\n",
       "      <td>Unmarried</td>\n",
       "      <td>White</td>\n",
       "      <td>Female</td>\n",
       "      <td>0</td>\n",
       "      <td>0</td>\n",
       "      <td>40</td>\n",
       "      <td>United-States</td>\n",
       "      <td>&lt;=50K</td>\n",
       "    </tr>\n",
       "    <tr>\n",
       "      <th>32559</th>\n",
       "      <td>22</td>\n",
       "      <td>Private</td>\n",
       "      <td>201490</td>\n",
       "      <td>HS-grad</td>\n",
       "      <td>9</td>\n",
       "      <td>Never-married</td>\n",
       "      <td>Adm-clerical</td>\n",
       "      <td>Own-child</td>\n",
       "      <td>White</td>\n",
       "      <td>Male</td>\n",
       "      <td>0</td>\n",
       "      <td>0</td>\n",
       "      <td>20</td>\n",
       "      <td>United-States</td>\n",
       "      <td>&lt;=50K</td>\n",
       "    </tr>\n",
       "    <tr>\n",
       "      <th>32560</th>\n",
       "      <td>52</td>\n",
       "      <td>Self-emp-inc</td>\n",
       "      <td>287927</td>\n",
       "      <td>HS-grad</td>\n",
       "      <td>9</td>\n",
       "      <td>Married-civ-spouse</td>\n",
       "      <td>Exec-managerial</td>\n",
       "      <td>Wife</td>\n",
       "      <td>White</td>\n",
       "      <td>Female</td>\n",
       "      <td>15024</td>\n",
       "      <td>0</td>\n",
       "      <td>40</td>\n",
       "      <td>United-States</td>\n",
       "      <td>&gt;50K</td>\n",
       "    </tr>\n",
       "  </tbody>\n",
       "</table>\n",
       "<p>30883 rows × 15 columns</p>\n",
       "</div>"
      ],
      "text/plain": [
       "       Age          workclass  fnlwgt    Education  education-num  \\\n",
       "0       39          State-gov   77516    Bachelors             13   \n",
       "1       50   Self-emp-not-inc   83311    Bachelors             13   \n",
       "2       38            Private  215646      HS-grad              9   \n",
       "3       53            Private  234721         11th              7   \n",
       "4       28            Private  338409    Bachelors             13   \n",
       "...    ...                ...     ...          ...            ...   \n",
       "32556   27            Private  257302   Assoc-acdm             12   \n",
       "32557   40            Private  154374      HS-grad              9   \n",
       "32558   58            Private  151910      HS-grad              9   \n",
       "32559   22            Private  201490      HS-grad              9   \n",
       "32560   52       Self-emp-inc  287927      HS-grad              9   \n",
       "\n",
       "            Martial-Status          Occupation    relationship    race  \\\n",
       "0            Never-married        Adm-clerical   Not-in-family   White   \n",
       "1       Married-civ-spouse     Exec-managerial         Husband   White   \n",
       "2                 Divorced   Handlers-cleaners   Not-in-family   White   \n",
       "3       Married-civ-spouse   Handlers-cleaners         Husband   Black   \n",
       "4       Married-civ-spouse      Prof-specialty            Wife   Black   \n",
       "...                    ...                 ...             ...     ...   \n",
       "32556   Married-civ-spouse        Tech-support            Wife   White   \n",
       "32557   Married-civ-spouse   Machine-op-inspct         Husband   White   \n",
       "32558              Widowed        Adm-clerical       Unmarried   White   \n",
       "32559        Never-married        Adm-clerical       Own-child   White   \n",
       "32560   Married-civ-spouse     Exec-managerial            Wife   White   \n",
       "\n",
       "           sex  capital-gain  capital-loss  hour-per-week  native-country  \\\n",
       "0         Male          2174             0             40   United-States   \n",
       "1         Male             0             0             13   United-States   \n",
       "2         Male             0             0             40   United-States   \n",
       "3         Male             0             0             40   United-States   \n",
       "4       Female             0             0             40            Cuba   \n",
       "...        ...           ...           ...            ...             ...   \n",
       "32556   Female             0             0             38   United-States   \n",
       "32557     Male             0             0             40   United-States   \n",
       "32558   Female             0             0             40   United-States   \n",
       "32559     Male             0             0             20   United-States   \n",
       "32560   Female         15024             0             40   United-States   \n",
       "\n",
       "       Salary  \n",
       "0       <=50K  \n",
       "1       <=50K  \n",
       "2       <=50K  \n",
       "3       <=50K  \n",
       "4       <=50K  \n",
       "...       ...  \n",
       "32556   <=50K  \n",
       "32557    >50K  \n",
       "32558   <=50K  \n",
       "32559   <=50K  \n",
       "32560    >50K  \n",
       "\n",
       "[30883 rows x 15 columns]"
      ]
     },
     "execution_count": 23,
     "metadata": {},
     "output_type": "execute_result"
    }
   ],
   "source": [
    "df[df['fnlwgt'] >40000]"
   ]
  },
  {
   "cell_type": "markdown",
   "id": "f560ab0e-c099-4d63-ac1d-9d23d09c3b3f",
   "metadata": {},
   "source": [
    "### Conclusions\n",
    "- fnlwgt is less Distributed\n",
    "- 0% of values are missing\n",
    "- There are more outliers\n",
    "- Box plot is slightly squeezed"
   ]
  },
  {
   "cell_type": "markdown",
   "id": "55e0583f-b148-4c0a-a1cb-0b75907e554e",
   "metadata": {},
   "source": [
    "### education-num"
   ]
  },
  {
   "cell_type": "code",
   "execution_count": 24,
   "id": "6ac636e0-f3fb-4c91-ab0d-e6adedf83a48",
   "metadata": {},
   "outputs": [
    {
     "data": {
      "text/plain": [
       "count    32561.000000\n",
       "mean        10.080679\n",
       "std          2.572720\n",
       "min          1.000000\n",
       "25%          9.000000\n",
       "50%         10.000000\n",
       "75%         12.000000\n",
       "max         16.000000\n",
       "Name: education-num, dtype: float64"
      ]
     },
     "execution_count": 24,
     "metadata": {},
     "output_type": "execute_result"
    }
   ],
   "source": [
    "df['education-num'].describe()"
   ]
  },
  {
   "cell_type": "code",
   "execution_count": 25,
   "id": "35869abe-d21f-41eb-83ee-1ea4b7daf745",
   "metadata": {},
   "outputs": [
    {
     "data": {
      "text/plain": [
       "<Axes: ylabel='Frequency'>"
      ]
     },
     "execution_count": 25,
     "metadata": {},
     "output_type": "execute_result"
    },
    {
     "data": {
      "image/png": "[encoded data removed]",
      "text/plain": [
       "<Figure size 640x480 with 1 Axes>"
      ]
     },
     "metadata": {},
     "output_type": "display_data"
    }
   ],
   "source": [
    "df['education-num'].plot(kind='hist', bins=10)"
   ]
  },
  {
   "cell_type": "code",
   "execution_count": 26,
   "id": "561ac97e-ee3c-4e30-a4be-7cd26c6d64eb",
   "metadata": {},
   "outputs": [
    {
     "data": {
      "text/plain": [
       "<Axes: ylabel='Density'>"
      ]
     },
     "execution_count": 26,
     "metadata": {},
     "output_type": "execute_result"
    },
    {
     "data": {
      "image/png": "[encoded data removed]",
      "text/plain": [
       "<Figure size 640x480 with 1 Axes>"
      ]
     },
     "metadata": {},
     "output_type": "display_data"
    }
   ],
   "source": [
    "df['education-num'].plot(kind='kde')"
   ]
  },
  {
   "cell_type": "code",
   "execution_count": 27,
   "id": "186fdcb8-977b-4e53-a7fe-109c31d3f740",
   "metadata": {},
   "outputs": [
    {
     "data": {
      "text/plain": [
       "-0.3116758679102297"
      ]
     },
     "execution_count": 27,
     "metadata": {},
     "output_type": "execute_result"
    }
   ],
   "source": [
    "df['education-num'].skew()"
   ]
  },
  {
   "cell_type": "code",
   "execution_count": 28,
   "id": "7a600b6a-421c-4352-816b-26b70c709fad",
   "metadata": {},
   "outputs": [
    {
     "data": {
      "text/plain": [
       "<Axes: >"
      ]
     },
     "execution_count": 28,
     "metadata": {},
     "output_type": "execute_result"
    },
    {
     "data": {
      "image/png": "[encoded data removed]",
      "text/plain": [
       "<Figure size 640x480 with 1 Axes>"
      ]
     },
     "metadata": {},
     "output_type": "display_data"
    }
   ],
   "source": [
    "df['education-num'].plot(kind='box')"
   ]
  },
  {
   "cell_type": "code",
   "execution_count": 29,
   "id": "e33e49b1-7a6c-42b4-9bd0-d886bb3a6b3d",
   "metadata": {},
   "outputs": [
    {
     "data": {
      "text/html": [
       "<div>\n",
       "<style scoped>\n",
       "    .dataframe tbody tr th:only-of-type {\n",
       "        vertical-align: middle;\n",
       "    }\n",
       "\n",
       "    .dataframe tbody tr th {\n",
       "        vertical-align: top;\n",
       "    }\n",
       "\n",
       "    .dataframe thead th {\n",
       "        text-align: right;\n",
       "    }\n",
       "</style>\n",
       "<table border=\"1\" class=\"dataframe\">\n",
       "  <thead>\n",
       "    <tr style=\"text-align: right;\">\n",
       "      <th></th>\n",
       "      <th>Age</th>\n",
       "      <th>workclass</th>\n",
       "      <th>fnlwgt</th>\n",
       "      <th>Education</th>\n",
       "      <th>education-num</th>\n",
       "      <th>Martial-Status</th>\n",
       "      <th>Occupation</th>\n",
       "      <th>relationship</th>\n",
       "      <th>race</th>\n",
       "      <th>sex</th>\n",
       "      <th>capital-gain</th>\n",
       "      <th>capital-loss</th>\n",
       "      <th>hour-per-week</th>\n",
       "      <th>native-country</th>\n",
       "      <th>Salary</th>\n",
       "    </tr>\n",
       "  </thead>\n",
       "  <tbody>\n",
       "    <tr>\n",
       "      <th>15</th>\n",
       "      <td>34</td>\n",
       "      <td>Private</td>\n",
       "      <td>245487</td>\n",
       "      <td>7th-8th</td>\n",
       "      <td>4</td>\n",
       "      <td>Married-civ-spouse</td>\n",
       "      <td>Transport-moving</td>\n",
       "      <td>Husband</td>\n",
       "      <td>Amer-Indian-Eskimo</td>\n",
       "      <td>Male</td>\n",
       "      <td>0</td>\n",
       "      <td>0</td>\n",
       "      <td>45</td>\n",
       "      <td>Mexico</td>\n",
       "      <td>&lt;=50K</td>\n",
       "    </tr>\n",
       "    <tr>\n",
       "      <th>56</th>\n",
       "      <td>46</td>\n",
       "      <td>Private</td>\n",
       "      <td>216666</td>\n",
       "      <td>5th-6th</td>\n",
       "      <td>3</td>\n",
       "      <td>Married-civ-spouse</td>\n",
       "      <td>Machine-op-inspct</td>\n",
       "      <td>Husband</td>\n",
       "      <td>White</td>\n",
       "      <td>Male</td>\n",
       "      <td>0</td>\n",
       "      <td>0</td>\n",
       "      <td>40</td>\n",
       "      <td>Mexico</td>\n",
       "      <td>&lt;=50K</td>\n",
       "    </tr>\n",
       "    <tr>\n",
       "      <th>61</th>\n",
       "      <td>32</td>\n",
       "      <td>Private</td>\n",
       "      <td>293936</td>\n",
       "      <td>7th-8th</td>\n",
       "      <td>4</td>\n",
       "      <td>Married-spouse-absent</td>\n",
       "      <td>Prof-specialty</td>\n",
       "      <td>Not-in-family</td>\n",
       "      <td>White</td>\n",
       "      <td>Male</td>\n",
       "      <td>0</td>\n",
       "      <td>0</td>\n",
       "      <td>40</td>\n",
       "      <td>United-States</td>\n",
       "      <td>&lt;=50K</td>\n",
       "    </tr>\n",
       "    <tr>\n",
       "      <th>79</th>\n",
       "      <td>31</td>\n",
       "      <td>Local-gov</td>\n",
       "      <td>125927</td>\n",
       "      <td>7th-8th</td>\n",
       "      <td>4</td>\n",
       "      <td>Married-civ-spouse</td>\n",
       "      <td>Farming-fishing</td>\n",
       "      <td>Husband</td>\n",
       "      <td>White</td>\n",
       "      <td>Male</td>\n",
       "      <td>0</td>\n",
       "      <td>0</td>\n",
       "      <td>40</td>\n",
       "      <td>United-States</td>\n",
       "      <td>&lt;=50K</td>\n",
       "    </tr>\n",
       "    <tr>\n",
       "      <th>160</th>\n",
       "      <td>68</td>\n",
       "      <td>Private</td>\n",
       "      <td>38317</td>\n",
       "      <td>1st-4th</td>\n",
       "      <td>2</td>\n",
       "      <td>Divorced</td>\n",
       "      <td>Prof-specialty</td>\n",
       "      <td>Not-in-family</td>\n",
       "      <td>White</td>\n",
       "      <td>Female</td>\n",
       "      <td>0</td>\n",
       "      <td>0</td>\n",
       "      <td>20</td>\n",
       "      <td>United-States</td>\n",
       "      <td>&lt;=50K</td>\n",
       "    </tr>\n",
       "    <tr>\n",
       "      <th>...</th>\n",
       "      <td>...</td>\n",
       "      <td>...</td>\n",
       "      <td>...</td>\n",
       "      <td>...</td>\n",
       "      <td>...</td>\n",
       "      <td>...</td>\n",
       "      <td>...</td>\n",
       "      <td>...</td>\n",
       "      <td>...</td>\n",
       "      <td>...</td>\n",
       "      <td>...</td>\n",
       "      <td>...</td>\n",
       "      <td>...</td>\n",
       "      <td>...</td>\n",
       "      <td>...</td>\n",
       "    </tr>\n",
       "    <tr>\n",
       "      <th>32431</th>\n",
       "      <td>51</td>\n",
       "      <td>Private</td>\n",
       "      <td>274502</td>\n",
       "      <td>7th-8th</td>\n",
       "      <td>4</td>\n",
       "      <td>Divorced</td>\n",
       "      <td>Machine-op-inspct</td>\n",
       "      <td>Not-in-family</td>\n",
       "      <td>White</td>\n",
       "      <td>Female</td>\n",
       "      <td>0</td>\n",
       "      <td>0</td>\n",
       "      <td>48</td>\n",
       "      <td>United-States</td>\n",
       "      <td>&lt;=50K</td>\n",
       "    </tr>\n",
       "    <tr>\n",
       "      <th>32432</th>\n",
       "      <td>36</td>\n",
       "      <td>Private</td>\n",
       "      <td>208068</td>\n",
       "      <td>Preschool</td>\n",
       "      <td>1</td>\n",
       "      <td>Divorced</td>\n",
       "      <td>Other-service</td>\n",
       "      <td>Not-in-family</td>\n",
       "      <td>Other</td>\n",
       "      <td>Male</td>\n",
       "      <td>0</td>\n",
       "      <td>0</td>\n",
       "      <td>72</td>\n",
       "      <td>Mexico</td>\n",
       "      <td>&lt;=50K</td>\n",
       "    </tr>\n",
       "    <tr>\n",
       "      <th>32448</th>\n",
       "      <td>61</td>\n",
       "      <td>Private</td>\n",
       "      <td>137554</td>\n",
       "      <td>7th-8th</td>\n",
       "      <td>4</td>\n",
       "      <td>Married-civ-spouse</td>\n",
       "      <td>Craft-repair</td>\n",
       "      <td>Husband</td>\n",
       "      <td>White</td>\n",
       "      <td>Male</td>\n",
       "      <td>0</td>\n",
       "      <td>0</td>\n",
       "      <td>40</td>\n",
       "      <td>United-States</td>\n",
       "      <td>&lt;=50K</td>\n",
       "    </tr>\n",
       "    <tr>\n",
       "      <th>32479</th>\n",
       "      <td>64</td>\n",
       "      <td>State-gov</td>\n",
       "      <td>222966</td>\n",
       "      <td>7th-8th</td>\n",
       "      <td>4</td>\n",
       "      <td>Married-civ-spouse</td>\n",
       "      <td>Other-service</td>\n",
       "      <td>Wife</td>\n",
       "      <td>Black</td>\n",
       "      <td>Female</td>\n",
       "      <td>0</td>\n",
       "      <td>0</td>\n",
       "      <td>40</td>\n",
       "      <td>United-States</td>\n",
       "      <td>&lt;=50K</td>\n",
       "    </tr>\n",
       "    <tr>\n",
       "      <th>32517</th>\n",
       "      <td>36</td>\n",
       "      <td>Private</td>\n",
       "      <td>131459</td>\n",
       "      <td>7th-8th</td>\n",
       "      <td>4</td>\n",
       "      <td>Married-civ-spouse</td>\n",
       "      <td>Craft-repair</td>\n",
       "      <td>Husband</td>\n",
       "      <td>White</td>\n",
       "      <td>Male</td>\n",
       "      <td>0</td>\n",
       "      <td>0</td>\n",
       "      <td>40</td>\n",
       "      <td>United-States</td>\n",
       "      <td>&lt;=50K</td>\n",
       "    </tr>\n",
       "  </tbody>\n",
       "</table>\n",
       "<p>1198 rows × 15 columns</p>\n",
       "</div>"
      ],
      "text/plain": [
       "       Age   workclass  fnlwgt   Education  education-num  \\\n",
       "15      34     Private  245487     7th-8th              4   \n",
       "56      46     Private  216666     5th-6th              3   \n",
       "61      32     Private  293936     7th-8th              4   \n",
       "79      31   Local-gov  125927     7th-8th              4   \n",
       "160     68     Private   38317     1st-4th              2   \n",
       "...    ...         ...     ...         ...            ...   \n",
       "32431   51     Private  274502     7th-8th              4   \n",
       "32432   36     Private  208068   Preschool              1   \n",
       "32448   61     Private  137554     7th-8th              4   \n",
       "32479   64   State-gov  222966     7th-8th              4   \n",
       "32517   36     Private  131459     7th-8th              4   \n",
       "\n",
       "               Martial-Status          Occupation    relationship  \\\n",
       "15         Married-civ-spouse    Transport-moving         Husband   \n",
       "56         Married-civ-spouse   Machine-op-inspct         Husband   \n",
       "61      Married-spouse-absent      Prof-specialty   Not-in-family   \n",
       "79         Married-civ-spouse     Farming-fishing         Husband   \n",
       "160                  Divorced      Prof-specialty   Not-in-family   \n",
       "...                       ...                 ...             ...   \n",
       "32431                Divorced   Machine-op-inspct   Not-in-family   \n",
       "32432                Divorced       Other-service   Not-in-family   \n",
       "32448      Married-civ-spouse        Craft-repair         Husband   \n",
       "32479      Married-civ-spouse       Other-service            Wife   \n",
       "32517      Married-civ-spouse        Craft-repair         Husband   \n",
       "\n",
       "                      race      sex  capital-gain  capital-loss  \\\n",
       "15      Amer-Indian-Eskimo     Male             0             0   \n",
       "56                   White     Male             0             0   \n",
       "61                   White     Male             0             0   \n",
       "79                   White     Male             0             0   \n",
       "160                  White   Female             0             0   \n",
       "...                    ...      ...           ...           ...   \n",
       "32431                White   Female             0             0   \n",
       "32432                Other     Male             0             0   \n",
       "32448                White     Male             0             0   \n",
       "32479                Black   Female             0             0   \n",
       "32517                White     Male             0             0   \n",
       "\n",
       "       hour-per-week  native-country  Salary  \n",
       "15                45          Mexico   <=50K  \n",
       "56                40          Mexico   <=50K  \n",
       "61                40   United-States   <=50K  \n",
       "79                40   United-States   <=50K  \n",
       "160               20   United-States   <=50K  \n",
       "...              ...             ...     ...  \n",
       "32431             48   United-States   <=50K  \n",
       "32432             72          Mexico   <=50K  \n",
       "32448             40   United-States   <=50K  \n",
       "32479             40   United-States   <=50K  \n",
       "32517             40   United-States   <=50K  \n",
       "\n",
       "[1198 rows x 15 columns]"
      ]
     },
     "execution_count": 29,
     "metadata": {},
     "output_type": "execute_result"
    }
   ],
   "source": [
    "df[df['education-num'] < 5]"
   ]
  },
  {
   "cell_type": "markdown",
   "id": "efa2bc44-087c-4920-8db1-13c9083c0dae",
   "metadata": {},
   "source": [
    "### Conclusions"
   ]
  },
  {
   "cell_type": "markdown",
   "id": "1b8502db-ceec-490f-87cb-96ba9c4f69e7",
   "metadata": {},
   "source": [
    "- eduaction-num is almost distributed\n",
    "- 0% of values are missing\n",
    "- There are some outliers"
   ]
  },
  {
   "cell_type": "markdown",
   "id": "a0c676e1-6ca9-4566-b9be-f06389d49594",
   "metadata": {},
   "source": [
    "### capital-gain"
   ]
  },
  {
   "cell_type": "code",
   "execution_count": 31,
   "id": "d5de8120-dd22-46d4-9185-6c0096592eff",
   "metadata": {},
   "outputs": [
    {
     "data": {
      "text/plain": [
       "count    32561.000000\n",
       "mean      1077.648844\n",
       "std       7385.292085\n",
       "min          0.000000\n",
       "25%          0.000000\n",
       "50%          0.000000\n",
       "75%          0.000000\n",
       "max      99999.000000\n",
       "Name: capital-gain, dtype: float64"
      ]
     },
     "execution_count": 31,
     "metadata": {},
     "output_type": "execute_result"
    }
   ],
   "source": [
    "df['capital-gain'].describe()"
   ]
  },
  {
   "cell_type": "code",
   "execution_count": 32,
   "id": "51a839c0-d72d-46cd-9047-385136c547b1",
   "metadata": {},
   "outputs": [
    {
     "data": {
      "text/plain": [
       "<Axes: ylabel='Frequency'>"
      ]
     },
     "execution_count": 32,
     "metadata": {},
     "output_type": "execute_result"
    },
    {
     "data": {
      "image/png": "[encoded data removed]",
      "text/plain": [
       "<Figure size 640x480 with 1 Axes>"
      ]
     },
     "metadata": {},
     "output_type": "display_data"
    }
   ],
   "source": [
    "df['capital-gain'].plot(kind='hist', bins=20)"
   ]
  },
  {
   "cell_type": "code",
   "execution_count": 33,
   "id": "31443ff2-183f-4ea9-8f90-b5d93ce29293",
   "metadata": {},
   "outputs": [
    {
     "data": {
      "text/plain": [
       "<Axes: ylabel='Density'>"
      ]
     },
     "execution_count": 33,
     "metadata": {},
     "output_type": "execute_result"
    },
    {
     "data": {
      "image/png": "[encoded data removed]",
      "text/plain": [
       "<Figure size 640x480 with 1 Axes>"
      ]
     },
     "metadata": {},
     "output_type": "display_data"
    }
   ],
   "source": [
    "df['capital-gain'].plot(kind='kde')"
   ]
  },
  {
   "cell_type": "code",
   "execution_count": 34,
   "id": "f16fec83-d986-4c04-b5c2-f3a3298c3560",
   "metadata": {},
   "outputs": [
    {
     "data": {
      "text/plain": [
       "11.953847687699799"
      ]
     },
     "execution_count": 34,
     "metadata": {},
     "output_type": "execute_result"
    }
   ],
   "source": [
    "df['capital-gain'].skew()"
   ]
  },
  {
   "cell_type": "code",
   "execution_count": 35,
   "id": "d3103d54-1eda-4ed9-a55b-8fd88100be70",
   "metadata": {},
   "outputs": [
    {
     "data": {
      "text/plain": [
       "<Axes: >"
      ]
     },
     "execution_count": 35,
     "metadata": {},
     "output_type": "execute_result"
    },
    {
     "data": {
      "image/png": "[encoded data removed]",
      "text/plain": [
       "<Figure size 640x480 with 1 Axes>"
      ]
     },
     "metadata": {},
     "output_type": "display_data"
    }
   ],
   "source": [
    "df['capital-gain'].plot(kind='box')"
   ]
  },
  {
   "cell_type": "markdown",
   "id": "55e443e8-dc5d-4131-917c-a7ea52edee9c",
   "metadata": {},
   "source": [
    "### Conclusions"
   ]
  },
  {
   "cell_type": "markdown",
   "id": "4f0acaaa-b8fe-4a7b-86d3-a56a952c2c31",
   "metadata": {},
   "source": [
    "- capital-gain is slightly Distributed\n",
    "- 0% of values are missing\n",
    "- There are mostly outliers\n",
    "- Box plot is also overlapped "
   ]
  },
  {
   "cell_type": "markdown",
   "id": "255c9455-8d90-4c97-b083-4a30e42ccf60",
   "metadata": {},
   "source": [
    "### Capital-loss"
   ]
  },
  {
   "cell_type": "code",
   "execution_count": 37,
   "id": "c5c9f1cd-28f4-46b4-b975-eba2da8d8e9f",
   "metadata": {},
   "outputs": [
    {
     "data": {
      "text/plain": [
       "count    32561.000000\n",
       "mean        87.303830\n",
       "std        402.960219\n",
       "min          0.000000\n",
       "25%          0.000000\n",
       "50%          0.000000\n",
       "75%          0.000000\n",
       "max       4356.000000\n",
       "Name: capital-loss, dtype: float64"
      ]
     },
     "execution_count": 37,
     "metadata": {},
     "output_type": "execute_result"
    }
   ],
   "source": [
    "df['capital-loss'].describe()"
   ]
  },
  {
   "cell_type": "code",
   "execution_count": 38,
   "id": "a8a3bfd2-50ce-49c1-b393-1bf38e964011",
   "metadata": {},
   "outputs": [
    {
     "data": {
      "text/plain": [
       "<Axes: ylabel='Frequency'>"
      ]
     },
     "execution_count": 38,
     "metadata": {},
     "output_type": "execute_result"
    },
    {
     "data": {
      "image/png": "[encoded data removed]",
      "text/plain": [
       "<Figure size 640x480 with 1 Axes>"
      ]
     },
     "metadata": {},
     "output_type": "display_data"
    }
   ],
   "source": [
    "df['capital-loss'].plot(kind='hist', bins=10)\n"
   ]
  },
  {
   "cell_type": "code",
   "execution_count": 39,
   "id": "c47e5215-74c5-4207-9a56-70e33adbf9b5",
   "metadata": {},
   "outputs": [
    {
     "data": {
      "text/plain": [
       "<Axes: ylabel='Density'>"
      ]
     },
     "execution_count": 39,
     "metadata": {},
     "output_type": "execute_result"
    },
    {
     "data": {
      "image/png": "[encoded data removed]",
      "text/plain": [
       "<Figure size 640x480 with 1 Axes>"
      ]
     },
     "metadata": {},
     "output_type": "display_data"
    }
   ],
   "source": [
    "df['capital-loss'].plot(kind='kde')\n"
   ]
  },
  {
   "cell_type": "code",
   "execution_count": 40,
   "id": "0e43258e-7896-4a91-8036-789baf1d7830",
   "metadata": {},
   "outputs": [
    {
     "data": {
      "text/plain": [
       "4.594629121679692"
      ]
     },
     "execution_count": 40,
     "metadata": {},
     "output_type": "execute_result"
    }
   ],
   "source": [
    "df['capital-loss'].skew()\n"
   ]
  },
  {
   "cell_type": "code",
   "execution_count": 41,
   "id": "a626c342-1204-43ee-92bb-6e5a6faa968d",
   "metadata": {},
   "outputs": [
    {
     "data": {
      "text/plain": [
       "<Axes: >"
      ]
     },
     "execution_count": 41,
     "metadata": {},
     "output_type": "execute_result"
    },
    {
     "data": {
      "image/png": "[encoded data removed]",
      "text/plain": [
       "<Figure size 640x480 with 1 Axes>"
      ]
     },
     "metadata": {},
     "output_type": "display_data"
    }
   ],
   "source": [
    "df['capital-loss'].plot(kind='box')\n"
   ]
  },
  {
   "cell_type": "markdown",
   "id": "0a8f2fe0-fe1f-43bb-a015-d9afc167a1e3",
   "metadata": {},
   "source": [
    "### Conclusions\n",
    "\n",
    "- fnlwgt is slightly Distributed\n",
    "- 0% of values are missing\n",
    "- There are only outliers\n",
    "- box plot is also overlapped"
   ]
  },
  {
   "cell_type": "markdown",
   "id": "aab7f02f-dad4-4e82-a932-a106e8169328",
   "metadata": {},
   "source": [
    "### hour-per-week"
   ]
  },
  {
   "cell_type": "code",
   "execution_count": 42,
   "id": "ad16580e-417a-44a0-95f8-9d23c73a9760",
   "metadata": {},
   "outputs": [
    {
     "data": {
      "text/plain": [
       "count    32561.000000\n",
       "mean        40.437456\n",
       "std         12.347429\n",
       "min          1.000000\n",
       "25%         40.000000\n",
       "50%         40.000000\n",
       "75%         45.000000\n",
       "max         99.000000\n",
       "Name: hour-per-week, dtype: float64"
      ]
     },
     "execution_count": 42,
     "metadata": {},
     "output_type": "execute_result"
    }
   ],
   "source": [
    "df['hour-per-week'].describe()"
   ]
  },
  {
   "cell_type": "code",
   "execution_count": 43,
   "id": "81851a33-e1fc-438b-84b8-d4bb32a3b6df",
   "metadata": {},
   "outputs": [
    {
     "data": {
      "text/plain": [
       "<Axes: ylabel='Frequency'>"
      ]
     },
     "execution_count": 43,
     "metadata": {},
     "output_type": "execute_result"
    },
    {
     "data": {
      "image/png": "[encoded data removed]",
      "text/plain": [
       "<Figure size 640x480 with 1 Axes>"
      ]
     },
     "metadata": {},
     "output_type": "display_data"
    }
   ],
   "source": [
    "df['hour-per-week'].plot(kind='hist', bins=20)"
   ]
  },
  {
   "cell_type": "code",
   "execution_count": 44,
   "id": "4cd0bdde-d31a-4bb5-93ff-b9cc62a81ebe",
   "metadata": {},
   "outputs": [
    {
     "data": {
      "text/plain": [
       "<Axes: ylabel='Density'>"
      ]
     },
     "execution_count": 44,
     "metadata": {},
     "output_type": "execute_result"
    },
    {
     "data": {
      "image/png": "[encoded data removed]",
      "text/plain": [
       "<Figure size 640x480 with 1 Axes>"
      ]
     },
     "metadata": {},
     "output_type": "display_data"
    }
   ],
   "source": [
    "df['hour-per-week'].plot(kind='kde')"
   ]
  },
  {
   "cell_type": "code",
   "execution_count": 45,
   "id": "43f8a528-b533-4910-9ba3-4734feb42250",
   "metadata": {},
   "outputs": [
    {
     "data": {
      "text/plain": [
       "0.22764253680450092"
      ]
     },
     "execution_count": 45,
     "metadata": {},
     "output_type": "execute_result"
    }
   ],
   "source": [
    "df['hour-per-week'].skew()"
   ]
  },
  {
   "cell_type": "code",
   "execution_count": 46,
   "id": "b07e53d0-1a89-4c82-9198-37ab4f859572",
   "metadata": {},
   "outputs": [
    {
     "data": {
      "text/plain": [
       "<Axes: >"
      ]
     },
     "execution_count": 46,
     "metadata": {},
     "output_type": "execute_result"
    },
    {
     "data": {
      "image/png": "[encoded data removed]",
      "text/plain": [
       "<Figure size 640x480 with 1 Axes>"
      ]
     },
     "metadata": {},
     "output_type": "display_data"
    }
   ],
   "source": [
    "df['hour-per-week'].plot(kind='box')"
   ]
  },
  {
   "cell_type": "markdown",
   "id": "a0f947a7-e607-401c-8a4a-1aed9ae65489",
   "metadata": {},
   "source": [
    "### Conclusions\n",
    "- hour-per-week is less Distributed\n",
    "- 0% of values are missing\n",
    "- There are outliers on below minimum and above maximum but there are more outliers on above maximum\n",
    "- box plot is also squeezed"
   ]
  },
  {
   "cell_type": "markdown",
   "id": "43f4344d-84e5-491c-92a2-255155b3c386",
   "metadata": {},
   "source": [
    "## Bivariate Analysis"
   ]
  },
  {
   "cell_type": "markdown",
   "id": "503e74de-7f63-4ba9-a049-4ecb361f113c",
   "metadata": {},
   "source": [
    "### Categorical - Categorical"
   ]
  },
  {
   "cell_type": "code",
   "execution_count": 47,
   "id": "24f82016-5f2e-41b0-acd8-0d70c84bb580",
   "metadata": {},
   "outputs": [
    {
     "data": {
      "text/html": [
       "<div>\n",
       "<style scoped>\n",
       "    .dataframe tbody tr th:only-of-type {\n",
       "        vertical-align: middle;\n",
       "    }\n",
       "\n",
       "    .dataframe tbody tr th {\n",
       "        vertical-align: top;\n",
       "    }\n",
       "\n",
       "    .dataframe thead th {\n",
       "        text-align: right;\n",
       "    }\n",
       "</style>\n",
       "<table border=\"1\" class=\"dataframe\">\n",
       "  <thead>\n",
       "    <tr style=\"text-align: right;\">\n",
       "      <th>Education</th>\n",
       "      <th>10th</th>\n",
       "      <th>11th</th>\n",
       "      <th>12th</th>\n",
       "      <th>1st-4th</th>\n",
       "      <th>5th-6th</th>\n",
       "      <th>7th-8th</th>\n",
       "      <th>9th</th>\n",
       "      <th>Assoc-acdm</th>\n",
       "      <th>Assoc-voc</th>\n",
       "      <th>Bachelors</th>\n",
       "      <th>Doctorate</th>\n",
       "      <th>HS-grad</th>\n",
       "      <th>Masters</th>\n",
       "      <th>Preschool</th>\n",
       "      <th>Prof-school</th>\n",
       "      <th>Some-college</th>\n",
       "    </tr>\n",
       "    <tr>\n",
       "      <th>Salary</th>\n",
       "      <th></th>\n",
       "      <th></th>\n",
       "      <th></th>\n",
       "      <th></th>\n",
       "      <th></th>\n",
       "      <th></th>\n",
       "      <th></th>\n",
       "      <th></th>\n",
       "      <th></th>\n",
       "      <th></th>\n",
       "      <th></th>\n",
       "      <th></th>\n",
       "      <th></th>\n",
       "      <th></th>\n",
       "      <th></th>\n",
       "      <th></th>\n",
       "    </tr>\n",
       "  </thead>\n",
       "  <tbody>\n",
       "    <tr>\n",
       "      <th>&lt;=50K</th>\n",
       "      <td>93.35477</td>\n",
       "      <td>94.893617</td>\n",
       "      <td>92.378753</td>\n",
       "      <td>96.428571</td>\n",
       "      <td>95.195195</td>\n",
       "      <td>93.80805</td>\n",
       "      <td>94.747082</td>\n",
       "      <td>75.164011</td>\n",
       "      <td>73.878437</td>\n",
       "      <td>58.524743</td>\n",
       "      <td>25.90799</td>\n",
       "      <td>84.049138</td>\n",
       "      <td>44.341265</td>\n",
       "      <td>100.0</td>\n",
       "      <td>26.5625</td>\n",
       "      <td>80.976546</td>\n",
       "    </tr>\n",
       "    <tr>\n",
       "      <th>&gt;50K</th>\n",
       "      <td>6.64523</td>\n",
       "      <td>5.106383</td>\n",
       "      <td>7.621247</td>\n",
       "      <td>3.571429</td>\n",
       "      <td>4.804805</td>\n",
       "      <td>6.19195</td>\n",
       "      <td>5.252918</td>\n",
       "      <td>24.835989</td>\n",
       "      <td>26.121563</td>\n",
       "      <td>41.475257</td>\n",
       "      <td>74.09201</td>\n",
       "      <td>15.950862</td>\n",
       "      <td>55.658735</td>\n",
       "      <td>0.0</td>\n",
       "      <td>73.4375</td>\n",
       "      <td>19.023454</td>\n",
       "    </tr>\n",
       "  </tbody>\n",
       "</table>\n",
       "</div>"
      ],
      "text/plain": [
       "Education      10th       11th       12th    1st-4th    5th-6th   7th-8th  \\\n",
       "Salary                                                                      \n",
       " <=50K     93.35477  94.893617  92.378753  96.428571  95.195195  93.80805   \n",
       " >50K       6.64523   5.106383   7.621247   3.571429   4.804805   6.19195   \n",
       "\n",
       "Education        9th   Assoc-acdm   Assoc-voc   Bachelors   Doctorate  \\\n",
       "Salary                                                                  \n",
       " <=50K     94.747082    75.164011   73.878437   58.524743    25.90799   \n",
       " >50K       5.252918    24.835989   26.121563   41.475257    74.09201   \n",
       "\n",
       "Education    HS-grad    Masters   Preschool   Prof-school   Some-college  \n",
       "Salary                                                                    \n",
       " <=50K     84.049138  44.341265       100.0       26.5625      80.976546  \n",
       " >50K      15.950862  55.658735         0.0       73.4375      19.023454  "
      ]
     },
     "execution_count": 47,
     "metadata": {},
     "output_type": "execute_result"
    }
   ],
   "source": [
    "pd.crosstab(df['Salary'],df['Education'],normalize='columns')*100 "
   ]
  },
  {
   "cell_type": "markdown",
   "id": "71c86300-f014-4045-9b67-65879d3d02b7",
   "metadata": {},
   "source": [
    "### Conclusions"
   ]
  },
  {
   "cell_type": "markdown",
   "id": "e8dae6d9-e645-4285-a68c-427ce5b7623a",
   "metadata": {},
   "source": [
    "it is clearly visible that in Preschool category all the people's salary is less than 50k"
   ]
  },
  {
   "cell_type": "code",
   "execution_count": 48,
   "id": "f2f153d3-0cfb-41ec-af12-c9ae293de57f",
   "metadata": {},
   "outputs": [
    {
     "data": {
      "text/html": [
       "<div>\n",
       "<style scoped>\n",
       "    .dataframe tbody tr th:only-of-type {\n",
       "        vertical-align: middle;\n",
       "    }\n",
       "\n",
       "    .dataframe tbody tr th {\n",
       "        vertical-align: top;\n",
       "    }\n",
       "\n",
       "    .dataframe thead th {\n",
       "        text-align: right;\n",
       "    }\n",
       "</style>\n",
       "<table border=\"1\" class=\"dataframe\">\n",
       "  <thead>\n",
       "    <tr style=\"text-align: right;\">\n",
       "      <th>sex</th>\n",
       "      <th>Female</th>\n",
       "      <th>Male</th>\n",
       "    </tr>\n",
       "    <tr>\n",
       "      <th>Salary</th>\n",
       "      <th></th>\n",
       "      <th></th>\n",
       "    </tr>\n",
       "  </thead>\n",
       "  <tbody>\n",
       "    <tr>\n",
       "      <th>&lt;=50K</th>\n",
       "      <td>89.053941</td>\n",
       "      <td>69.426342</td>\n",
       "    </tr>\n",
       "    <tr>\n",
       "      <th>&gt;50K</th>\n",
       "      <td>10.946059</td>\n",
       "      <td>30.573658</td>\n",
       "    </tr>\n",
       "  </tbody>\n",
       "</table>\n",
       "</div>"
      ],
      "text/plain": [
       "sex        Female       Male\n",
       "Salary                      \n",
       " <=50K  89.053941  69.426342\n",
       " >50K   10.946059  30.573658"
      ]
     },
     "execution_count": 48,
     "metadata": {},
     "output_type": "execute_result"
    }
   ],
   "source": [
    "pd.crosstab(df['Salary'],df['sex'],normalize='columns')*100"
   ]
  },
  {
   "cell_type": "markdown",
   "id": "8f88a381-3988-4496-9475-3d990ed5b20f",
   "metadata": {},
   "source": [
    "Here i am observing that male's are less compare to female's in less then 50k Category \n",
    " and males are more than females in the Greater than salary Category"
   ]
  },
  {
   "cell_type": "markdown",
   "id": "f4045db7-4e68-478e-953f-b8d42bb32178",
   "metadata": {},
   "source": [
    "### Numerical - Categorical"
   ]
  },
  {
   "cell_type": "markdown",
   "id": "7542f6d7-5bc4-424c-b39b-cdac3c1545c3",
   "metadata": {},
   "source": [
    "#### Salary and Age"
   ]
  },
  {
   "cell_type": "code",
   "execution_count": 50,
   "id": "48535390-6fe9-40bc-ba06-133eb682083a",
   "metadata": {},
   "outputs": [
    {
     "data": {
      "image/png": "[encoded data removed]",
      "text/plain": [
       "<Figure size 640x480 with 1 Axes>"
      ]
     },
     "metadata": {},
     "output_type": "display_data"
    }
   ],
   "source": [
    "df[df['Salary'] == ' <=50K']['Age'].plot(kind='kde', label = 'less than 50k')\n",
    "df[df['Salary'] == ' >50K']['Age'].plot(kind='kde', label = 'Greater than 50k')    \n",
    "plt.legend()   \n",
    "plt.show()"
   ]
  },
  {
   "cell_type": "markdown",
   "id": "f6af5c5c-e0a7-4b52-b9d1-11f6cc4f57a3",
   "metadata": {},
   "source": [
    "### Conclusions\n",
    "Here what i am observing is when age is between 5-25 people's salary is equally distributed \n",
    "and if age is 25-65 people's salary is more than people below 25 and if age is 65-80 people's salary is less than 65 age  "
   ]
  },
  {
   "cell_type": "code",
   "execution_count": 51,
   "id": "9b3df211-df42-4ee9-9270-6dfed7402bf8",
   "metadata": {},
   "outputs": [
    {
     "data": {
      "text/plain": [
       "<seaborn.axisgrid.JointGrid at 0x20a42792990>"
      ]
     },
     "execution_count": 51,
     "metadata": {},
     "output_type": "execute_result"
    },
    {
     "data": {
      "image/png": "[encoded data removed]",
      "text/plain": [
       "<Figure size 600x600 with 3 Axes>"
      ]
     },
     "metadata": {},
     "output_type": "display_data"
    }
   ],
   "source": [
    "sns.jointplot(x='Age',y='Salary',data=df)"
   ]
  },
  {
   "cell_type": "markdown",
   "id": "a62b8e3e-f6c7-46a7-9ce9-ac6c74a117b1",
   "metadata": {},
   "source": [
    "Here I am observing that Histogram is right skewed and most of the people if i take threshold as 60 are majorly earning both less than 50k and \n",
    "Greater than 50k here in scatter plot it is observed that people are more in less than 50k Category compare to Greater than 50K and some people above\n",
    "85-90 are earning in both the Categories"
   ]
  },
  {
   "cell_type": "markdown",
   "id": "d54e74a8-deb7-4872-9064-941e0fc76511",
   "metadata": {},
   "source": [
    "## Data PreProcessing \n",
    "- Encoding\n",
    "- Finding Correlation\n",
    "- Handling the Outliers\n",
    "- implementing Standardization and Normalization"
   ]
  },
  {
   "cell_type": "markdown",
   "id": "e4682bf3-b8b2-44a4-bcce-f5d156200b0e",
   "metadata": {},
   "source": [
    "## Encoding"
   ]
  },
  {
   "cell_type": "code",
   "execution_count": 52,
   "id": "9f59af63-1d15-4339-b25f-7aa8d6a7dcb9",
   "metadata": {},
   "outputs": [
    {
     "name": "stdout",
     "output_type": "stream",
     "text": [
      "       Age  workclass  fnlwgt  Education  education-num  Martial-Status  \\\n",
      "0       39          6   77516          9             13               4   \n",
      "1       50          5   83311          9             13               2   \n",
      "2       38          3  215646         11              9               0   \n",
      "3       53          3  234721          1              7               2   \n",
      "4       28          3  338409          9             13               2   \n",
      "...    ...        ...     ...        ...            ...             ...   \n",
      "32556   27          3  257302          7             12               2   \n",
      "32557   40          3  154374         11              9               2   \n",
      "32558   58          3  151910         11              9               6   \n",
      "32559   22          3  201490         11              9               4   \n",
      "32560   52          4  287927         11              9               2   \n",
      "\n",
      "       Occupation  relationship  race  sex  capital-gain  capital-loss  \\\n",
      "0               0             1     4    1          2174             0   \n",
      "1               3             0     4    1             0             0   \n",
      "2               5             1     4    1             0             0   \n",
      "3               5             0     2    1             0             0   \n",
      "4               9             5     2    0             0             0   \n",
      "...           ...           ...   ...  ...           ...           ...   \n",
      "32556          12             5     4    0             0             0   \n",
      "32557           6             0     4    1             0             0   \n",
      "32558           0             4     4    0             0             0   \n",
      "32559           0             3     4    1             0             0   \n",
      "32560           3             5     4    0         15024             0   \n",
      "\n",
      "       hour-per-week  native-country  Salary  \n",
      "0                 40              38       0  \n",
      "1                 13              38       0  \n",
      "2                 40              38       0  \n",
      "3                 40              38       0  \n",
      "4                 40               4       0  \n",
      "...              ...             ...     ...  \n",
      "32556             38              38       0  \n",
      "32557             40              38       1  \n",
      "32558             40              38       0  \n",
      "32559             20              38       0  \n",
      "32560             40              38       1  \n",
      "\n",
      "[32561 rows x 15 columns]\n",
      "\n",
      "DataFrame saved to 'maincapstoneproj.csv'.\n"
     ]
    }
   ],
   "source": [
    "import pandas as pd\n",
    "from sklearn.preprocessing import LabelEncoder\n",
    "\n",
    "# Readingthe data from a file\n",
    "file_path = 'maincapstoneproj.csv'\n",
    "X_cols = pd.read_csv(file_path)\n",
    "\n",
    "# Applying Label Encoding\n",
    "label_encoders = {}\n",
    "for column in X_cols.columns:\n",
    "    if X_cols[column].dtype == 'object':  # Applying only to categorical columns\n",
    "        le = LabelEncoder()\n",
    "        X_cols[column] = le.fit_transform(X_cols[column])\n",
    "        label_encoders[column] = le\n",
    "\n",
    "# Displaying the transformed DataFrame\n",
    "print(X_cols)\n",
    "X_cols.to_csv('maincapstoneproj.csv', index=False)\n",
    "\n",
    "print(\"\\nDataFrame saved to 'maincapstoneproj.csv'.\")"
   ]
  },
  {
   "cell_type": "markdown",
   "id": "482698b8-8b30-4f36-b72d-0b3412128edc",
   "metadata": {},
   "source": [
    "## Handling the Outliers"
   ]
  },
  {
   "cell_type": "code",
   "execution_count": 53,
   "id": "84edbe88-9301-4f43-9590-10ff35ca36e4",
   "metadata": {},
   "outputs": [
    {
     "data": {
      "text/html": [
       "<div>\n",
       "<style scoped>\n",
       "    .dataframe tbody tr th:only-of-type {\n",
       "        vertical-align: middle;\n",
       "    }\n",
       "\n",
       "    .dataframe tbody tr th {\n",
       "        vertical-align: top;\n",
       "    }\n",
       "\n",
       "    .dataframe thead th {\n",
       "        text-align: right;\n",
       "    }\n",
       "</style>\n",
       "<table border=\"1\" class=\"dataframe\">\n",
       "  <thead>\n",
       "    <tr style=\"text-align: right;\">\n",
       "      <th></th>\n",
       "      <th>Age</th>\n",
       "      <th>workclass</th>\n",
       "      <th>fnlwgt</th>\n",
       "      <th>Education</th>\n",
       "      <th>education-num</th>\n",
       "      <th>Martial-Status</th>\n",
       "      <th>Occupation</th>\n",
       "      <th>relationship</th>\n",
       "      <th>race</th>\n",
       "      <th>sex</th>\n",
       "      <th>capital-gain</th>\n",
       "      <th>capital-loss</th>\n",
       "      <th>hour-per-week</th>\n",
       "      <th>native-country</th>\n",
       "      <th>Salary</th>\n",
       "    </tr>\n",
       "  </thead>\n",
       "  <tbody>\n",
       "    <tr>\n",
       "      <th>0</th>\n",
       "      <td>39</td>\n",
       "      <td>6</td>\n",
       "      <td>77516</td>\n",
       "      <td>9</td>\n",
       "      <td>13</td>\n",
       "      <td>4</td>\n",
       "      <td>0</td>\n",
       "      <td>1</td>\n",
       "      <td>4</td>\n",
       "      <td>1</td>\n",
       "      <td>2174</td>\n",
       "      <td>0</td>\n",
       "      <td>40</td>\n",
       "      <td>38</td>\n",
       "      <td>0</td>\n",
       "    </tr>\n",
       "    <tr>\n",
       "      <th>1</th>\n",
       "      <td>50</td>\n",
       "      <td>5</td>\n",
       "      <td>83311</td>\n",
       "      <td>9</td>\n",
       "      <td>13</td>\n",
       "      <td>2</td>\n",
       "      <td>3</td>\n",
       "      <td>0</td>\n",
       "      <td>4</td>\n",
       "      <td>1</td>\n",
       "      <td>0</td>\n",
       "      <td>0</td>\n",
       "      <td>13</td>\n",
       "      <td>38</td>\n",
       "      <td>0</td>\n",
       "    </tr>\n",
       "    <tr>\n",
       "      <th>2</th>\n",
       "      <td>38</td>\n",
       "      <td>3</td>\n",
       "      <td>215646</td>\n",
       "      <td>11</td>\n",
       "      <td>9</td>\n",
       "      <td>0</td>\n",
       "      <td>5</td>\n",
       "      <td>1</td>\n",
       "      <td>4</td>\n",
       "      <td>1</td>\n",
       "      <td>0</td>\n",
       "      <td>0</td>\n",
       "      <td>40</td>\n",
       "      <td>38</td>\n",
       "      <td>0</td>\n",
       "    </tr>\n",
       "    <tr>\n",
       "      <th>3</th>\n",
       "      <td>53</td>\n",
       "      <td>3</td>\n",
       "      <td>234721</td>\n",
       "      <td>1</td>\n",
       "      <td>7</td>\n",
       "      <td>2</td>\n",
       "      <td>5</td>\n",
       "      <td>0</td>\n",
       "      <td>2</td>\n",
       "      <td>1</td>\n",
       "      <td>0</td>\n",
       "      <td>0</td>\n",
       "      <td>40</td>\n",
       "      <td>38</td>\n",
       "      <td>0</td>\n",
       "    </tr>\n",
       "    <tr>\n",
       "      <th>4</th>\n",
       "      <td>28</td>\n",
       "      <td>3</td>\n",
       "      <td>338409</td>\n",
       "      <td>9</td>\n",
       "      <td>13</td>\n",
       "      <td>2</td>\n",
       "      <td>9</td>\n",
       "      <td>5</td>\n",
       "      <td>2</td>\n",
       "      <td>0</td>\n",
       "      <td>0</td>\n",
       "      <td>0</td>\n",
       "      <td>40</td>\n",
       "      <td>4</td>\n",
       "      <td>0</td>\n",
       "    </tr>\n",
       "  </tbody>\n",
       "</table>\n",
       "</div>"
      ],
      "text/plain": [
       "   Age  workclass  fnlwgt  Education  education-num  Martial-Status  \\\n",
       "0   39          6   77516          9             13               4   \n",
       "1   50          5   83311          9             13               2   \n",
       "2   38          3  215646         11              9               0   \n",
       "3   53          3  234721          1              7               2   \n",
       "4   28          3  338409          9             13               2   \n",
       "\n",
       "   Occupation  relationship  race  sex  capital-gain  capital-loss  \\\n",
       "0           0             1     4    1          2174             0   \n",
       "1           3             0     4    1             0             0   \n",
       "2           5             1     4    1             0             0   \n",
       "3           5             0     2    1             0             0   \n",
       "4           9             5     2    0             0             0   \n",
       "\n",
       "   hour-per-week  native-country  Salary  \n",
       "0             40              38       0  \n",
       "1             13              38       0  \n",
       "2             40              38       0  \n",
       "3             40              38       0  \n",
       "4             40               4       0  "
      ]
     },
     "execution_count": 53,
     "metadata": {},
     "output_type": "execute_result"
    }
   ],
   "source": [
    "X_cols.head()"
   ]
  },
  {
   "cell_type": "code",
   "execution_count": 54,
   "id": "016fb104-b6f3-4794-9e2e-f1408331b59c",
   "metadata": {},
   "outputs": [
    {
     "name": "stdout",
     "output_type": "stream",
     "text": [
      "       Age  workclass  fnlwgt  Education  education-num  Martial-Status  \\\n",
      "0       39          3   77516          9             13               4   \n",
      "1       50          3   83311          9             13               2   \n",
      "2       38          3  215646         11              9               0   \n",
      "3       53          3  234721         11              7               2   \n",
      "4       28          3  338409          9             13               2   \n",
      "...    ...        ...     ...        ...            ...             ...   \n",
      "32556   27          3  257302          7             12               2   \n",
      "32557   40          3  154374         11              9               2   \n",
      "32558   58          3  151910         11              9               6   \n",
      "32559   22          3  201490         11              9               4   \n",
      "32560   52          3  287927         11              9               2   \n",
      "\n",
      "       Occupation  relationship  race  sex  capital-gain  capital-loss  \\\n",
      "0               0             1     4    1             0             0   \n",
      "1               3             0     4    1             0             0   \n",
      "2               5             1     4    1             0             0   \n",
      "3               5             0     4    1             0             0   \n",
      "4               9             5     4    0             0             0   \n",
      "...           ...           ...   ...  ...           ...           ...   \n",
      "32556          12             5     4    0             0             0   \n",
      "32557           6             0     4    1             0             0   \n",
      "32558           0             4     4    0             0             0   \n",
      "32559           0             3     4    1             0             0   \n",
      "32560           3             5     4    0             0             0   \n",
      "\n",
      "       hour-per-week  native-country  Salary  \n",
      "0                 40              38       0  \n",
      "1                 40              38       0  \n",
      "2                 40              38       0  \n",
      "3                 40              38       0  \n",
      "4                 40              38       0  \n",
      "...              ...             ...     ...  \n",
      "32556             38              38       0  \n",
      "32557             40              38       1  \n",
      "32558             40              38       0  \n",
      "32559             40              38       0  \n",
      "32560             40              38       1  \n",
      "\n",
      "[32561 rows x 15 columns]\n",
      "\n",
      "DataFrame saved to 'maincapstoneproj.csv'.\n"
     ]
    }
   ],
   "source": [
    "numeric_columns = [\n",
    "    'Age', \n",
    "    'workclass', \n",
    "    'fnlwgt', \n",
    "    'Education', \n",
    "    'education-num', \n",
    "    'Martial-Status', \n",
    "    'Occupation', \n",
    "    'relationship', \n",
    "    'race', \n",
    "    'sex', \n",
    "    'capital-gain', \n",
    "    'capital-loss',                                             \n",
    "    'hour-per-week', \n",
    "    'native-country'\n",
    "]\n",
    "\n",
    "# Processing each column\n",
    "for column in numeric_columns:\n",
    "    # Calculating the IQR (Interquartile Range)\n",
    "    Q1 = X_cols[column].quantile(0.25)\n",
    "    Q3 = X_cols[column].quantile(0.75)\n",
    "    IQR = Q3 - Q1\n",
    "\n",
    "    lower_bound = Q1 - 1.5 * IQR\n",
    "    upper_bound = Q3 + 1.5 * IQR\n",
    "\n",
    "    # Replacing the outliers with the median\n",
    "    median = X_cols[column].median()\n",
    "    X_cols.loc[(X_cols[column] < lower_bound) | (X_cols[column] > upper_bound), column] = median\n",
    "\n",
    "# Display the DataFrame after processing\n",
    "print(X_cols)\n",
    "X_cols.to_csv('maincapstoneproj.csv', index=False)+\n",
    "\n",
    "print(\"\\nDataFrame saved to 'maincapstoneproj.csv'.\")"
   ]
  },
  {
   "cell_type": "code",
   "execution_count": 55,
   "id": "e5de37e2-edb3-4973-a864-04e43ec2c0e9",
   "metadata": {},
   "outputs": [
    {
     "data": {
      "text/html": [
       "<div>\n",
       "<style scoped>\n",
       "    .dataframe tbody tr th:only-of-type {\n",
       "        vertical-align: middle;\n",
       "    }\n",
       "\n",
       "    .dataframe tbody tr th {\n",
       "        vertical-align: top;\n",
       "    }\n",
       "\n",
       "    .dataframe thead th {\n",
       "        text-align: right;\n",
       "    }\n",
       "</style>\n",
       "<table border=\"1\" class=\"dataframe\">\n",
       "  <thead>\n",
       "    <tr style=\"text-align: right;\">\n",
       "      <th></th>\n",
       "      <th>Age</th>\n",
       "      <th>workclass</th>\n",
       "      <th>fnlwgt</th>\n",
       "      <th>Education</th>\n",
       "      <th>education-num</th>\n",
       "      <th>Martial-Status</th>\n",
       "      <th>Occupation</th>\n",
       "      <th>relationship</th>\n",
       "      <th>race</th>\n",
       "      <th>sex</th>\n",
       "      <th>capital-gain</th>\n",
       "      <th>capital-loss</th>\n",
       "      <th>hour-per-week</th>\n",
       "      <th>native-country</th>\n",
       "      <th>Salary</th>\n",
       "    </tr>\n",
       "  </thead>\n",
       "  <tbody>\n",
       "    <tr>\n",
       "      <th>Age</th>\n",
       "      <td>1.000000</td>\n",
       "      <td>NaN</td>\n",
       "      <td>-0.062446</td>\n",
       "      <td>-0.094936</td>\n",
       "      <td>0.106013</td>\n",
       "      <td>-0.282267</td>\n",
       "      <td>-0.000199</td>\n",
       "      <td>-0.266553</td>\n",
       "      <td>NaN</td>\n",
       "      <td>0.090192</td>\n",
       "      <td>NaN</td>\n",
       "      <td>NaN</td>\n",
       "      <td>0.047285</td>\n",
       "      <td>NaN</td>\n",
       "      <td>0.242480</td>\n",
       "    </tr>\n",
       "    <tr>\n",
       "      <th>workclass</th>\n",
       "      <td>NaN</td>\n",
       "      <td>NaN</td>\n",
       "      <td>NaN</td>\n",
       "      <td>NaN</td>\n",
       "      <td>NaN</td>\n",
       "      <td>NaN</td>\n",
       "      <td>NaN</td>\n",
       "      <td>NaN</td>\n",
       "      <td>NaN</td>\n",
       "      <td>NaN</td>\n",
       "      <td>NaN</td>\n",
       "      <td>NaN</td>\n",
       "      <td>NaN</td>\n",
       "      <td>NaN</td>\n",
       "      <td>NaN</td>\n",
       "    </tr>\n",
       "    <tr>\n",
       "      <th>fnlwgt</th>\n",
       "      <td>-0.062446</td>\n",
       "      <td>NaN</td>\n",
       "      <td>1.000000</td>\n",
       "      <td>-0.003562</td>\n",
       "      <td>-0.020013</td>\n",
       "      <td>0.026079</td>\n",
       "      <td>-0.000557</td>\n",
       "      <td>0.005013</td>\n",
       "      <td>NaN</td>\n",
       "      <td>0.021126</td>\n",
       "      <td>NaN</td>\n",
       "      <td>NaN</td>\n",
       "      <td>-0.004864</td>\n",
       "      <td>NaN</td>\n",
       "      <td>-0.003348</td>\n",
       "    </tr>\n",
       "    <tr>\n",
       "      <th>Education</th>\n",
       "      <td>-0.094936</td>\n",
       "      <td>NaN</td>\n",
       "      <td>-0.003562</td>\n",
       "      <td>1.000000</td>\n",
       "      <td>-0.116004</td>\n",
       "      <td>0.025373</td>\n",
       "      <td>-0.029194</td>\n",
       "      <td>0.058153</td>\n",
       "      <td>NaN</td>\n",
       "      <td>-0.042490</td>\n",
       "      <td>NaN</td>\n",
       "      <td>NaN</td>\n",
       "      <td>-0.024273</td>\n",
       "      <td>NaN</td>\n",
       "      <td>-0.031453</td>\n",
       "    </tr>\n",
       "    <tr>\n",
       "      <th>education-num</th>\n",
       "      <td>0.106013</td>\n",
       "      <td>NaN</td>\n",
       "      <td>-0.020013</td>\n",
       "      <td>-0.116004</td>\n",
       "      <td>1.000000</td>\n",
       "      <td>-0.068413</td>\n",
       "      <td>0.087928</td>\n",
       "      <td>-0.125006</td>\n",
       "      <td>NaN</td>\n",
       "      <td>0.031836</td>\n",
       "      <td>NaN</td>\n",
       "      <td>NaN</td>\n",
       "      <td>0.122328</td>\n",
       "      <td>NaN</td>\n",
       "      <td>0.341799</td>\n",
       "    </tr>\n",
       "    <tr>\n",
       "      <th>Martial-Status</th>\n",
       "      <td>-0.282267</td>\n",
       "      <td>NaN</td>\n",
       "      <td>0.026079</td>\n",
       "      <td>0.025373</td>\n",
       "      <td>-0.068413</td>\n",
       "      <td>1.000000</td>\n",
       "      <td>0.034962</td>\n",
       "      <td>0.185451</td>\n",
       "      <td>NaN</td>\n",
       "      <td>-0.129314</td>\n",
       "      <td>NaN</td>\n",
       "      <td>NaN</td>\n",
       "      <td>-0.092201</td>\n",
       "      <td>NaN</td>\n",
       "      <td>-0.199307</td>\n",
       "    </tr>\n",
       "    <tr>\n",
       "      <th>Occupation</th>\n",
       "      <td>-0.000199</td>\n",
       "      <td>NaN</td>\n",
       "      <td>-0.000557</td>\n",
       "      <td>-0.029194</td>\n",
       "      <td>0.087928</td>\n",
       "      <td>0.034962</td>\n",
       "      <td>1.000000</td>\n",
       "      <td>-0.037451</td>\n",
       "      <td>NaN</td>\n",
       "      <td>0.047461</td>\n",
       "      <td>NaN</td>\n",
       "      <td>NaN</td>\n",
       "      <td>0.022929</td>\n",
       "      <td>NaN</td>\n",
       "      <td>0.034625</td>\n",
       "    </tr>\n",
       "    <tr>\n",
       "      <th>relationship</th>\n",
       "      <td>-0.266553</td>\n",
       "      <td>NaN</td>\n",
       "      <td>0.005013</td>\n",
       "      <td>0.058153</td>\n",
       "      <td>-0.125006</td>\n",
       "      <td>0.185451</td>\n",
       "      <td>-0.037451</td>\n",
       "      <td>1.000000</td>\n",
       "      <td>NaN</td>\n",
       "      <td>-0.582454</td>\n",
       "      <td>NaN</td>\n",
       "      <td>NaN</td>\n",
       "      <td>-0.163753</td>\n",
       "      <td>NaN</td>\n",
       "      <td>-0.250918</td>\n",
       "    </tr>\n",
       "    <tr>\n",
       "      <th>race</th>\n",
       "      <td>NaN</td>\n",
       "      <td>NaN</td>\n",
       "      <td>NaN</td>\n",
       "      <td>NaN</td>\n",
       "      <td>NaN</td>\n",
       "      <td>NaN</td>\n",
       "      <td>NaN</td>\n",
       "      <td>NaN</td>\n",
       "      <td>NaN</td>\n",
       "      <td>NaN</td>\n",
       "      <td>NaN</td>\n",
       "      <td>NaN</td>\n",
       "      <td>NaN</td>\n",
       "      <td>NaN</td>\n",
       "      <td>NaN</td>\n",
       "    </tr>\n",
       "    <tr>\n",
       "      <th>sex</th>\n",
       "      <td>0.090192</td>\n",
       "      <td>NaN</td>\n",
       "      <td>0.021126</td>\n",
       "      <td>-0.042490</td>\n",
       "      <td>0.031836</td>\n",
       "      <td>-0.129314</td>\n",
       "      <td>0.047461</td>\n",
       "      <td>-0.582454</td>\n",
       "      <td>NaN</td>\n",
       "      <td>1.000000</td>\n",
       "      <td>NaN</td>\n",
       "      <td>NaN</td>\n",
       "      <td>0.158717</td>\n",
       "      <td>NaN</td>\n",
       "      <td>0.215980</td>\n",
       "    </tr>\n",
       "    <tr>\n",
       "      <th>capital-gain</th>\n",
       "      <td>NaN</td>\n",
       "      <td>NaN</td>\n",
       "      <td>NaN</td>\n",
       "      <td>NaN</td>\n",
       "      <td>NaN</td>\n",
       "      <td>NaN</td>\n",
       "      <td>NaN</td>\n",
       "      <td>NaN</td>\n",
       "      <td>NaN</td>\n",
       "      <td>NaN</td>\n",
       "      <td>NaN</td>\n",
       "      <td>NaN</td>\n",
       "      <td>NaN</td>\n",
       "      <td>NaN</td>\n",
       "      <td>NaN</td>\n",
       "    </tr>\n",
       "    <tr>\n",
       "      <th>capital-loss</th>\n",
       "      <td>NaN</td>\n",
       "      <td>NaN</td>\n",
       "      <td>NaN</td>\n",
       "      <td>NaN</td>\n",
       "      <td>NaN</td>\n",
       "      <td>NaN</td>\n",
       "      <td>NaN</td>\n",
       "      <td>NaN</td>\n",
       "      <td>NaN</td>\n",
       "      <td>NaN</td>\n",
       "      <td>NaN</td>\n",
       "      <td>NaN</td>\n",
       "      <td>NaN</td>\n",
       "      <td>NaN</td>\n",
       "      <td>NaN</td>\n",
       "    </tr>\n",
       "    <tr>\n",
       "      <th>hour-per-week</th>\n",
       "      <td>0.047285</td>\n",
       "      <td>NaN</td>\n",
       "      <td>-0.004864</td>\n",
       "      <td>-0.024273</td>\n",
       "      <td>0.122328</td>\n",
       "      <td>-0.092201</td>\n",
       "      <td>0.022929</td>\n",
       "      <td>-0.163753</td>\n",
       "      <td>NaN</td>\n",
       "      <td>0.158717</td>\n",
       "      <td>NaN</td>\n",
       "      <td>NaN</td>\n",
       "      <td>1.000000</td>\n",
       "      <td>NaN</td>\n",
       "      <td>0.177004</td>\n",
       "    </tr>\n",
       "    <tr>\n",
       "      <th>native-country</th>\n",
       "      <td>NaN</td>\n",
       "      <td>NaN</td>\n",
       "      <td>NaN</td>\n",
       "      <td>NaN</td>\n",
       "      <td>NaN</td>\n",
       "      <td>NaN</td>\n",
       "      <td>NaN</td>\n",
       "      <td>NaN</td>\n",
       "      <td>NaN</td>\n",
       "      <td>NaN</td>\n",
       "      <td>NaN</td>\n",
       "      <td>NaN</td>\n",
       "      <td>NaN</td>\n",
       "      <td>NaN</td>\n",
       "      <td>NaN</td>\n",
       "    </tr>\n",
       "    <tr>\n",
       "      <th>Salary</th>\n",
       "      <td>0.242480</td>\n",
       "      <td>NaN</td>\n",
       "      <td>-0.003348</td>\n",
       "      <td>-0.031453</td>\n",
       "      <td>0.341799</td>\n",
       "      <td>-0.199307</td>\n",
       "      <td>0.034625</td>\n",
       "      <td>-0.250918</td>\n",
       "      <td>NaN</td>\n",
       "      <td>0.215980</td>\n",
       "      <td>NaN</td>\n",
       "      <td>NaN</td>\n",
       "      <td>0.177004</td>\n",
       "      <td>NaN</td>\n",
       "      <td>1.000000</td>\n",
       "    </tr>\n",
       "  </tbody>\n",
       "</table>\n",
       "</div>"
      ],
      "text/plain": [
       "                     Age  workclass    fnlwgt  Education  education-num  \\\n",
       "Age             1.000000        NaN -0.062446  -0.094936       0.106013   \n",
       "workclass            NaN        NaN       NaN        NaN            NaN   \n",
       "fnlwgt         -0.062446        NaN  1.000000  -0.003562      -0.020013   \n",
       "Education      -0.094936        NaN -0.003562   1.000000      -0.116004   \n",
       "education-num   0.106013        NaN -0.020013  -0.116004       1.000000   \n",
       "Martial-Status -0.282267        NaN  0.026079   0.025373      -0.068413   \n",
       "Occupation     -0.000199        NaN -0.000557  -0.029194       0.087928   \n",
       "relationship   -0.266553        NaN  0.005013   0.058153      -0.125006   \n",
       "race                 NaN        NaN       NaN        NaN            NaN   \n",
       "sex             0.090192        NaN  0.021126  -0.042490       0.031836   \n",
       "capital-gain         NaN        NaN       NaN        NaN            NaN   \n",
       "capital-loss         NaN        NaN       NaN        NaN            NaN   \n",
       "hour-per-week   0.047285        NaN -0.004864  -0.024273       0.122328   \n",
       "native-country       NaN        NaN       NaN        NaN            NaN   \n",
       "Salary          0.242480        NaN -0.003348  -0.031453       0.341799   \n",
       "\n",
       "                Martial-Status  Occupation  relationship  race       sex  \\\n",
       "Age                  -0.282267   -0.000199     -0.266553   NaN  0.090192   \n",
       "workclass                  NaN         NaN           NaN   NaN       NaN   \n",
       "fnlwgt                0.026079   -0.000557      0.005013   NaN  0.021126   \n",
       "Education             0.025373   -0.029194      0.058153   NaN -0.042490   \n",
       "education-num        -0.068413    0.087928     -0.125006   NaN  0.031836   \n",
       "Martial-Status        1.000000    0.034962      0.185451   NaN -0.129314   \n",
       "Occupation            0.034962    1.000000     -0.037451   NaN  0.047461   \n",
       "relationship          0.185451   -0.037451      1.000000   NaN -0.582454   \n",
       "race                       NaN         NaN           NaN   NaN       NaN   \n",
       "sex                  -0.129314    0.047461     -0.582454   NaN  1.000000   \n",
       "capital-gain               NaN         NaN           NaN   NaN       NaN   \n",
       "capital-loss               NaN         NaN           NaN   NaN       NaN   \n",
       "hour-per-week        -0.092201    0.022929     -0.163753   NaN  0.158717   \n",
       "native-country             NaN         NaN           NaN   NaN       NaN   \n",
       "Salary               -0.199307    0.034625     -0.250918   NaN  0.215980   \n",
       "\n",
       "                capital-gain  capital-loss  hour-per-week  native-country  \\\n",
       "Age                      NaN           NaN       0.047285             NaN   \n",
       "workclass                NaN           NaN            NaN             NaN   \n",
       "fnlwgt                   NaN           NaN      -0.004864             NaN   \n",
       "Education                NaN           NaN      -0.024273             NaN   \n",
       "education-num            NaN           NaN       0.122328             NaN   \n",
       "Martial-Status           NaN           NaN      -0.092201             NaN   \n",
       "Occupation               NaN           NaN       0.022929             NaN   \n",
       "relationship             NaN           NaN      -0.163753             NaN   \n",
       "race                     NaN           NaN            NaN             NaN   \n",
       "sex                      NaN           NaN       0.158717             NaN   \n",
       "capital-gain             NaN           NaN            NaN             NaN   \n",
       "capital-loss             NaN           NaN            NaN             NaN   \n",
       "hour-per-week            NaN           NaN       1.000000             NaN   \n",
       "native-country           NaN           NaN            NaN             NaN   \n",
       "Salary                   NaN           NaN       0.177004             NaN   \n",
       "\n",
       "                  Salary  \n",
       "Age             0.242480  \n",
       "workclass            NaN  \n",
       "fnlwgt         -0.003348  \n",
       "Education      -0.031453  \n",
       "education-num   0.341799  \n",
       "Martial-Status -0.199307  \n",
       "Occupation      0.034625  \n",
       "relationship   -0.250918  \n",
       "race                 NaN  \n",
       "sex             0.215980  \n",
       "capital-gain         NaN  \n",
       "capital-loss         NaN  \n",
       "hour-per-week   0.177004  \n",
       "native-country       NaN  \n",
       "Salary          1.000000  "
      ]
     },
     "execution_count": 55,
     "metadata": {},
     "output_type": "execute_result"
    }
   ],
   "source": [
    "X_cols.corr()"
   ]
  },
  {
   "cell_type": "markdown",
   "id": "ba554c39-8220-4d99-bd80-cd1863e0d8ee",
   "metadata": {},
   "source": [
    "## Applying Min-max Scaler"
   ]
  },
  {
   "cell_type": "code",
   "execution_count": 56,
   "id": "b6c48591-2018-4714-9385-f42466a82f6c",
   "metadata": {},
   "outputs": [],
   "source": [
    "import pandas as pd\n",
    "from sklearn.preprocessing import MinMaxScaler\n",
    "\n",
    "columns_to_scale = ['Age', 'workclass', 'fnlwgt', 'Education', 'education-num',\n",
    "    'Martial-Status', 'Occupation', 'relationship', 'race', 'sex',\n",
    "    'capital-gain', 'capital-loss', 'hour-per-week', 'native-country', 'Salary']\n",
    "\n",
    "scaler_minmax = MinMaxScaler()\n",
    "X_cols_normalized = X_cols.copy()  # Create a copy of the original DataFrame\n",
    "X_cols_normalized[columns_to_scale] = scaler_minmax.fit_transform(X_cols[columns_to_scale])"
   ]
  },
  {
   "cell_type": "code",
   "execution_count": 57,
   "id": "daf8bfa6-84f3-4902-864b-3e33588ac3eb",
   "metadata": {},
   "outputs": [
    {
     "name": "stdout",
     "output_type": "stream",
     "text": [
      "\n",
      "Normalized DataFrame:\n",
      "             Age  workclass    fnlwgt  Education  education-num  \\\n",
      "0      0.360656        0.0  0.161638        0.4       0.727273   \n",
      "1      0.540984        0.0  0.175998        0.4       0.727273   \n",
      "2      0.344262        0.0  0.503915        0.6       0.363636   \n",
      "3      0.590164        0.0  0.551182        0.6       0.181818   \n",
      "4      0.180328        0.0  0.808114        0.4       0.727273   \n",
      "...         ...        ...       ...        ...            ...   \n",
      "32556  0.163934        0.0  0.607136        0.2       0.636364   \n",
      "32557  0.377049        0.0  0.352087        0.6       0.363636   \n",
      "32558  0.672131        0.0  0.345982        0.6       0.363636   \n",
      "32559  0.081967        0.0  0.468838        0.6       0.363636   \n",
      "32560  0.573770        0.0  0.683023        0.6       0.363636   \n",
      "\n",
      "       Martial-Status  Occupation  relationship  race  sex  capital-gain  \\\n",
      "0            0.666667    0.000000           0.2   0.0  1.0           0.0   \n",
      "1            0.333333    0.230769           0.0   0.0  1.0           0.0   \n",
      "2            0.000000    0.384615           0.2   0.0  1.0           0.0   \n",
      "3            0.333333    0.384615           0.0   0.0  1.0           0.0   \n",
      "4            0.333333    0.692308           1.0   0.0  0.0           0.0   \n",
      "...               ...         ...           ...   ...  ...           ...   \n",
      "32556        0.333333    0.923077           1.0   0.0  0.0           0.0   \n",
      "32557        0.333333    0.461538           0.0   0.0  1.0           0.0   \n",
      "32558        1.000000    0.000000           0.8   0.0  0.0           0.0   \n",
      "32559        0.666667    0.000000           0.6   0.0  1.0           0.0   \n",
      "32560        0.333333    0.230769           1.0   0.0  0.0           0.0   \n",
      "\n",
      "       capital-loss  hour-per-week  native-country  Salary  \n",
      "0               0.0       0.368421             0.0     0.0  \n",
      "1               0.0       0.368421             0.0     0.0  \n",
      "2               0.0       0.368421             0.0     0.0  \n",
      "3               0.0       0.368421             0.0     0.0  \n",
      "4               0.0       0.368421             0.0     0.0  \n",
      "...             ...            ...             ...     ...  \n",
      "32556           0.0       0.263158             0.0     0.0  \n",
      "32557           0.0       0.368421             0.0     1.0  \n",
      "32558           0.0       0.368421             0.0     0.0  \n",
      "32559           0.0       0.368421             0.0     0.0  \n",
      "32560           0.0       0.368421             0.0     1.0  \n",
      "\n",
      "[32561 rows x 15 columns]\n",
      "\n",
      "DataFrame saved to 'maincapstoneproj.csv'.\n"
     ]
    }
   ],
   "source": [
    "print(\"\\nNormalized DataFrame:\\n\", X_cols_normalized)\n",
    "X_cols_normalized.to_csv('maincapstoneproj.csv', index=False)\n",
    "print(\"\\nDataFrame saved to 'maincapstoneproj.csv'.\")"
   ]
  },
  {
   "cell_type": "markdown",
   "id": "2efacb1f-b6a9-4288-9bf4-76e57f40f185",
   "metadata": {},
   "source": [
    "## Feature Engineering\n",
    "- Selecting the unwanted Features \n",
    "- Dropping the unwanted Features"
   ]
  },
  {
   "cell_type": "code",
   "execution_count": 7,
   "id": "d94a7a3e-44fd-4a86-b60d-cbc326dedc61",
   "metadata": {},
   "outputs": [
    {
     "ename": "NameError",
     "evalue": "name 'X_cols_normalized' is not defined",
     "output_type": "error",
     "traceback": [
      "\u001b[1;31m---------------------------------------------------------------------------\u001b[0m",
      "\u001b[1;31mNameError\u001b[0m                                 Traceback (most recent call last)",
      "Cell \u001b[1;32mIn[7], line 4\u001b[0m\n\u001b[0;32m      1\u001b[0m columns_to_drop \u001b[38;5;241m=\u001b[39m [\u001b[38;5;124m'\u001b[39m\u001b[38;5;124mworkclass\u001b[39m\u001b[38;5;124m'\u001b[39m, \u001b[38;5;124m'\u001b[39m\u001b[38;5;124mrace\u001b[39m\u001b[38;5;124m'\u001b[39m, \u001b[38;5;124m'\u001b[39m\u001b[38;5;124mcapital-gain\u001b[39m\u001b[38;5;124m'\u001b[39m,\u001b[38;5;124m'\u001b[39m\u001b[38;5;124mOccupation\u001b[39m\u001b[38;5;124m'\u001b[39m,\u001b[38;5;124m'\u001b[39m\u001b[38;5;124mcapital-loss\u001b[39m\u001b[38;5;124m'\u001b[39m,\u001b[38;5;124m'\u001b[39m\u001b[38;5;124mhour-per-week\u001b[39m\u001b[38;5;124m'\u001b[39m,\u001b[38;5;124m'\u001b[39m\u001b[38;5;124mnative-country\u001b[39m\u001b[38;5;124m'\u001b[39m]\n\u001b[0;32m      3\u001b[0m \u001b[38;5;66;03m# Drop the specified columns from scaled_df\u001b[39;00m\n\u001b[1;32m----> 4\u001b[0m data_dropped \u001b[38;5;241m=\u001b[39m X_cols_normalized\u001b[38;5;241m.\u001b[39mdrop(columns\u001b[38;5;241m=\u001b[39mcolumns_to_drop, errors\u001b[38;5;241m=\u001b[39m\u001b[38;5;124m'\u001b[39m\u001b[38;5;124mignore\u001b[39m\u001b[38;5;124m'\u001b[39m)\n\u001b[0;32m      6\u001b[0m \u001b[38;5;66;03m# Now data_dropped contains the scaled dataset without the dropped features\u001b[39;00m\n\u001b[0;32m      7\u001b[0m \u001b[38;5;28mprint\u001b[39m(data_dropped\u001b[38;5;241m.\u001b[39mhead())\n",
      "\u001b[1;31mNameError\u001b[0m: name 'X_cols_normalized' is not defined"
     ]
    }
   ],
   "source": [
    "columns_to_drop = ['workclass', 'race', 'capital-gain','Occupation','capital-loss','hour-per-week','native-country']\n",
    "\n",
    "# Drop the specified columns from scaled_df\n",
    "data_dropped = X_cols_normalized.drop(columns=columns_to_drop, errors='ignore')\n",
    "\n",
    "# Now data_dropped contains the scaled dataset without the dropped features\n",
    "print(data_dropped.head())\n",
    "data_dropped.to_csv('maincapstoneproj.csv', index=False)\n",
    "\n",
    "print(\"\\nDataFrame saved to 'maincapstoneproj.csv'.\")\n"
   ]
  },
  {
   "cell_type": "markdown",
   "id": "dec3e10d-1ae9-4320-91a3-ee9f5881f37a",
   "metadata": {},
   "source": [
    "### Spliting the data "
   ]
  },
  {
   "cell_type": "code",
   "execution_count": 8,
   "id": "c0c3e3d4-c7f3-4102-9cb8-2b83f38e683c",
   "metadata": {},
   "outputs": [],
   "source": [
    "from sklearn.model_selection import train_test_split"
   ]
  },
  {
   "cell_type": "code",
   "execution_count": 9,
   "id": "fcdc1f89-9c35-40e2-ae1a-af68bf880895",
   "metadata": {},
   "outputs": [
    {
     "ename": "NameError",
     "evalue": "name 'data_dropped' is not defined",
     "output_type": "error",
     "traceback": [
      "\u001b[1;31m---------------------------------------------------------------------------\u001b[0m",
      "\u001b[1;31mNameError\u001b[0m                                 Traceback (most recent call last)",
      "Cell \u001b[1;32mIn[9], line 1\u001b[0m\n\u001b[1;32m----> 1\u001b[0m X_train, X_test, y_train, y_test \u001b[38;5;241m=\u001b[39m train_test_split(data_dropped\u001b[38;5;241m.\u001b[39mdrop(\u001b[38;5;124m'\u001b[39m\u001b[38;5;124mSalary\u001b[39m\u001b[38;5;124m'\u001b[39m,axis\u001b[38;5;241m=\u001b[39m\u001b[38;5;241m1\u001b[39m), \n\u001b[0;32m      2\u001b[0m                                                     data_dropped[\u001b[38;5;124m'\u001b[39m\u001b[38;5;124mSalary\u001b[39m\u001b[38;5;124m'\u001b[39m], test_size\u001b[38;5;241m=\u001b[39m\u001b[38;5;241m0.30\u001b[39m, \n\u001b[0;32m      3\u001b[0m                                                     random_state\u001b[38;5;241m=\u001b[39m\u001b[38;5;241m101\u001b[39m,stratify \u001b[38;5;241m=\u001b[39mdata_dropped[\u001b[38;5;124m'\u001b[39m\u001b[38;5;124mSalary\u001b[39m\u001b[38;5;124m'\u001b[39m] )\n",
      "\u001b[1;31mNameError\u001b[0m: name 'data_dropped' is not defined"
     ]
    }
   ],
   "source": [
    "X_train, X_test, y_train, y_test = train_test_split(data_dropped.drop('Salary',axis=1), \n",
    "                                                    data_dropped['Salary'], test_size=0.30, \n",
    "                                                    random_state=101,stratify =data_dropped['Salary'] )"
   ]
  },
  {
   "cell_type": "code",
   "execution_count": 62,
   "id": "da94c5cb-6f80-4368-8585-2217e6c5e6ba",
   "metadata": {},
   "outputs": [],
   "source": [
    "from sklearn.linear_model import LogisticRegression"
   ]
  },
  {
   "cell_type": "code",
   "execution_count": 63,
   "id": "bb742983-92c1-494d-a344-30d195028420",
   "metadata": {},
   "outputs": [
    {
     "data": {
      "text/html": [
       "<style>#sk-container-id-1 {color: black;}#sk-container-id-1 pre{padding: 0;}#sk-container-id-1 div.sk-toggleable {background-color: white;}#sk-container-id-1 label.sk-toggleable__label {cursor: pointer;display: block;width: 100%;margin-bottom: 0;padding: 0.3em;box-sizing: border-box;text-align: center;}#sk-container-id-1 label.sk-toggleable__label-arrow:before {content: \"▸\";float: left;margin-right: 0.25em;color: #696969;}#sk-container-id-1 label.sk-toggleable__label-arrow:hover:before {color: black;}#sk-container-id-1 div.sk-estimator:hover label.sk-toggleable__label-arrow:before {color: black;}#sk-container-id-1 div.sk-toggleable__content {max-height: 0;max-width: 0;overflow: hidden;text-align: left;background-color: #f0f8ff;}#sk-container-id-1 div.sk-toggleable__content pre {margin: 0.2em;color: black;border-radius: 0.25em;background-color: #f0f8ff;}#sk-container-id-1 input.sk-toggleable__control:checked~div.sk-toggleable__content {max-height: 200px;max-width: 100%;overflow: auto;}#sk-container-id-1 input.sk-toggleable__control:checked~label.sk-toggleable__label-arrow:before {content: \"▾\";}#sk-container-id-1 div.sk-estimator input.sk-toggleable__control:checked~label.sk-toggleable__label {background-color: #d4ebff;}#sk-container-id-1 div.sk-label input.sk-toggleable__control:checked~label.sk-toggleable__label {background-color: #d4ebff;}#sk-container-id-1 input.sk-hidden--visually {border: 0;clip: rect(1px 1px 1px 1px);clip: rect(1px, 1px, 1px, 1px);height: 1px;margin: -1px;overflow: hidden;padding: 0;position: absolute;width: 1px;}#sk-container-id-1 div.sk-estimator {font-family: monospace;background-color: #f0f8ff;border: 1px dotted black;border-radius: 0.25em;box-sizing: border-box;margin-bottom: 0.5em;}#sk-container-id-1 div.sk-estimator:hover {background-color: #d4ebff;}#sk-container-id-1 div.sk-parallel-item::after {content: \"\";width: 100%;border-bottom: 1px solid gray;flex-grow: 1;}#sk-container-id-1 div.sk-label:hover label.sk-toggleable__label {background-color: #d4ebff;}#sk-container-id-1 div.sk-serial::before {content: \"\";position: absolute;border-left: 1px solid gray;box-sizing: border-box;top: 0;bottom: 0;left: 50%;z-index: 0;}#sk-container-id-1 div.sk-serial {display: flex;flex-direction: column;align-items: center;background-color: white;padding-right: 0.2em;padding-left: 0.2em;position: relative;}#sk-container-id-1 div.sk-item {position: relative;z-index: 1;}#sk-container-id-1 div.sk-parallel {display: flex;align-items: stretch;justify-content: center;background-color: white;position: relative;}#sk-container-id-1 div.sk-item::before, #sk-container-id-1 div.sk-parallel-item::before {content: \"\";position: absolute;border-left: 1px solid gray;box-sizing: border-box;top: 0;bottom: 0;left: 50%;z-index: -1;}#sk-container-id-1 div.sk-parallel-item {display: flex;flex-direction: column;z-index: 1;position: relative;background-color: white;}#sk-container-id-1 div.sk-parallel-item:first-child::after {align-self: flex-end;width: 50%;}#sk-container-id-1 div.sk-parallel-item:last-child::after {align-self: flex-start;width: 50%;}#sk-container-id-1 div.sk-parallel-item:only-child::after {width: 0;}#sk-container-id-1 div.sk-dashed-wrapped {border: 1px dashed gray;margin: 0 0.4em 0.5em 0.4em;box-sizing: border-box;padding-bottom: 0.4em;background-color: white;}#sk-container-id-1 div.sk-label label {font-family: monospace;font-weight: bold;display: inline-block;line-height: 1.2em;}#sk-container-id-1 div.sk-label-container {text-align: center;}#sk-container-id-1 div.sk-container {/* jupyter's `normalize.less` sets `[hidden] { display: none; }` but bootstrap.min.css set `[hidden] { display: none !important; }` so we also need the `!important` here to be able to override the default hidden behavior on the sphinx rendered scikit-learn.org. See: https://github.com/scikit-learn/scikit-learn/issues/21755 */display: inline-block !important;position: relative;}#sk-container-id-1 div.sk-text-repr-fallback {display: none;}</style><div id=\"sk-container-id-1\" class=\"sk-top-container\"><div class=\"sk-text-repr-fallback\"><pre>LogisticRegression()</pre><b>In a Jupyter environment, please rerun this cell to show the HTML representation or trust the notebook. <br />On GitHub, the HTML representation is unable to render, please try loading this page with nbviewer.org.</b></div><div class=\"sk-container\" hidden><div class=\"sk-item\"><div class=\"sk-estimator sk-toggleable\"><input class=\"sk-toggleable__control sk-hidden--visually\" id=\"sk-estimator-id-1\" type=\"checkbox\" checked><label for=\"sk-estimator-id-1\" class=\"sk-toggleable__label sk-toggleable__label-arrow\">LogisticRegression</label><div class=\"sk-toggleable__content\"><pre>LogisticRegression()</pre></div></div></div></div></div>"
      ],
      "text/plain": [
       "LogisticRegression()"
      ]
     },
     "execution_count": 63,
     "metadata": {},
     "output_type": "execute_result"
    }
   ],
   "source": [
    "logmodel = LogisticRegression()\n",
    "logmodel.fit(X_train,y_train)"
   ]
  },
  {
   "cell_type": "code",
   "execution_count": 64,
   "id": "40b41c03-7284-4257-9153-568bdd093aa6",
   "metadata": {},
   "outputs": [],
   "source": [
    "predictions = logmodel.predict(X_test)"
   ]
  },
  {
   "cell_type": "code",
   "execution_count": 65,
   "id": "70b7a842-baf0-4172-85de-2c66827df625",
   "metadata": {},
   "outputs": [],
   "source": [
    "from sklearn.metrics import classification_report"
   ]
  },
  {
   "cell_type": "code",
   "execution_count": 66,
   "id": "69262017-32e5-4fd6-840b-84a6492c08de",
   "metadata": {},
   "outputs": [
    {
     "name": "stdout",
     "output_type": "stream",
     "text": [
      "              precision    recall  f1-score   support\n",
      "\n",
      "         0.0       0.83      0.94      0.88      7436\n",
      "         1.0       0.67      0.37      0.48      2333\n",
      "\n",
      "    accuracy                           0.81      9769\n",
      "   macro avg       0.75      0.66      0.68      9769\n",
      "weighted avg       0.79      0.81      0.78      9769\n",
      "\n"
     ]
    }
   ],
   "source": [
    "print(classification_report(y_test,predictions))"
   ]
  },
  {
   "cell_type": "code",
   "execution_count": 67,
   "id": "1657f351-e065-419d-90f0-2e05d358d839",
   "metadata": {},
   "outputs": [
    {
     "data": {
      "text/plain": [
       "0.8060190398198382"
      ]
     },
     "execution_count": 67,
     "metadata": {},
     "output_type": "execute_result"
    }
   ],
   "source": [
    "from sklearn.metrics import accuracy_score\n",
    "accuracy_score(y_test, predictions)"
   ]
  },
  {
   "cell_type": "markdown",
   "id": "0ab731c5-fafc-48bc-8968-90e0307b1aa9",
   "metadata": {},
   "source": [
    "## Decision Tree Classifier "
   ]
  },
  {
   "cell_type": "code",
   "execution_count": 70,
   "id": "069a6632-d994-4dd0-a8c1-08b784ab8b90",
   "metadata": {},
   "outputs": [],
   "source": [
    "from sklearn.tree import DecisionTreeClassifier"
   ]
  },
  {
   "cell_type": "code",
   "execution_count": 71,
   "id": "7d77878b-7e29-4c52-b3a8-30e81ced5d5e",
   "metadata": {},
   "outputs": [],
   "source": [
    "dtree = DecisionTreeClassifier()"
   ]
  },
  {
   "cell_type": "code",
   "execution_count": 72,
   "id": "e42e3517-d441-4d85-a950-b7679c8f4010",
   "metadata": {},
   "outputs": [
    {
     "data": {
      "text/html": [
       "<style>#sk-container-id-2 {color: black;}#sk-container-id-2 pre{padding: 0;}#sk-container-id-2 div.sk-toggleable {background-color: white;}#sk-container-id-2 label.sk-toggleable__label {cursor: pointer;display: block;width: 100%;margin-bottom: 0;padding: 0.3em;box-sizing: border-box;text-align: center;}#sk-container-id-2 label.sk-toggleable__label-arrow:before {content: \"▸\";float: left;margin-right: 0.25em;color: #696969;}#sk-container-id-2 label.sk-toggleable__label-arrow:hover:before {color: black;}#sk-container-id-2 div.sk-estimator:hover label.sk-toggleable__label-arrow:before {color: black;}#sk-container-id-2 div.sk-toggleable__content {max-height: 0;max-width: 0;overflow: hidden;text-align: left;background-color: #f0f8ff;}#sk-container-id-2 div.sk-toggleable__content pre {margin: 0.2em;color: black;border-radius: 0.25em;background-color: #f0f8ff;}#sk-container-id-2 input.sk-toggleable__control:checked~div.sk-toggleable__content {max-height: 200px;max-width: 100%;overflow: auto;}#sk-container-id-2 input.sk-toggleable__control:checked~label.sk-toggleable__label-arrow:before {content: \"▾\";}#sk-container-id-2 div.sk-estimator input.sk-toggleable__control:checked~label.sk-toggleable__label {background-color: #d4ebff;}#sk-container-id-2 div.sk-label input.sk-toggleable__control:checked~label.sk-toggleable__label {background-color: #d4ebff;}#sk-container-id-2 input.sk-hidden--visually {border: 0;clip: rect(1px 1px 1px 1px);clip: rect(1px, 1px, 1px, 1px);height: 1px;margin: -1px;overflow: hidden;padding: 0;position: absolute;width: 1px;}#sk-container-id-2 div.sk-estimator {font-family: monospace;background-color: #f0f8ff;border: 1px dotted black;border-radius: 0.25em;box-sizing: border-box;margin-bottom: 0.5em;}#sk-container-id-2 div.sk-estimator:hover {background-color: #d4ebff;}#sk-container-id-2 div.sk-parallel-item::after {content: \"\";width: 100%;border-bottom: 1px solid gray;flex-grow: 1;}#sk-container-id-2 div.sk-label:hover label.sk-toggleable__label {background-color: #d4ebff;}#sk-container-id-2 div.sk-serial::before {content: \"\";position: absolute;border-left: 1px solid gray;box-sizing: border-box;top: 0;bottom: 0;left: 50%;z-index: 0;}#sk-container-id-2 div.sk-serial {display: flex;flex-direction: column;align-items: center;background-color: white;padding-right: 0.2em;padding-left: 0.2em;position: relative;}#sk-container-id-2 div.sk-item {position: relative;z-index: 1;}#sk-container-id-2 div.sk-parallel {display: flex;align-items: stretch;justify-content: center;background-color: white;position: relative;}#sk-container-id-2 div.sk-item::before, #sk-container-id-2 div.sk-parallel-item::before {content: \"\";position: absolute;border-left: 1px solid gray;box-sizing: border-box;top: 0;bottom: 0;left: 50%;z-index: -1;}#sk-container-id-2 div.sk-parallel-item {display: flex;flex-direction: column;z-index: 1;position: relative;background-color: white;}#sk-container-id-2 div.sk-parallel-item:first-child::after {align-self: flex-end;width: 50%;}#sk-container-id-2 div.sk-parallel-item:last-child::after {align-self: flex-start;width: 50%;}#sk-container-id-2 div.sk-parallel-item:only-child::after {width: 0;}#sk-container-id-2 div.sk-dashed-wrapped {border: 1px dashed gray;margin: 0 0.4em 0.5em 0.4em;box-sizing: border-box;padding-bottom: 0.4em;background-color: white;}#sk-container-id-2 div.sk-label label {font-family: monospace;font-weight: bold;display: inline-block;line-height: 1.2em;}#sk-container-id-2 div.sk-label-container {text-align: center;}#sk-container-id-2 div.sk-container {/* jupyter's `normalize.less` sets `[hidden] { display: none; }` but bootstrap.min.css set `[hidden] { display: none !important; }` so we also need the `!important` here to be able to override the default hidden behavior on the sphinx rendered scikit-learn.org. See: https://github.com/scikit-learn/scikit-learn/issues/21755 */display: inline-block !important;position: relative;}#sk-container-id-2 div.sk-text-repr-fallback {display: none;}</style><div id=\"sk-container-id-2\" class=\"sk-top-container\"><div class=\"sk-text-repr-fallback\"><pre>DecisionTreeClassifier()</pre><b>In a Jupyter environment, please rerun this cell to show the HTML representation or trust the notebook. <br />On GitHub, the HTML representation is unable to render, please try loading this page with nbviewer.org.</b></div><div class=\"sk-container\" hidden><div class=\"sk-item\"><div class=\"sk-estimator sk-toggleable\"><input class=\"sk-toggleable__control sk-hidden--visually\" id=\"sk-estimator-id-2\" type=\"checkbox\" checked><label for=\"sk-estimator-id-2\" class=\"sk-toggleable__label sk-toggleable__label-arrow\">DecisionTreeClassifier</label><div class=\"sk-toggleable__content\"><pre>DecisionTreeClassifier()</pre></div></div></div></div></div>"
      ],
      "text/plain": [
       "DecisionTreeClassifier()"
      ]
     },
     "execution_count": 72,
     "metadata": {},
     "output_type": "execute_result"
    }
   ],
   "source": [
    "dtree.fit(X_train,y_train)"
   ]
  },
  {
   "cell_type": "code",
   "execution_count": 73,
   "id": "393f882d-6062-4326-a1f1-940469e5cf46",
   "metadata": {},
   "outputs": [
    {
     "name": "stdout",
     "output_type": "stream",
     "text": [
      "Coefficient of determination R^2 <-- on train set: 0.9953053703053703\n"
     ]
    }
   ],
   "source": [
    "print(\"Coefficient of determination R^2 <-- on train set: {}\".format(dtree.score(X_train, y_train)))"
   ]
  },
  {
   "cell_type": "code",
   "execution_count": 74,
   "id": "7b9feb5e-3d37-4145-a398-3c593bc940ec",
   "metadata": {},
   "outputs": [
    {
     "name": "stdout",
     "output_type": "stream",
     "text": [
      "Coefficient of determination R^2 <-- on test set: 0.772852902037056\n"
     ]
    }
   ],
   "source": [
    "print(\"Coefficient of determination R^2 <-- on test set: {}\".format(dtree.score(X_test, y_test)))"
   ]
  },
  {
   "cell_type": "code",
   "execution_count": 75,
   "id": "719f308e-bdb7-4cfe-baaa-2f540a481074",
   "metadata": {},
   "outputs": [],
   "source": [
    "from sklearn.model_selection import cross_val_score\n",
    "score=cross_val_score(dtree,data_dropped.drop('Salary',axis=1),data_dropped['Salary'],cv=5)"
   ]
  },
  {
   "cell_type": "code",
   "execution_count": 76,
   "id": "4320e610-c2e4-4da6-939f-e4181c5f2f14",
   "metadata": {},
   "outputs": [
    {
     "data": {
      "text/plain": [
       "0.7629679640907187"
      ]
     },
     "execution_count": 76,
     "metadata": {},
     "output_type": "execute_result"
    }
   ],
   "source": [
    "score.mean()"
   ]
  },
  {
   "cell_type": "markdown",
   "id": "a1f2f714-b682-485c-8b60-1ebf41e4c610",
   "metadata": {},
   "source": [
    "## Random Forest "
   ]
  },
  {
   "cell_type": "code",
   "execution_count": 77,
   "id": "aabe2ce5-46d0-4fd5-8cfa-20c29b296a66",
   "metadata": {},
   "outputs": [],
   "source": [
    "from sklearn.ensemble import RandomForestClassifier"
   ]
  },
  {
   "cell_type": "code",
   "execution_count": 78,
   "id": "64ff1cf2-475e-40b3-aa75-f26158b16a0d",
   "metadata": {},
   "outputs": [
    {
     "data": {
      "text/html": [
       "<style>#sk-container-id-3 {color: black;}#sk-container-id-3 pre{padding: 0;}#sk-container-id-3 div.sk-toggleable {background-color: white;}#sk-container-id-3 label.sk-toggleable__label {cursor: pointer;display: block;width: 100%;margin-bottom: 0;padding: 0.3em;box-sizing: border-box;text-align: center;}#sk-container-id-3 label.sk-toggleable__label-arrow:before {content: \"▸\";float: left;margin-right: 0.25em;color: #696969;}#sk-container-id-3 label.sk-toggleable__label-arrow:hover:before {color: black;}#sk-container-id-3 div.sk-estimator:hover label.sk-toggleable__label-arrow:before {color: black;}#sk-container-id-3 div.sk-toggleable__content {max-height: 0;max-width: 0;overflow: hidden;text-align: left;background-color: #f0f8ff;}#sk-container-id-3 div.sk-toggleable__content pre {margin: 0.2em;color: black;border-radius: 0.25em;background-color: #f0f8ff;}#sk-container-id-3 input.sk-toggleable__control:checked~div.sk-toggleable__content {max-height: 200px;max-width: 100%;overflow: auto;}#sk-container-id-3 input.sk-toggleable__control:checked~label.sk-toggleable__label-arrow:before {content: \"▾\";}#sk-container-id-3 div.sk-estimator input.sk-toggleable__control:checked~label.sk-toggleable__label {background-color: #d4ebff;}#sk-container-id-3 div.sk-label input.sk-toggleable__control:checked~label.sk-toggleable__label {background-color: #d4ebff;}#sk-container-id-3 input.sk-hidden--visually {border: 0;clip: rect(1px 1px 1px 1px);clip: rect(1px, 1px, 1px, 1px);height: 1px;margin: -1px;overflow: hidden;padding: 0;position: absolute;width: 1px;}#sk-container-id-3 div.sk-estimator {font-family: monospace;background-color: #f0f8ff;border: 1px dotted black;border-radius: 0.25em;box-sizing: border-box;margin-bottom: 0.5em;}#sk-container-id-3 div.sk-estimator:hover {background-color: #d4ebff;}#sk-container-id-3 div.sk-parallel-item::after {content: \"\";width: 100%;border-bottom: 1px solid gray;flex-grow: 1;}#sk-container-id-3 div.sk-label:hover label.sk-toggleable__label {background-color: #d4ebff;}#sk-container-id-3 div.sk-serial::before {content: \"\";position: absolute;border-left: 1px solid gray;box-sizing: border-box;top: 0;bottom: 0;left: 50%;z-index: 0;}#sk-container-id-3 div.sk-serial {display: flex;flex-direction: column;align-items: center;background-color: white;padding-right: 0.2em;padding-left: 0.2em;position: relative;}#sk-container-id-3 div.sk-item {position: relative;z-index: 1;}#sk-container-id-3 div.sk-parallel {display: flex;align-items: stretch;justify-content: center;background-color: white;position: relative;}#sk-container-id-3 div.sk-item::before, #sk-container-id-3 div.sk-parallel-item::before {content: \"\";position: absolute;border-left: 1px solid gray;box-sizing: border-box;top: 0;bottom: 0;left: 50%;z-index: -1;}#sk-container-id-3 div.sk-parallel-item {display: flex;flex-direction: column;z-index: 1;position: relative;background-color: white;}#sk-container-id-3 div.sk-parallel-item:first-child::after {align-self: flex-end;width: 50%;}#sk-container-id-3 div.sk-parallel-item:last-child::after {align-self: flex-start;width: 50%;}#sk-container-id-3 div.sk-parallel-item:only-child::after {width: 0;}#sk-container-id-3 div.sk-dashed-wrapped {border: 1px dashed gray;margin: 0 0.4em 0.5em 0.4em;box-sizing: border-box;padding-bottom: 0.4em;background-color: white;}#sk-container-id-3 div.sk-label label {font-family: monospace;font-weight: bold;display: inline-block;line-height: 1.2em;}#sk-container-id-3 div.sk-label-container {text-align: center;}#sk-container-id-3 div.sk-container {/* jupyter's `normalize.less` sets `[hidden] { display: none; }` but bootstrap.min.css set `[hidden] { display: none !important; }` so we also need the `!important` here to be able to override the default hidden behavior on the sphinx rendered scikit-learn.org. See: https://github.com/scikit-learn/scikit-learn/issues/21755 */display: inline-block !important;position: relative;}#sk-container-id-3 div.sk-text-repr-fallback {display: none;}</style><div id=\"sk-container-id-3\" class=\"sk-top-container\"><div class=\"sk-text-repr-fallback\"><pre>RandomForestClassifier()</pre><b>In a Jupyter environment, please rerun this cell to show the HTML representation or trust the notebook. <br />On GitHub, the HTML representation is unable to render, please try loading this page with nbviewer.org.</b></div><div class=\"sk-container\" hidden><div class=\"sk-item\"><div class=\"sk-estimator sk-toggleable\"><input class=\"sk-toggleable__control sk-hidden--visually\" id=\"sk-estimator-id-3\" type=\"checkbox\" checked><label for=\"sk-estimator-id-3\" class=\"sk-toggleable__label sk-toggleable__label-arrow\">RandomForestClassifier</label><div class=\"sk-toggleable__content\"><pre>RandomForestClassifier()</pre></div></div></div></div></div>"
      ],
      "text/plain": [
       "RandomForestClassifier()"
      ]
     },
     "execution_count": 78,
     "metadata": {},
     "output_type": "execute_result"
    }
   ],
   "source": [
    "rfc=RandomForestClassifier()\n",
    "rfc.fit(X_train, y_train)"
   ]
  },
  {
   "cell_type": "code",
   "execution_count": 79,
   "id": "e0346445-b97e-49f4-9305-8eaf85a3a4c0",
   "metadata": {},
   "outputs": [],
   "source": [
    "y_pred = rfc.predict(X_test)"
   ]
  },
  {
   "cell_type": "code",
   "execution_count": 80,
   "id": "b6efd603-3be1-46dc-9a52-f0824e0c2bc1",
   "metadata": {},
   "outputs": [],
   "source": [
    "accuracy = accuracy_score(y_test, y_pred)"
   ]
  },
  {
   "cell_type": "code",
   "execution_count": 81,
   "id": "68fec56c-23f2-4ec3-8df8-2c09b3642e38",
   "metadata": {},
   "outputs": [
    {
     "name": "stdout",
     "output_type": "stream",
     "text": [
      "Accuracy: 0.80\n"
     ]
    }
   ],
   "source": [
    "print(f'Accuracy: {accuracy:.2f}')"
   ]
  },
  {
   "cell_type": "markdown",
   "id": "9d64ecfe-d9da-444a-ae5f-bd86da182a5b",
   "metadata": {},
   "source": [
    "## Gradient Boosting"
   ]
  },
  {
   "cell_type": "code",
   "execution_count": 82,
   "id": "cb097481-f6b7-45b7-89fa-8d4313798583",
   "metadata": {},
   "outputs": [],
   "source": [
    "from sklearn.ensemble import GradientBoostingClassifier\n",
    "from sklearn.metrics import accuracy_score"
   ]
  },
  {
   "cell_type": "code",
   "execution_count": 83,
   "id": "a1a64509-f722-453e-8c30-ac0d43676f59",
   "metadata": {},
   "outputs": [],
   "source": [
    "gb_classifier = GradientBoostingClassifier(n_estimators=100, learning_rate=0.1, max_depth=3, random_state=42)"
   ]
  },
  {
   "cell_type": "code",
   "execution_count": 84,
   "id": "9c2ca835-06e6-49fa-bc12-b3c313961f70",
   "metadata": {},
   "outputs": [
    {
     "data": {
      "text/html": [
       "<style>#sk-container-id-4 {color: black;}#sk-container-id-4 pre{padding: 0;}#sk-container-id-4 div.sk-toggleable {background-color: white;}#sk-container-id-4 label.sk-toggleable__label {cursor: pointer;display: block;width: 100%;margin-bottom: 0;padding: 0.3em;box-sizing: border-box;text-align: center;}#sk-container-id-4 label.sk-toggleable__label-arrow:before {content: \"▸\";float: left;margin-right: 0.25em;color: #696969;}#sk-container-id-4 label.sk-toggleable__label-arrow:hover:before {color: black;}#sk-container-id-4 div.sk-estimator:hover label.sk-toggleable__label-arrow:before {color: black;}#sk-container-id-4 div.sk-toggleable__content {max-height: 0;max-width: 0;overflow: hidden;text-align: left;background-color: #f0f8ff;}#sk-container-id-4 div.sk-toggleable__content pre {margin: 0.2em;color: black;border-radius: 0.25em;background-color: #f0f8ff;}#sk-container-id-4 input.sk-toggleable__control:checked~div.sk-toggleable__content {max-height: 200px;max-width: 100%;overflow: auto;}#sk-container-id-4 input.sk-toggleable__control:checked~label.sk-toggleable__label-arrow:before {content: \"▾\";}#sk-container-id-4 div.sk-estimator input.sk-toggleable__control:checked~label.sk-toggleable__label {background-color: #d4ebff;}#sk-container-id-4 div.sk-label input.sk-toggleable__control:checked~label.sk-toggleable__label {background-color: #d4ebff;}#sk-container-id-4 input.sk-hidden--visually {border: 0;clip: rect(1px 1px 1px 1px);clip: rect(1px, 1px, 1px, 1px);height: 1px;margin: -1px;overflow: hidden;padding: 0;position: absolute;width: 1px;}#sk-container-id-4 div.sk-estimator {font-family: monospace;background-color: #f0f8ff;border: 1px dotted black;border-radius: 0.25em;box-sizing: border-box;margin-bottom: 0.5em;}#sk-container-id-4 div.sk-estimator:hover {background-color: #d4ebff;}#sk-container-id-4 div.sk-parallel-item::after {content: \"\";width: 100%;border-bottom: 1px solid gray;flex-grow: 1;}#sk-container-id-4 div.sk-label:hover label.sk-toggleable__label {background-color: #d4ebff;}#sk-container-id-4 div.sk-serial::before {content: \"\";position: absolute;border-left: 1px solid gray;box-sizing: border-box;top: 0;bottom: 0;left: 50%;z-index: 0;}#sk-container-id-4 div.sk-serial {display: flex;flex-direction: column;align-items: center;background-color: white;padding-right: 0.2em;padding-left: 0.2em;position: relative;}#sk-container-id-4 div.sk-item {position: relative;z-index: 1;}#sk-container-id-4 div.sk-parallel {display: flex;align-items: stretch;justify-content: center;background-color: white;position: relative;}#sk-container-id-4 div.sk-item::before, #sk-container-id-4 div.sk-parallel-item::before {content: \"\";position: absolute;border-left: 1px solid gray;box-sizing: border-box;top: 0;bottom: 0;left: 50%;z-index: -1;}#sk-container-id-4 div.sk-parallel-item {display: flex;flex-direction: column;z-index: 1;position: relative;background-color: white;}#sk-container-id-4 div.sk-parallel-item:first-child::after {align-self: flex-end;width: 50%;}#sk-container-id-4 div.sk-parallel-item:last-child::after {align-self: flex-start;width: 50%;}#sk-container-id-4 div.sk-parallel-item:only-child::after {width: 0;}#sk-container-id-4 div.sk-dashed-wrapped {border: 1px dashed gray;margin: 0 0.4em 0.5em 0.4em;box-sizing: border-box;padding-bottom: 0.4em;background-color: white;}#sk-container-id-4 div.sk-label label {font-family: monospace;font-weight: bold;display: inline-block;line-height: 1.2em;}#sk-container-id-4 div.sk-label-container {text-align: center;}#sk-container-id-4 div.sk-container {/* jupyter's `normalize.less` sets `[hidden] { display: none; }` but bootstrap.min.css set `[hidden] { display: none !important; }` so we also need the `!important` here to be able to override the default hidden behavior on the sphinx rendered scikit-learn.org. See: https://github.com/scikit-learn/scikit-learn/issues/21755 */display: inline-block !important;position: relative;}#sk-container-id-4 div.sk-text-repr-fallback {display: none;}</style><div id=\"sk-container-id-4\" class=\"sk-top-container\"><div class=\"sk-text-repr-fallback\"><pre>GradientBoostingClassifier(random_state=42)</pre><b>In a Jupyter environment, please rerun this cell to show the HTML representation or trust the notebook. <br />On GitHub, the HTML representation is unable to render, please try loading this page with nbviewer.org.</b></div><div class=\"sk-container\" hidden><div class=\"sk-item\"><div class=\"sk-estimator sk-toggleable\"><input class=\"sk-toggleable__control sk-hidden--visually\" id=\"sk-estimator-id-4\" type=\"checkbox\" checked><label for=\"sk-estimator-id-4\" class=\"sk-toggleable__label sk-toggleable__label-arrow\">GradientBoostingClassifier</label><div class=\"sk-toggleable__content\"><pre>GradientBoostingClassifier(random_state=42)</pre></div></div></div></div></div>"
      ],
      "text/plain": [
       "GradientBoostingClassifier(random_state=42)"
      ]
     },
     "execution_count": 84,
     "metadata": {},
     "output_type": "execute_result"
    }
   ],
   "source": [
    "gb_classifier.fit(X_train, y_train)"
   ]
  },
  {
   "cell_type": "code",
   "execution_count": 86,
   "id": "624d6403-ac1f-4796-88f0-bffbb58d38e5",
   "metadata": {},
   "outputs": [],
   "source": [
    "y_pred = gb_classifier.predict(X_test)"
   ]
  },
  {
   "cell_type": "code",
   "execution_count": 87,
   "id": "42d6dbc0-c8a4-4b0c-a041-dd59a0f6de41",
   "metadata": {},
   "outputs": [
    {
     "name": "stdout",
     "output_type": "stream",
     "text": [
      "Accuracy: 0.83\n"
     ]
    }
   ],
   "source": [
    "accuracy = accuracy_score(y_test, y_pred)\n",
    "print(f'Accuracy: {accuracy:.2f}')"
   ]
  },
  {
   "cell_type": "markdown",
   "id": "6185995a-0046-4cf4-817b-55edd90d347d",
   "metadata": {},
   "source": [
    "## Best Score 83%"
   ]
  },
  {
   "cell_type": "code",
   "execution_count": null,
   "id": "d35f51bb-cefd-4ebf-935b-e158bc5667b9",
   "metadata": {},
   "outputs": [],
   "source": []
  }
 ],
 "metadata": {
  "kernelspec": {
   "display_name": "Python 3 (ipykernel)",
   "language": "python",
   "name": "python3"
  },
  "language_info": {
   "codemirror_mode": {
    "name": "ipython",
    "version": 3
   },
   "file_extension": ".py",
   "mimetype": "text/x-python",
   "name": "python",
   "nbconvert_exporter": "python",
   "pygments_lexer": "ipython3",
   "version": "3.11.5"
  }
 },
 "nbformat": 4,
 "nbformat_minor": 5
}
