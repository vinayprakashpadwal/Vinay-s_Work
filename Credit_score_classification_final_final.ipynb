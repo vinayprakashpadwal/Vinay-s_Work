{
 "cells": [
  {
   "cell_type": "markdown",
   "id": "b1017d73-8f04-4d1d-956d-92144f74ba95",
   "metadata": {},
   "source": [
    "## DATA EXPLORATION"
   ]
  },
  {
   "cell_type": "markdown",
   "id": "ace15e59-aeaa-4f8b-8eba-736820374fe2",
   "metadata": {},
   "source": [
    "#### Import required library"
   ]
  },
  {
   "cell_type": "code",
   "execution_count": 3,
   "id": "175f77b4-d8a9-4e23-a6aa-4c2b543703b7",
   "metadata": {},
   "outputs": [],
   "source": [
    "import pandas as pd\n",
    "import numpy as np\n",
    "\n",
    "import matplotlib.pyplot as plt\n",
    "import seaborn as sns\n",
    "\n",
    "from scipy.stats import chi2_contingency\n",
    "from sklearn.metrics import accuracy_score, confusion_matrix"
   ]
  },
  {
   "cell_type": "markdown",
   "id": "a9c298c0-caf9-4d0a-a0fb-24176af8c693",
   "metadata": {},
   "source": [
    "#### Importing the dataset"
   ]
  },
  {
   "cell_type": "code",
   "execution_count": 5,
   "id": "2c51edd2-a7f8-42d3-af91-9e5293c00011",
   "metadata": {},
   "outputs": [],
   "source": [
    "df = pd.read_csv(r\"C:\\BIA\\Capstone\\Data\\archive\\Credit Score Classification Dataset.csv\")"
   ]
  },
  {
   "cell_type": "code",
   "execution_count": 6,
   "id": "d17780d2-b7d5-4112-9894-c3d5481cb2d9",
   "metadata": {},
   "outputs": [
    {
     "data": {
      "text/html": [
       "<div>\n",
       "<style scoped>\n",
       "    .dataframe tbody tr th:only-of-type {\n",
       "        vertical-align: middle;\n",
       "    }\n",
       "\n",
       "    .dataframe tbody tr th {\n",
       "        vertical-align: top;\n",
       "    }\n",
       "\n",
       "    .dataframe thead th {\n",
       "        text-align: right;\n",
       "    }\n",
       "</style>\n",
       "<table border=\"1\" class=\"dataframe\">\n",
       "  <thead>\n",
       "    <tr style=\"text-align: right;\">\n",
       "      <th></th>\n",
       "      <th>Age</th>\n",
       "      <th>Gender</th>\n",
       "      <th>Income</th>\n",
       "      <th>Education</th>\n",
       "      <th>Marital Status</th>\n",
       "      <th>Number of Children</th>\n",
       "      <th>Home Ownership</th>\n",
       "      <th>Credit Score</th>\n",
       "    </tr>\n",
       "  </thead>\n",
       "  <tbody>\n",
       "    <tr>\n",
       "      <th>0</th>\n",
       "      <td>25</td>\n",
       "      <td>Female</td>\n",
       "      <td>50000</td>\n",
       "      <td>Bachelor's Degree</td>\n",
       "      <td>Single</td>\n",
       "      <td>0</td>\n",
       "      <td>Rented</td>\n",
       "      <td>High</td>\n",
       "    </tr>\n",
       "    <tr>\n",
       "      <th>1</th>\n",
       "      <td>30</td>\n",
       "      <td>Male</td>\n",
       "      <td>100000</td>\n",
       "      <td>Master's Degree</td>\n",
       "      <td>Married</td>\n",
       "      <td>2</td>\n",
       "      <td>Owned</td>\n",
       "      <td>High</td>\n",
       "    </tr>\n",
       "    <tr>\n",
       "      <th>2</th>\n",
       "      <td>35</td>\n",
       "      <td>Female</td>\n",
       "      <td>75000</td>\n",
       "      <td>Doctorate</td>\n",
       "      <td>Married</td>\n",
       "      <td>1</td>\n",
       "      <td>Owned</td>\n",
       "      <td>High</td>\n",
       "    </tr>\n",
       "    <tr>\n",
       "      <th>3</th>\n",
       "      <td>40</td>\n",
       "      <td>Male</td>\n",
       "      <td>125000</td>\n",
       "      <td>High School Diploma</td>\n",
       "      <td>Single</td>\n",
       "      <td>0</td>\n",
       "      <td>Owned</td>\n",
       "      <td>High</td>\n",
       "    </tr>\n",
       "    <tr>\n",
       "      <th>4</th>\n",
       "      <td>45</td>\n",
       "      <td>Female</td>\n",
       "      <td>100000</td>\n",
       "      <td>Bachelor's Degree</td>\n",
       "      <td>Married</td>\n",
       "      <td>3</td>\n",
       "      <td>Owned</td>\n",
       "      <td>High</td>\n",
       "    </tr>\n",
       "  </tbody>\n",
       "</table>\n",
       "</div>"
      ],
      "text/plain": [
       "   Age  Gender  Income            Education Marital Status  \\\n",
       "0   25  Female   50000    Bachelor's Degree         Single   \n",
       "1   30    Male  100000      Master's Degree        Married   \n",
       "2   35  Female   75000            Doctorate        Married   \n",
       "3   40    Male  125000  High School Diploma         Single   \n",
       "4   45  Female  100000    Bachelor's Degree        Married   \n",
       "\n",
       "   Number of Children Home Ownership Credit Score  \n",
       "0                   0         Rented         High  \n",
       "1                   2          Owned         High  \n",
       "2                   1          Owned         High  \n",
       "3                   0          Owned         High  \n",
       "4                   3          Owned         High  "
      ]
     },
     "execution_count": 6,
     "metadata": {},
     "output_type": "execute_result"
    }
   ],
   "source": [
    "# Viewing the first 5 rows of the data\n",
    "\n",
    "df.head()"
   ]
  },
  {
   "cell_type": "code",
   "execution_count": 7,
   "id": "e0c5cfe2-4051-4626-b77e-25d34afcd664",
   "metadata": {},
   "outputs": [
    {
     "data": {
      "text/html": [
       "<div>\n",
       "<style scoped>\n",
       "    .dataframe tbody tr th:only-of-type {\n",
       "        vertical-align: middle;\n",
       "    }\n",
       "\n",
       "    .dataframe tbody tr th {\n",
       "        vertical-align: top;\n",
       "    }\n",
       "\n",
       "    .dataframe thead th {\n",
       "        text-align: right;\n",
       "    }\n",
       "</style>\n",
       "<table border=\"1\" class=\"dataframe\">\n",
       "  <thead>\n",
       "    <tr style=\"text-align: right;\">\n",
       "      <th></th>\n",
       "      <th>Age</th>\n",
       "      <th>Gender</th>\n",
       "      <th>Income</th>\n",
       "      <th>Education</th>\n",
       "      <th>Marital Status</th>\n",
       "      <th>Number of Children</th>\n",
       "      <th>Home Ownership</th>\n",
       "      <th>Credit Score</th>\n",
       "    </tr>\n",
       "  </thead>\n",
       "  <tbody>\n",
       "    <tr>\n",
       "      <th>159</th>\n",
       "      <td>29</td>\n",
       "      <td>Female</td>\n",
       "      <td>27500</td>\n",
       "      <td>High School Diploma</td>\n",
       "      <td>Single</td>\n",
       "      <td>0</td>\n",
       "      <td>Rented</td>\n",
       "      <td>Low</td>\n",
       "    </tr>\n",
       "    <tr>\n",
       "      <th>160</th>\n",
       "      <td>34</td>\n",
       "      <td>Male</td>\n",
       "      <td>47500</td>\n",
       "      <td>Associate's Degree</td>\n",
       "      <td>Single</td>\n",
       "      <td>0</td>\n",
       "      <td>Rented</td>\n",
       "      <td>Average</td>\n",
       "    </tr>\n",
       "    <tr>\n",
       "      <th>161</th>\n",
       "      <td>39</td>\n",
       "      <td>Female</td>\n",
       "      <td>62500</td>\n",
       "      <td>Bachelor's Degree</td>\n",
       "      <td>Married</td>\n",
       "      <td>2</td>\n",
       "      <td>Owned</td>\n",
       "      <td>High</td>\n",
       "    </tr>\n",
       "    <tr>\n",
       "      <th>162</th>\n",
       "      <td>44</td>\n",
       "      <td>Male</td>\n",
       "      <td>87500</td>\n",
       "      <td>Master's Degree</td>\n",
       "      <td>Single</td>\n",
       "      <td>0</td>\n",
       "      <td>Owned</td>\n",
       "      <td>High</td>\n",
       "    </tr>\n",
       "    <tr>\n",
       "      <th>163</th>\n",
       "      <td>49</td>\n",
       "      <td>Female</td>\n",
       "      <td>77500</td>\n",
       "      <td>Doctorate</td>\n",
       "      <td>Married</td>\n",
       "      <td>1</td>\n",
       "      <td>Owned</td>\n",
       "      <td>High</td>\n",
       "    </tr>\n",
       "  </tbody>\n",
       "</table>\n",
       "</div>"
      ],
      "text/plain": [
       "     Age  Gender  Income            Education Marital Status  \\\n",
       "159   29  Female   27500  High School Diploma         Single   \n",
       "160   34    Male   47500   Associate's Degree         Single   \n",
       "161   39  Female   62500    Bachelor's Degree        Married   \n",
       "162   44    Male   87500      Master's Degree         Single   \n",
       "163   49  Female   77500            Doctorate        Married   \n",
       "\n",
       "     Number of Children Home Ownership Credit Score  \n",
       "159                   0         Rented          Low  \n",
       "160                   0         Rented      Average  \n",
       "161                   2          Owned         High  \n",
       "162                   0          Owned         High  \n",
       "163                   1          Owned         High  "
      ]
     },
     "execution_count": 7,
     "metadata": {},
     "output_type": "execute_result"
    }
   ],
   "source": [
    "# Viewing the last 5 rows of the data\n",
    "\n",
    "df.tail()"
   ]
  },
  {
   "cell_type": "code",
   "execution_count": 8,
   "id": "54d3841a-d524-4a2b-a5c9-71b654eb11f2",
   "metadata": {},
   "outputs": [
    {
     "data": {
      "text/html": [
       "<div>\n",
       "<style scoped>\n",
       "    .dataframe tbody tr th:only-of-type {\n",
       "        vertical-align: middle;\n",
       "    }\n",
       "\n",
       "    .dataframe tbody tr th {\n",
       "        vertical-align: top;\n",
       "    }\n",
       "\n",
       "    .dataframe thead th {\n",
       "        text-align: right;\n",
       "    }\n",
       "</style>\n",
       "<table border=\"1\" class=\"dataframe\">\n",
       "  <thead>\n",
       "    <tr style=\"text-align: right;\">\n",
       "      <th></th>\n",
       "      <th>Age</th>\n",
       "      <th>Gender</th>\n",
       "      <th>Income</th>\n",
       "      <th>Education</th>\n",
       "      <th>Marital Status</th>\n",
       "      <th>Number of Children</th>\n",
       "      <th>Home Ownership</th>\n",
       "      <th>Credit Score</th>\n",
       "    </tr>\n",
       "  </thead>\n",
       "  <tbody>\n",
       "    <tr>\n",
       "      <th>126</th>\n",
       "      <td>30</td>\n",
       "      <td>Male</td>\n",
       "      <td>117500</td>\n",
       "      <td>Master's Degree</td>\n",
       "      <td>Married</td>\n",
       "      <td>2</td>\n",
       "      <td>Owned</td>\n",
       "      <td>High</td>\n",
       "    </tr>\n",
       "    <tr>\n",
       "      <th>57</th>\n",
       "      <td>49</td>\n",
       "      <td>Female</td>\n",
       "      <td>77500</td>\n",
       "      <td>Doctorate</td>\n",
       "      <td>Married</td>\n",
       "      <td>1</td>\n",
       "      <td>Owned</td>\n",
       "      <td>High</td>\n",
       "    </tr>\n",
       "    <tr>\n",
       "      <th>48</th>\n",
       "      <td>33</td>\n",
       "      <td>Male</td>\n",
       "      <td>52500</td>\n",
       "      <td>High School Diploma</td>\n",
       "      <td>Single</td>\n",
       "      <td>0</td>\n",
       "      <td>Rented</td>\n",
       "      <td>Average</td>\n",
       "    </tr>\n",
       "    <tr>\n",
       "      <th>65</th>\n",
       "      <td>45</td>\n",
       "      <td>Female</td>\n",
       "      <td>110000</td>\n",
       "      <td>Bachelor's Degree</td>\n",
       "      <td>Married</td>\n",
       "      <td>3</td>\n",
       "      <td>Owned</td>\n",
       "      <td>High</td>\n",
       "    </tr>\n",
       "    <tr>\n",
       "      <th>108</th>\n",
       "      <td>42</td>\n",
       "      <td>Male</td>\n",
       "      <td>110000</td>\n",
       "      <td>Master's Degree</td>\n",
       "      <td>Single</td>\n",
       "      <td>0</td>\n",
       "      <td>Owned</td>\n",
       "      <td>High</td>\n",
       "    </tr>\n",
       "  </tbody>\n",
       "</table>\n",
       "</div>"
      ],
      "text/plain": [
       "     Age  Gender  Income            Education Marital Status  \\\n",
       "126   30    Male  117500      Master's Degree        Married   \n",
       "57    49  Female   77500            Doctorate        Married   \n",
       "48    33    Male   52500  High School Diploma         Single   \n",
       "65    45  Female  110000    Bachelor's Degree        Married   \n",
       "108   42    Male  110000      Master's Degree         Single   \n",
       "\n",
       "     Number of Children Home Ownership Credit Score  \n",
       "126                   2          Owned         High  \n",
       "57                    1          Owned         High  \n",
       "48                    0         Rented      Average  \n",
       "65                    3          Owned         High  \n",
       "108                   0          Owned         High  "
      ]
     },
     "execution_count": 8,
     "metadata": {},
     "output_type": "execute_result"
    }
   ],
   "source": [
    "# Viewing the sample of the data randomly with no perticular order\n",
    "\n",
    "df.sample(5)"
   ]
  },
  {
   "cell_type": "code",
   "execution_count": 9,
   "id": "fcb960df-a62e-4cc2-b52f-48270d505822",
   "metadata": {},
   "outputs": [
    {
     "data": {
      "text/plain": [
       "(164, 8)"
      ]
     },
     "execution_count": 9,
     "metadata": {},
     "output_type": "execute_result"
    }
   ],
   "source": [
    "# Finding out the shape of the dataset\n",
    "\n",
    "df.shape"
   ]
  },
  {
   "cell_type": "markdown",
   "id": "e117c361-8b7f-4c28-8754-ca8b7d1f1c4e",
   "metadata": {},
   "source": [
    "##### Our dataset has 164 rows and 8 columns"
   ]
  },
  {
   "cell_type": "code",
   "execution_count": 11,
   "id": "47ee35c7-2a7b-4a53-b6c4-8bcbe132e020",
   "metadata": {},
   "outputs": [
    {
     "name": "stdout",
     "output_type": "stream",
     "text": [
      "<class 'pandas.core.frame.DataFrame'>\n",
      "RangeIndex: 164 entries, 0 to 163\n",
      "Data columns (total 8 columns):\n",
      " #   Column              Non-Null Count  Dtype \n",
      "---  ------              --------------  ----- \n",
      " 0   Age                 164 non-null    int64 \n",
      " 1   Gender              164 non-null    object\n",
      " 2   Income              164 non-null    int64 \n",
      " 3   Education           164 non-null    object\n",
      " 4   Marital Status      164 non-null    object\n",
      " 5   Number of Children  164 non-null    int64 \n",
      " 6   Home Ownership      164 non-null    object\n",
      " 7   Credit Score        164 non-null    object\n",
      "dtypes: int64(3), object(5)\n",
      "memory usage: 10.4+ KB\n"
     ]
    }
   ],
   "source": [
    "# Finding out the columns names and their data types\n",
    "\n",
    "df.info()"
   ]
  },
  {
   "cell_type": "markdown",
   "id": "84c5b127-c33c-45c4-9267-6cfc4139917c",
   "metadata": {},
   "source": [
    "##### We have a mixture of data types in our dataset. 5 of 8 columns are string objects and the rest are integer columns"
   ]
  },
  {
   "cell_type": "markdown",
   "id": "4d25bfa5-cc8a-4b5b-bc4e-fdd3576bac49",
   "metadata": {},
   "source": [
    "#### Numerical columns\n",
    "\n",
    "##### 1 - Age\n",
    "##### 2 - Income\n",
    "##### 3 - Number of children"
   ]
  },
  {
   "cell_type": "markdown",
   "id": "8628cfc0-d947-463f-b8c8-0ed6da25b7c0",
   "metadata": {},
   "source": [
    "#### Categorical columns\n",
    "\n",
    "##### 1 - Gender\n",
    "##### 2 - Education\n",
    "##### 3 - Marital Status\n",
    "##### 4 - Home Ownership\n",
    "##### 5 - Credit Score"
   ]
  },
  {
   "cell_type": "code",
   "execution_count": 15,
   "id": "a5e63c52-e0fd-4f35-ae8d-13f97d459209",
   "metadata": {},
   "outputs": [
    {
     "data": {
      "text/plain": [
       "Index(['Age', 'Gender', 'Income', 'Education', 'Marital Status',\n",
       "       'Number of Children', 'Home Ownership', 'Credit Score'],\n",
       "      dtype='object')"
      ]
     },
     "execution_count": 15,
     "metadata": {},
     "output_type": "execute_result"
    }
   ],
   "source": [
    "# Original column name \n",
    "df.columns"
   ]
  },
  {
   "cell_type": "code",
   "execution_count": 16,
   "id": "3456b038-2b58-43e9-8e16-05cf54d58f54",
   "metadata": {},
   "outputs": [
    {
     "data": {
      "text/plain": [
       "Index(['age', 'gender', 'income', 'education', 'marital status',\n",
       "       'number of children', 'home ownership', 'credit score'],\n",
       "      dtype='object')"
      ]
     },
     "execution_count": 16,
     "metadata": {},
     "output_type": "execute_result"
    }
   ],
   "source": [
    "# Standardising the column with lower case letters\n",
    "\n",
    "df.columns = df.columns.str.lower()\n",
    "df.columns"
   ]
  },
  {
   "cell_type": "code",
   "execution_count": 17,
   "id": "393e2b52-06c7-4714-8034-50272984314b",
   "metadata": {},
   "outputs": [],
   "source": [
    "# Replacing the space with underscore within the column name\n",
    "\n",
    "df.columns = df.columns.str.replace(' ', '_')"
   ]
  },
  {
   "cell_type": "code",
   "execution_count": 18,
   "id": "4b4b12d7-7cfe-4587-8bcf-fe2a5e4cca2f",
   "metadata": {},
   "outputs": [
    {
     "data": {
      "text/html": [
       "<div>\n",
       "<style scoped>\n",
       "    .dataframe tbody tr th:only-of-type {\n",
       "        vertical-align: middle;\n",
       "    }\n",
       "\n",
       "    .dataframe tbody tr th {\n",
       "        vertical-align: top;\n",
       "    }\n",
       "\n",
       "    .dataframe thead th {\n",
       "        text-align: right;\n",
       "    }\n",
       "</style>\n",
       "<table border=\"1\" class=\"dataframe\">\n",
       "  <thead>\n",
       "    <tr style=\"text-align: right;\">\n",
       "      <th></th>\n",
       "      <th>age</th>\n",
       "      <th>gender</th>\n",
       "      <th>income</th>\n",
       "      <th>education</th>\n",
       "      <th>marital_status</th>\n",
       "      <th>number_of_children</th>\n",
       "      <th>home_ownership</th>\n",
       "      <th>credit_score</th>\n",
       "    </tr>\n",
       "  </thead>\n",
       "  <tbody>\n",
       "    <tr>\n",
       "      <th>0</th>\n",
       "      <td>25</td>\n",
       "      <td>Female</td>\n",
       "      <td>50000</td>\n",
       "      <td>Bachelor's Degree</td>\n",
       "      <td>Single</td>\n",
       "      <td>0</td>\n",
       "      <td>Rented</td>\n",
       "      <td>High</td>\n",
       "    </tr>\n",
       "    <tr>\n",
       "      <th>1</th>\n",
       "      <td>30</td>\n",
       "      <td>Male</td>\n",
       "      <td>100000</td>\n",
       "      <td>Master's Degree</td>\n",
       "      <td>Married</td>\n",
       "      <td>2</td>\n",
       "      <td>Owned</td>\n",
       "      <td>High</td>\n",
       "    </tr>\n",
       "    <tr>\n",
       "      <th>2</th>\n",
       "      <td>35</td>\n",
       "      <td>Female</td>\n",
       "      <td>75000</td>\n",
       "      <td>Doctorate</td>\n",
       "      <td>Married</td>\n",
       "      <td>1</td>\n",
       "      <td>Owned</td>\n",
       "      <td>High</td>\n",
       "    </tr>\n",
       "    <tr>\n",
       "      <th>3</th>\n",
       "      <td>40</td>\n",
       "      <td>Male</td>\n",
       "      <td>125000</td>\n",
       "      <td>High School Diploma</td>\n",
       "      <td>Single</td>\n",
       "      <td>0</td>\n",
       "      <td>Owned</td>\n",
       "      <td>High</td>\n",
       "    </tr>\n",
       "    <tr>\n",
       "      <th>4</th>\n",
       "      <td>45</td>\n",
       "      <td>Female</td>\n",
       "      <td>100000</td>\n",
       "      <td>Bachelor's Degree</td>\n",
       "      <td>Married</td>\n",
       "      <td>3</td>\n",
       "      <td>Owned</td>\n",
       "      <td>High</td>\n",
       "    </tr>\n",
       "    <tr>\n",
       "      <th>...</th>\n",
       "      <td>...</td>\n",
       "      <td>...</td>\n",
       "      <td>...</td>\n",
       "      <td>...</td>\n",
       "      <td>...</td>\n",
       "      <td>...</td>\n",
       "      <td>...</td>\n",
       "      <td>...</td>\n",
       "    </tr>\n",
       "    <tr>\n",
       "      <th>159</th>\n",
       "      <td>29</td>\n",
       "      <td>Female</td>\n",
       "      <td>27500</td>\n",
       "      <td>High School Diploma</td>\n",
       "      <td>Single</td>\n",
       "      <td>0</td>\n",
       "      <td>Rented</td>\n",
       "      <td>Low</td>\n",
       "    </tr>\n",
       "    <tr>\n",
       "      <th>160</th>\n",
       "      <td>34</td>\n",
       "      <td>Male</td>\n",
       "      <td>47500</td>\n",
       "      <td>Associate's Degree</td>\n",
       "      <td>Single</td>\n",
       "      <td>0</td>\n",
       "      <td>Rented</td>\n",
       "      <td>Average</td>\n",
       "    </tr>\n",
       "    <tr>\n",
       "      <th>161</th>\n",
       "      <td>39</td>\n",
       "      <td>Female</td>\n",
       "      <td>62500</td>\n",
       "      <td>Bachelor's Degree</td>\n",
       "      <td>Married</td>\n",
       "      <td>2</td>\n",
       "      <td>Owned</td>\n",
       "      <td>High</td>\n",
       "    </tr>\n",
       "    <tr>\n",
       "      <th>162</th>\n",
       "      <td>44</td>\n",
       "      <td>Male</td>\n",
       "      <td>87500</td>\n",
       "      <td>Master's Degree</td>\n",
       "      <td>Single</td>\n",
       "      <td>0</td>\n",
       "      <td>Owned</td>\n",
       "      <td>High</td>\n",
       "    </tr>\n",
       "    <tr>\n",
       "      <th>163</th>\n",
       "      <td>49</td>\n",
       "      <td>Female</td>\n",
       "      <td>77500</td>\n",
       "      <td>Doctorate</td>\n",
       "      <td>Married</td>\n",
       "      <td>1</td>\n",
       "      <td>Owned</td>\n",
       "      <td>High</td>\n",
       "    </tr>\n",
       "  </tbody>\n",
       "</table>\n",
       "<p>164 rows × 8 columns</p>\n",
       "</div>"
      ],
      "text/plain": [
       "     age  gender  income            education marital_status  \\\n",
       "0     25  Female   50000    Bachelor's Degree         Single   \n",
       "1     30    Male  100000      Master's Degree        Married   \n",
       "2     35  Female   75000            Doctorate        Married   \n",
       "3     40    Male  125000  High School Diploma         Single   \n",
       "4     45  Female  100000    Bachelor's Degree        Married   \n",
       "..   ...     ...     ...                  ...            ...   \n",
       "159   29  Female   27500  High School Diploma         Single   \n",
       "160   34    Male   47500   Associate's Degree         Single   \n",
       "161   39  Female   62500    Bachelor's Degree        Married   \n",
       "162   44    Male   87500      Master's Degree         Single   \n",
       "163   49  Female   77500            Doctorate        Married   \n",
       "\n",
       "     number_of_children home_ownership credit_score  \n",
       "0                     0         Rented         High  \n",
       "1                     2          Owned         High  \n",
       "2                     1          Owned         High  \n",
       "3                     0          Owned         High  \n",
       "4                     3          Owned         High  \n",
       "..                  ...            ...          ...  \n",
       "159                   0         Rented          Low  \n",
       "160                   0         Rented      Average  \n",
       "161                   2          Owned         High  \n",
       "162                   0          Owned         High  \n",
       "163                   1          Owned         High  \n",
       "\n",
       "[164 rows x 8 columns]"
      ]
     },
     "execution_count": 18,
     "metadata": {},
     "output_type": "execute_result"
    }
   ],
   "source": [
    "df"
   ]
  },
  {
   "cell_type": "code",
   "execution_count": 19,
   "id": "af2f8ba5-d03b-4540-8004-2502f5fea3b9",
   "metadata": {},
   "outputs": [
    {
     "data": {
      "text/plain": [
       "age                   0\n",
       "gender                0\n",
       "income                0\n",
       "education             0\n",
       "marital_status        0\n",
       "number_of_children    0\n",
       "home_ownership        0\n",
       "credit_score          0\n",
       "dtype: int64"
      ]
     },
     "execution_count": 19,
     "metadata": {},
     "output_type": "execute_result"
    }
   ],
   "source": [
    "# Checing if there is any missing values in our data\n",
    "\n",
    "df.isnull().sum()"
   ]
  },
  {
   "cell_type": "markdown",
   "id": "b5136fdf-5f3e-4a8f-815c-c7b995f7eb21",
   "metadata": {},
   "source": [
    "##### We do not have any null / missing values"
   ]
  },
  {
   "cell_type": "code",
   "execution_count": 21,
   "id": "25b747ef-0393-4c62-bced-5dce7b4080fd",
   "metadata": {},
   "outputs": [
    {
     "data": {
      "text/plain": [
       "62"
      ]
     },
     "execution_count": 21,
     "metadata": {},
     "output_type": "execute_result"
    }
   ],
   "source": [
    "## Checking if there is any duplicate values in our data\n",
    "df.duplicated().sum()"
   ]
  },
  {
   "cell_type": "code",
   "execution_count": 22,
   "id": "90640d59-11da-46fd-83c1-e4716ff68cde",
   "metadata": {},
   "outputs": [],
   "source": [
    "# Droping the duplicate values\n",
    "\n",
    "df.drop_duplicates(inplace=True)"
   ]
  },
  {
   "cell_type": "code",
   "execution_count": 23,
   "id": "2caba9a6-4772-4697-b595-f4e0730f6edd",
   "metadata": {},
   "outputs": [
    {
     "data": {
      "text/plain": [
       "(102, 8)"
      ]
     },
     "execution_count": 23,
     "metadata": {},
     "output_type": "execute_result"
    }
   ],
   "source": [
    "df.shape"
   ]
  },
  {
   "cell_type": "markdown",
   "id": "0279df08-c1dd-4a70-86d0-e4c9043a6949",
   "metadata": {},
   "source": [
    "##### After droping the duplicated we have 102 rows and 8 columns"
   ]
  },
  {
   "cell_type": "code",
   "execution_count": 25,
   "id": "e1b46dd9-6739-4608-aa6f-39cc513d4a1a",
   "metadata": {},
   "outputs": [
    {
     "data": {
      "text/html": [
       "<div>\n",
       "<style scoped>\n",
       "    .dataframe tbody tr th:only-of-type {\n",
       "        vertical-align: middle;\n",
       "    }\n",
       "\n",
       "    .dataframe tbody tr th {\n",
       "        vertical-align: top;\n",
       "    }\n",
       "\n",
       "    .dataframe thead th {\n",
       "        text-align: right;\n",
       "    }\n",
       "</style>\n",
       "<table border=\"1\" class=\"dataframe\">\n",
       "  <thead>\n",
       "    <tr style=\"text-align: right;\">\n",
       "      <th></th>\n",
       "      <th>age</th>\n",
       "      <th>gender</th>\n",
       "      <th>income</th>\n",
       "      <th>education</th>\n",
       "      <th>marital_status</th>\n",
       "      <th>number_of_children</th>\n",
       "      <th>home_ownership</th>\n",
       "      <th>credit_score</th>\n",
       "    </tr>\n",
       "  </thead>\n",
       "  <tbody>\n",
       "    <tr>\n",
       "      <th>count</th>\n",
       "      <td>102.000000</td>\n",
       "      <td>102</td>\n",
       "      <td>102.000000</td>\n",
       "      <td>102</td>\n",
       "      <td>102</td>\n",
       "      <td>102.000000</td>\n",
       "      <td>102</td>\n",
       "      <td>102</td>\n",
       "    </tr>\n",
       "    <tr>\n",
       "      <th>unique</th>\n",
       "      <td>NaN</td>\n",
       "      <td>2</td>\n",
       "      <td>NaN</td>\n",
       "      <td>5</td>\n",
       "      <td>2</td>\n",
       "      <td>NaN</td>\n",
       "      <td>2</td>\n",
       "      <td>3</td>\n",
       "    </tr>\n",
       "    <tr>\n",
       "      <th>top</th>\n",
       "      <td>NaN</td>\n",
       "      <td>Female</td>\n",
       "      <td>NaN</td>\n",
       "      <td>Bachelor's Degree</td>\n",
       "      <td>Married</td>\n",
       "      <td>NaN</td>\n",
       "      <td>Owned</td>\n",
       "      <td>High</td>\n",
       "    </tr>\n",
       "    <tr>\n",
       "      <th>freq</th>\n",
       "      <td>NaN</td>\n",
       "      <td>52</td>\n",
       "      <td>NaN</td>\n",
       "      <td>28</td>\n",
       "      <td>58</td>\n",
       "      <td>NaN</td>\n",
       "      <td>73</td>\n",
       "      <td>75</td>\n",
       "    </tr>\n",
       "    <tr>\n",
       "      <th>mean</th>\n",
       "      <td>38.950980</td>\n",
       "      <td>NaN</td>\n",
       "      <td>88308.823529</td>\n",
       "      <td>NaN</td>\n",
       "      <td>NaN</td>\n",
       "      <td>0.656863</td>\n",
       "      <td>NaN</td>\n",
       "      <td>NaN</td>\n",
       "    </tr>\n",
       "    <tr>\n",
       "      <th>std</th>\n",
       "      <td>8.709136</td>\n",
       "      <td>NaN</td>\n",
       "      <td>32417.071969</td>\n",
       "      <td>NaN</td>\n",
       "      <td>NaN</td>\n",
       "      <td>0.895479</td>\n",
       "      <td>NaN</td>\n",
       "      <td>NaN</td>\n",
       "    </tr>\n",
       "    <tr>\n",
       "      <th>min</th>\n",
       "      <td>25.000000</td>\n",
       "      <td>NaN</td>\n",
       "      <td>25000.000000</td>\n",
       "      <td>NaN</td>\n",
       "      <td>NaN</td>\n",
       "      <td>0.000000</td>\n",
       "      <td>NaN</td>\n",
       "      <td>NaN</td>\n",
       "    </tr>\n",
       "    <tr>\n",
       "      <th>25%</th>\n",
       "      <td>31.000000</td>\n",
       "      <td>NaN</td>\n",
       "      <td>65000.000000</td>\n",
       "      <td>NaN</td>\n",
       "      <td>NaN</td>\n",
       "      <td>0.000000</td>\n",
       "      <td>NaN</td>\n",
       "      <td>NaN</td>\n",
       "    </tr>\n",
       "    <tr>\n",
       "      <th>50%</th>\n",
       "      <td>39.000000</td>\n",
       "      <td>NaN</td>\n",
       "      <td>86250.000000</td>\n",
       "      <td>NaN</td>\n",
       "      <td>NaN</td>\n",
       "      <td>0.000000</td>\n",
       "      <td>NaN</td>\n",
       "      <td>NaN</td>\n",
       "    </tr>\n",
       "    <tr>\n",
       "      <th>75%</th>\n",
       "      <td>46.750000</td>\n",
       "      <td>NaN</td>\n",
       "      <td>110000.000000</td>\n",
       "      <td>NaN</td>\n",
       "      <td>NaN</td>\n",
       "      <td>1.000000</td>\n",
       "      <td>NaN</td>\n",
       "      <td>NaN</td>\n",
       "    </tr>\n",
       "    <tr>\n",
       "      <th>max</th>\n",
       "      <td>53.000000</td>\n",
       "      <td>NaN</td>\n",
       "      <td>162500.000000</td>\n",
       "      <td>NaN</td>\n",
       "      <td>NaN</td>\n",
       "      <td>3.000000</td>\n",
       "      <td>NaN</td>\n",
       "      <td>NaN</td>\n",
       "    </tr>\n",
       "  </tbody>\n",
       "</table>\n",
       "</div>"
      ],
      "text/plain": [
       "               age  gender         income          education marital_status  \\\n",
       "count   102.000000     102     102.000000                102            102   \n",
       "unique         NaN       2            NaN                  5              2   \n",
       "top            NaN  Female            NaN  Bachelor's Degree        Married   \n",
       "freq           NaN      52            NaN                 28             58   \n",
       "mean     38.950980     NaN   88308.823529                NaN            NaN   \n",
       "std       8.709136     NaN   32417.071969                NaN            NaN   \n",
       "min      25.000000     NaN   25000.000000                NaN            NaN   \n",
       "25%      31.000000     NaN   65000.000000                NaN            NaN   \n",
       "50%      39.000000     NaN   86250.000000                NaN            NaN   \n",
       "75%      46.750000     NaN  110000.000000                NaN            NaN   \n",
       "max      53.000000     NaN  162500.000000                NaN            NaN   \n",
       "\n",
       "        number_of_children home_ownership credit_score  \n",
       "count           102.000000            102          102  \n",
       "unique                 NaN              2            3  \n",
       "top                    NaN          Owned         High  \n",
       "freq                   NaN             73           75  \n",
       "mean              0.656863            NaN          NaN  \n",
       "std               0.895479            NaN          NaN  \n",
       "min               0.000000            NaN          NaN  \n",
       "25%               0.000000            NaN          NaN  \n",
       "50%               0.000000            NaN          NaN  \n",
       "75%               1.000000            NaN          NaN  \n",
       "max               3.000000            NaN          NaN  "
      ]
     },
     "execution_count": 25,
     "metadata": {},
     "output_type": "execute_result"
    }
   ],
   "source": [
    "# Getting the statistics summary\n",
    "df.describe(include='all')"
   ]
  },
  {
   "cell_type": "code",
   "execution_count": 26,
   "id": "753e4aed-d0a0-45e2-9870-c532a0a4ed62",
   "metadata": {},
   "outputs": [
    {
     "name": "stderr",
     "output_type": "stream",
     "text": [
      "<>:2: SyntaxWarning: invalid escape sequence '\\B'\n",
      "<>:2: SyntaxWarning: invalid escape sequence '\\B'\n",
      "C:\\Users\\skyna\\AppData\\Local\\Temp\\ipykernel_22584\\2520605248.py:2: SyntaxWarning: invalid escape sequence '\\B'\n",
      "  df.to_csv(\"C:\\BIA\\Capstone\\Data\\Cleaned csv\\cleaned.csv\")\n"
     ]
    }
   ],
   "source": [
    "# Exporting the cleaned csv for dashboarding\n",
    "df.to_csv(\"C:\\BIA\\Capstone\\Data\\Cleaned csv\\cleaned.csv\")"
   ]
  },
  {
   "cell_type": "code",
   "execution_count": 27,
   "id": "3176d51b-f76a-43d3-a4c4-0fb0474d3bf9",
   "metadata": {},
   "outputs": [
    {
     "name": "stdout",
     "output_type": "stream",
     "text": [
      "\n",
      "Unique values in column 'age': [25 30 35 40 45 50 26 31 36 41 46 51 27 32 37 42 47 52 28 33 38 43 48 53\n",
      " 29 34 39 44 49]\n",
      "\n",
      "Unique values in column 'gender': ['Female' 'Male']\n",
      "\n",
      "Unique values in column 'income': [ 50000 100000  75000 125000 150000  40000  60000  80000 105000  90000\n",
      " 135000  35000  55000  70000  95000  85000  30000  65000 115000  25000\n",
      "  45000 130000 155000 110000 140000  37500  57500  72500  32500  52500\n",
      "  67500  92500  82500 122500  27500  47500  62500  87500  77500 112500\n",
      " 117500 142500 160000  97500 145000 162500 120000 102500 137500 127500\n",
      "  82000  68000]\n",
      "\n",
      "Unique values in column 'education': [\"Bachelor's Degree\" \"Master's Degree\" 'Doctorate' 'High School Diploma'\n",
      " \"Associate's Degree\"]\n",
      "\n",
      "Unique values in column 'marital_status': ['Single' 'Married']\n",
      "\n",
      "Unique values in column 'number_of_children': [0 2 1 3]\n",
      "\n",
      "Unique values in column 'home_ownership': ['Rented' 'Owned']\n",
      "\n",
      "Unique values in column 'credit_score': ['High' 'Average' 'Low']\n"
     ]
    }
   ],
   "source": [
    "# Getting the unique values for all the columns\n",
    "\n",
    "unique_values = {col: df[col].unique() for col in df.columns}\n",
    "\n",
    "# Print the unique values for each column\n",
    "for col, values in unique_values.items():\n",
    "    print(f\"\\nUnique values in column '{col}': {values}\")"
   ]
  },
  {
   "cell_type": "code",
   "execution_count": 219,
   "id": "ba307912-9479-4e85-b7b3-63236e984197",
   "metadata": {},
   "outputs": [
    {
     "data": {
      "text/html": [
       "<div>\n",
       "<style scoped>\n",
       "    .dataframe tbody tr th:only-of-type {\n",
       "        vertical-align: middle;\n",
       "    }\n",
       "\n",
       "    .dataframe tbody tr th {\n",
       "        vertical-align: top;\n",
       "    }\n",
       "\n",
       "    .dataframe thead th {\n",
       "        text-align: right;\n",
       "    }\n",
       "</style>\n",
       "<table border=\"1\" class=\"dataframe\">\n",
       "  <thead>\n",
       "    <tr style=\"text-align: right;\">\n",
       "      <th></th>\n",
       "      <th>age</th>\n",
       "      <th>gender</th>\n",
       "      <th>income</th>\n",
       "      <th>education</th>\n",
       "      <th>marital_status</th>\n",
       "      <th>number_of_children</th>\n",
       "      <th>home_ownership</th>\n",
       "      <th>credit_score</th>\n",
       "    </tr>\n",
       "  </thead>\n",
       "  <tbody>\n",
       "    <tr>\n",
       "      <th>0</th>\n",
       "      <td>25</td>\n",
       "      <td>Female</td>\n",
       "      <td>50000</td>\n",
       "      <td>Bachelor's Degree</td>\n",
       "      <td>Single</td>\n",
       "      <td>0</td>\n",
       "      <td>Rented</td>\n",
       "      <td>High</td>\n",
       "    </tr>\n",
       "    <tr>\n",
       "      <th>1</th>\n",
       "      <td>30</td>\n",
       "      <td>Male</td>\n",
       "      <td>100000</td>\n",
       "      <td>Master's Degree</td>\n",
       "      <td>Married</td>\n",
       "      <td>2</td>\n",
       "      <td>Owned</td>\n",
       "      <td>High</td>\n",
       "    </tr>\n",
       "    <tr>\n",
       "      <th>2</th>\n",
       "      <td>35</td>\n",
       "      <td>Female</td>\n",
       "      <td>75000</td>\n",
       "      <td>Doctorate</td>\n",
       "      <td>Married</td>\n",
       "      <td>1</td>\n",
       "      <td>Owned</td>\n",
       "      <td>High</td>\n",
       "    </tr>\n",
       "    <tr>\n",
       "      <th>3</th>\n",
       "      <td>40</td>\n",
       "      <td>Male</td>\n",
       "      <td>125000</td>\n",
       "      <td>High School Diploma</td>\n",
       "      <td>Single</td>\n",
       "      <td>0</td>\n",
       "      <td>Owned</td>\n",
       "      <td>High</td>\n",
       "    </tr>\n",
       "    <tr>\n",
       "      <th>4</th>\n",
       "      <td>45</td>\n",
       "      <td>Female</td>\n",
       "      <td>100000</td>\n",
       "      <td>Bachelor's Degree</td>\n",
       "      <td>Married</td>\n",
       "      <td>3</td>\n",
       "      <td>Owned</td>\n",
       "      <td>High</td>\n",
       "    </tr>\n",
       "    <tr>\n",
       "      <th>...</th>\n",
       "      <td>...</td>\n",
       "      <td>...</td>\n",
       "      <td>...</td>\n",
       "      <td>...</td>\n",
       "      <td>...</td>\n",
       "      <td>...</td>\n",
       "      <td>...</td>\n",
       "      <td>...</td>\n",
       "    </tr>\n",
       "    <tr>\n",
       "      <th>116</th>\n",
       "      <td>53</td>\n",
       "      <td>Male</td>\n",
       "      <td>127500</td>\n",
       "      <td>Associate's Degree</td>\n",
       "      <td>Married</td>\n",
       "      <td>0</td>\n",
       "      <td>Owned</td>\n",
       "      <td>High</td>\n",
       "    </tr>\n",
       "    <tr>\n",
       "      <th>129</th>\n",
       "      <td>33</td>\n",
       "      <td>Female</td>\n",
       "      <td>82000</td>\n",
       "      <td>Master's Degree</td>\n",
       "      <td>Married</td>\n",
       "      <td>1</td>\n",
       "      <td>Owned</td>\n",
       "      <td>High</td>\n",
       "    </tr>\n",
       "    <tr>\n",
       "      <th>130</th>\n",
       "      <td>31</td>\n",
       "      <td>Male</td>\n",
       "      <td>95000</td>\n",
       "      <td>Doctorate</td>\n",
       "      <td>Single</td>\n",
       "      <td>0</td>\n",
       "      <td>Rented</td>\n",
       "      <td>High</td>\n",
       "    </tr>\n",
       "    <tr>\n",
       "      <th>132</th>\n",
       "      <td>32</td>\n",
       "      <td>Male</td>\n",
       "      <td>85000</td>\n",
       "      <td>Master's Degree</td>\n",
       "      <td>Single</td>\n",
       "      <td>0</td>\n",
       "      <td>Rented</td>\n",
       "      <td>High</td>\n",
       "    </tr>\n",
       "    <tr>\n",
       "      <th>134</th>\n",
       "      <td>34</td>\n",
       "      <td>Male</td>\n",
       "      <td>105000</td>\n",
       "      <td>Bachelor's Degree</td>\n",
       "      <td>Married</td>\n",
       "      <td>1</td>\n",
       "      <td>Rented</td>\n",
       "      <td>High</td>\n",
       "    </tr>\n",
       "  </tbody>\n",
       "</table>\n",
       "<p>75 rows × 8 columns</p>\n",
       "</div>"
      ],
      "text/plain": [
       "     age  gender  income            education marital_status  \\\n",
       "0     25  Female   50000    Bachelor's Degree         Single   \n",
       "1     30    Male  100000      Master's Degree        Married   \n",
       "2     35  Female   75000            Doctorate        Married   \n",
       "3     40    Male  125000  High School Diploma         Single   \n",
       "4     45  Female  100000    Bachelor's Degree        Married   \n",
       "..   ...     ...     ...                  ...            ...   \n",
       "116   53    Male  127500   Associate's Degree        Married   \n",
       "129   33  Female   82000      Master's Degree        Married   \n",
       "130   31    Male   95000            Doctorate         Single   \n",
       "132   32    Male   85000      Master's Degree         Single   \n",
       "134   34    Male  105000    Bachelor's Degree        Married   \n",
       "\n",
       "     number_of_children home_ownership credit_score  \n",
       "0                     0         Rented         High  \n",
       "1                     2          Owned         High  \n",
       "2                     1          Owned         High  \n",
       "3                     0          Owned         High  \n",
       "4                     3          Owned         High  \n",
       "..                  ...            ...          ...  \n",
       "116                   0          Owned         High  \n",
       "129                   1          Owned         High  \n",
       "130                   0         Rented         High  \n",
       "132                   0         Rented         High  \n",
       "134                   1         Rented         High  \n",
       "\n",
       "[75 rows x 8 columns]"
      ]
     },
     "execution_count": 219,
     "metadata": {},
     "output_type": "execute_result"
    }
   ],
   "source": [
    "df[df['credit_score']== \"High\"]"
   ]
  },
  {
   "cell_type": "code",
   "execution_count": null,
   "id": "013640c6-2e4b-49b4-b62b-1051b111a74c",
   "metadata": {},
   "outputs": [],
   "source": []
  },
  {
   "cell_type": "markdown",
   "id": "62cccf5b-47a2-4c9a-8e05-7f460bca20c6",
   "metadata": {},
   "source": [
    "## EDA "
   ]
  },
  {
   "cell_type": "markdown",
   "id": "4c598def-41fd-4f3c-84a5-9c3a868f39c9",
   "metadata": {},
   "source": [
    "#### UNIVARIATE ANALYSIS"
   ]
  },
  {
   "cell_type": "code",
   "execution_count": 30,
   "id": "98d0792c-6e84-4ac4-95a0-6299a31ebb19",
   "metadata": {},
   "outputs": [
    {
     "name": "stderr",
     "output_type": "stream",
     "text": [
      "C:\\Users\\skyna\\AppData\\Local\\Temp\\ipykernel_22584\\730261314.py:2: UserWarning: \n",
      "\n",
      "`distplot` is a deprecated function and will be removed in seaborn v0.14.0.\n",
      "\n",
      "Please adapt your code to use either `displot` (a figure-level function with\n",
      "similar flexibility) or `histplot` (an axes-level function for histograms).\n",
      "\n",
      "For a guide to updating your code to use the new functions, please see\n",
      "https://gist.github.com/mwaskom/de44147ed2974457ad6372750bbe5751\n",
      "\n",
      "  sns.distplot(df['age'])\n"
     ]
    },
    {
     "data": {
      "text/plain": [
       "<Axes: xlabel='age', ylabel='Density'>"
      ]
     },
     "execution_count": 30,
     "metadata": {},
     "output_type": "execute_result"
    },
    {
     "data": {
      "image/png": "[encoded data removed]",
      "text/plain": [
       "<Figure size 640x480 with 1 Axes>"
      ]
     },
     "metadata": {},
     "output_type": "display_data"
    }
   ],
   "source": [
    "# Extracting PDF for all the columns to check the skeweeness\n",
    "sns.distplot(df['age'])"
   ]
  },
  {
   "cell_type": "code",
   "execution_count": 31,
   "id": "9d4611b4-6848-4b9d-8a60-6c64b8e79b00",
   "metadata": {},
   "outputs": [
    {
     "name": "stderr",
     "output_type": "stream",
     "text": [
      "C:\\Users\\skyna\\AppData\\Local\\Temp\\ipykernel_22584\\168638058.py:1: UserWarning: \n",
      "\n",
      "`distplot` is a deprecated function and will be removed in seaborn v0.14.0.\n",
      "\n",
      "Please adapt your code to use either `displot` (a figure-level function with\n",
      "similar flexibility) or `histplot` (an axes-level function for histograms).\n",
      "\n",
      "For a guide to updating your code to use the new functions, please see\n",
      "https://gist.github.com/mwaskom/de44147ed2974457ad6372750bbe5751\n",
      "\n",
      "  sns.distplot(df['number_of_children'])\n"
     ]
    },
    {
     "data": {
      "text/plain": [
       "<Axes: xlabel='number_of_children', ylabel='Density'>"
      ]
     },
     "execution_count": 31,
     "metadata": {},
     "output_type": "execute_result"
    },
    {
     "data": {
      "image/png": "[encoded data removed]",
      "text/plain": [
       "<Figure size 640x480 with 1 Axes>"
      ]
     },
     "metadata": {},
     "output_type": "display_data"
    }
   ],
   "source": [
    "sns.distplot(df['number_of_children'])"
   ]
  },
  {
   "cell_type": "code",
   "execution_count": 32,
   "id": "05eef269-106a-4508-8510-39525b7eb724",
   "metadata": {},
   "outputs": [
    {
     "name": "stderr",
     "output_type": "stream",
     "text": [
      "C:\\Users\\skyna\\AppData\\Local\\Temp\\ipykernel_22584\\3587660272.py:1: UserWarning: \n",
      "\n",
      "`distplot` is a deprecated function and will be removed in seaborn v0.14.0.\n",
      "\n",
      "Please adapt your code to use either `displot` (a figure-level function with\n",
      "similar flexibility) or `histplot` (an axes-level function for histograms).\n",
      "\n",
      "For a guide to updating your code to use the new functions, please see\n",
      "https://gist.github.com/mwaskom/de44147ed2974457ad6372750bbe5751\n",
      "\n",
      "  sns.distplot(df['income'])\n"
     ]
    },
    {
     "data": {
      "text/plain": [
       "<Axes: xlabel='income', ylabel='Density'>"
      ]
     },
     "execution_count": 32,
     "metadata": {},
     "output_type": "execute_result"
    },
    {
     "data": {
      "image/png": "[encoded data removed]",
      "text/plain": [
       "<Figure size 640x480 with 1 Axes>"
      ]
     },
     "metadata": {},
     "output_type": "display_data"
    }
   ],
   "source": [
    "sns.distplot(df['income'])"
   ]
  },
  {
   "cell_type": "code",
   "execution_count": 33,
   "id": "8a72f708-5bca-4292-839f-25da88830161",
   "metadata": {},
   "outputs": [
    {
     "data": {
      "text/plain": [
       "<Axes: ylabel='age'>"
      ]
     },
     "execution_count": 33,
     "metadata": {},
     "output_type": "execute_result"
    },
    {
     "data": {
      "image/png": "[encoded data removed]",
      "text/plain": [
       "<Figure size 640x480 with 1 Axes>"
      ]
     },
     "metadata": {},
     "output_type": "display_data"
    }
   ],
   "source": [
    "# Checking if there are any outliers \n",
    "\n",
    "sns.boxplot(df['age'])"
   ]
  },
  {
   "cell_type": "markdown",
   "id": "dc59a02e-00fd-469c-b1d6-81f23e90341b",
   "metadata": {},
   "source": [
    "##### We cannot see any potential outliers in age column"
   ]
  },
  {
   "cell_type": "code",
   "execution_count": 35,
   "id": "47b877d3-a7db-4720-aeb5-54bb4c211209",
   "metadata": {},
   "outputs": [
    {
     "data": {
      "text/plain": [
       "<Axes: ylabel='income'>"
      ]
     },
     "execution_count": 35,
     "metadata": {},
     "output_type": "execute_result"
    },
    {
     "data": {
      "image/png": "[encoded data removed]",
      "text/plain": [
       "<Figure size 640x480 with 1 Axes>"
      ]
     },
     "metadata": {},
     "output_type": "display_data"
    }
   ],
   "source": [
    "sns.boxplot(df['income'])"
   ]
  },
  {
   "cell_type": "code",
   "execution_count": 36,
   "id": "f3d167d7-5aca-4a90-818e-6fb34c2569ef",
   "metadata": {},
   "outputs": [
    {
     "data": {
      "text/plain": [
       "<Axes: ylabel='number_of_children'>"
      ]
     },
     "execution_count": 36,
     "metadata": {},
     "output_type": "execute_result"
    },
    {
     "data": {
      "image/png": "[encoded data removed]",
      "text/plain": [
       "<Figure size 640x480 with 1 Axes>"
      ]
     },
     "metadata": {},
     "output_type": "display_data"
    }
   ],
   "source": [
    "sns.boxplot(df['number_of_children'])"
   ]
  },
  {
   "cell_type": "markdown",
   "id": "a2ad4f54-710a-4e1a-90aa-7c76e0f43bf4",
   "metadata": {},
   "source": [
    "##### Since the max amount of children is 3 in our data and 3 is not an unusual number of children to have as a parent, we will disregard the above plot for potential outlier "
   ]
  },
  {
   "cell_type": "code",
   "execution_count": 38,
   "id": "edb7588a-ba29-4027-99a0-0c9edfc9125f",
   "metadata": {},
   "outputs": [
    {
     "data": {
      "text/plain": [
       "<Axes: ylabel='count'>"
      ]
     },
     "execution_count": 38,
     "metadata": {},
     "output_type": "execute_result"
    },
    {
     "data": {
      "image/png": "[encoded data removed]",
      "text/plain": [
       "<Figure size 640x480 with 1 Axes>"
      ]
     },
     "metadata": {},
     "output_type": "display_data"
    }
   ],
   "source": [
    "# Creating Pie Chart\n",
    "\n",
    "df['gender'].value_counts().plot(kind='pie', autopct='%.2f')\n"
   ]
  },
  {
   "cell_type": "markdown",
   "id": "e2718445-57c0-4cb1-b3ab-c2ae34c63762",
   "metadata": {},
   "source": [
    "##### Our dataset is almost balanced in terms of gender"
   ]
  },
  {
   "cell_type": "code",
   "execution_count": 40,
   "id": "e760e434-7028-4ef6-b509-d2db49c5bca2",
   "metadata": {},
   "outputs": [
    {
     "data": {
      "text/plain": [
       "<Axes: ylabel='count'>"
      ]
     },
     "execution_count": 40,
     "metadata": {},
     "output_type": "execute_result"
    },
    {
     "data": {
      "image/png": "[encoded data removed]",
      "text/plain": [
       "<Figure size 640x480 with 1 Axes>"
      ]
     },
     "metadata": {},
     "output_type": "display_data"
    }
   ],
   "source": [
    "df['marital_status'].value_counts().plot(kind='pie', autopct='%.2f')"
   ]
  },
  {
   "cell_type": "markdown",
   "id": "4552a419-0e0d-4ffc-b589-4ec0f9ca51dd",
   "metadata": {},
   "source": [
    "##### There is a cleary majority of married individuals in the dataset"
   ]
  },
  {
   "cell_type": "code",
   "execution_count": 42,
   "id": "4d16c66a-0ad8-432b-b2bf-476f9d50fa1d",
   "metadata": {},
   "outputs": [
    {
     "data": {
      "text/plain": [
       "<Axes: ylabel='count'>"
      ]
     },
     "execution_count": 42,
     "metadata": {},
     "output_type": "execute_result"
    },
    {
     "data": {
      "image/png": "[encoded data removed]",
      "text/plain": [
       "<Figure size 640x480 with 1 Axes>"
      ]
     },
     "metadata": {},
     "output_type": "display_data"
    }
   ],
   "source": [
    "# Plotting education \n",
    "df['education'].value_counts().plot(kind='pie', autopct='%.2f') # Pie plot\n"
   ]
  },
  {
   "cell_type": "code",
   "execution_count": 43,
   "id": "e6f67c59-e0a4-4d2f-ab0d-b53d4c0717ba",
   "metadata": {},
   "outputs": [
    {
     "data": {
      "image/png": "[encoded data removed]",
      "text/plain": [
       "<Figure size 1000x600 with 1 Axes>"
      ]
     },
     "metadata": {},
     "output_type": "display_data"
    }
   ],
   "source": [
    "# Count plot\n",
    "plt.figure(figsize=(10,6))\n",
    "sns.countplot(data = df, x = 'education', width=0.5)\n",
    "plt.show()"
   ]
  },
  {
   "cell_type": "markdown",
   "id": "9be12cc1-f4e7-4f9e-8e4b-d3531b37e689",
   "metadata": {},
   "source": [
    "##### Group of the individuals having Bachelor's Degree are in majority as compared to any other degrees. \n",
    "\n",
    "Top 3 education level in our data :\n",
    "- Bachelor's \n",
    "- Master's\n",
    "- Doctorate"
   ]
  },
  {
   "cell_type": "code",
   "execution_count": 45,
   "id": "1bfd4cc6-1623-4748-85a4-b73d9f80006a",
   "metadata": {},
   "outputs": [
    {
     "data": {
      "text/plain": [
       "<Axes: ylabel='count'>"
      ]
     },
     "execution_count": 45,
     "metadata": {},
     "output_type": "execute_result"
    },
    {
     "data": {
      "image/png": "[encoded data removed]",
      "text/plain": [
       "<Figure size 640x480 with 1 Axes>"
      ]
     },
     "metadata": {},
     "output_type": "display_data"
    }
   ],
   "source": [
    "df['home_ownership'].value_counts().plot(kind='pie', autopct='%.2f') # Pie plot"
   ]
  },
  {
   "cell_type": "markdown",
   "id": "bac43879-ec49-4b62-8c53-bda4821c2350",
   "metadata": {},
   "source": [
    "##### Majority of our individuals live in their own home instead of renting it"
   ]
  },
  {
   "cell_type": "code",
   "execution_count": 47,
   "id": "2f94ed66-f00b-40ed-911d-c406c2b5fde7",
   "metadata": {},
   "outputs": [
    {
     "data": {
      "text/plain": [
       "<Axes: ylabel='count'>"
      ]
     },
     "execution_count": 47,
     "metadata": {},
     "output_type": "execute_result"
    },
    {
     "data": {
      "image/png": "[encoded data removed]",
      "text/plain": [
       "<Figure size 640x480 with 1 Axes>"
      ]
     },
     "metadata": {},
     "output_type": "display_data"
    }
   ],
   "source": [
    "df['credit_score'].value_counts().plot(kind='pie', autopct='%.2f') # Pie plot"
   ]
  },
  {
   "cell_type": "markdown",
   "id": "f397bb87-75c6-43d1-b61e-16cf377aa4b0",
   "metadata": {},
   "source": [
    "##### Our dataset has imbalance distribution of credit score \n",
    "##### Most of the individuals have 'high' credit score\n",
    "##### Only 1/4 of individuals in our dataset lies under \"Average\" / \"Low\" credit score"
   ]
  },
  {
   "cell_type": "markdown",
   "id": "05e09577-7afa-472b-a82b-2a7d5fac3cc0",
   "metadata": {},
   "source": [
    "#### Bivariate / Multi- Variate analysis"
   ]
  },
  {
   "cell_type": "code",
   "execution_count": 50,
   "id": "ea53ab5f-8089-4206-9413-df186a5f4909",
   "metadata": {},
   "outputs": [
    {
     "data": {
      "text/plain": [
       "<Axes: xlabel='home_ownership', ylabel='income'>"
      ]
     },
     "execution_count": 50,
     "metadata": {},
     "output_type": "execute_result"
    },
    {
     "data": {
      "image/png": "[encoded data removed]",
      "text/plain": [
       "<Figure size 640x480 with 1 Axes>"
      ]
     },
     "metadata": {},
     "output_type": "display_data"
    }
   ],
   "source": [
    "sns.barplot(data=df, x='home_ownership', y = 'income', hue='credit_score')"
   ]
  },
  {
   "cell_type": "code",
   "execution_count": 51,
   "id": "0611d0b5-215a-419a-9956-502b7f71b925",
   "metadata": {},
   "outputs": [
    {
     "data": {
      "image/png": "[encoded data removed]",
      "text/plain": [
       "<Figure size 1200x600 with 1 Axes>"
      ]
     },
     "metadata": {},
     "output_type": "display_data"
    }
   ],
   "source": [
    "plt.figure(figsize=(12, 6))\n",
    "sns.barplot(x='credit_score', y='income', data=df)\n",
    "plt.title('Income Distribution by Credit Score')\n",
    "plt.ylabel('Income')\n",
    "plt.xlabel('Credit Score')\n",
    "plt.show()\n"
   ]
  },
  {
   "cell_type": "code",
   "execution_count": 52,
   "id": "ad34f267-f550-41f7-a9d7-242dafaefc04",
   "metadata": {},
   "outputs": [
    {
     "data": {
      "image/png": "[encoded data removed]",
      "text/plain": [
       "<Figure size 911.111x600 with 1 Axes>"
      ]
     },
     "metadata": {},
     "output_type": "display_data"
    }
   ],
   "source": [
    "sns.catplot(x='credit_score', y='age', kind='bar', data=df, height=6, aspect=1.5)\n",
    "plt.title('Age Distribution by Credit Score')\n",
    "plt.xlabel('Credit Score')\n",
    "plt.ylabel('Age')\n",
    "plt.show()"
   ]
  },
  {
   "cell_type": "code",
   "execution_count": 53,
   "id": "7905b0af-6dfa-45b3-9f74-5c19f7a22656",
   "metadata": {},
   "outputs": [
    {
     "data": {
      "image/png": "[encoded data removed]",
      "text/plain": [
       "<Figure size 640x480 with 1 Axes>"
      ]
     },
     "metadata": {},
     "output_type": "display_data"
    }
   ],
   "source": [
    "sns.countplot(x='credit_score', hue='gender', data=df)\n",
    "plt.title('Credit Score Distribution by Gender')\n",
    "plt.xlabel('Credit Score')\n",
    "plt.show()"
   ]
  },
  {
   "cell_type": "code",
   "execution_count": 54,
   "id": "e0eff588-1ce4-4e37-8a7a-c9c69a7324f5",
   "metadata": {},
   "outputs": [
    {
     "data": {
      "image/png": "[encoded data removed]",
      "text/plain": [
       "<Figure size 1307.25x600 with 1 Axes>"
      ]
     },
     "metadata": {},
     "output_type": "display_data"
    }
   ],
   "source": [
    "sns.catplot(x='education', kind='count', hue='credit_score', data=df, height=6, aspect=2)\n",
    "plt.title('Distribution of Credit Scores by Education Level')\n",
    "plt.xlabel('Education Level')\n",
    "plt.ylabel('Count')\n",
    "plt.xticks(rotation=45)\n",
    "plt.show()"
   ]
  },
  {
   "cell_type": "code",
   "execution_count": 55,
   "id": "859ed044-2a46-4806-b67e-631b08c8a51e",
   "metadata": {},
   "outputs": [
    {
     "data": {
      "image/png": "[encoded data removed]",
      "text/plain": [
       "<Figure size 640x480 with 1 Axes>"
      ]
     },
     "metadata": {},
     "output_type": "display_data"
    }
   ],
   "source": [
    "sns.countplot(x='credit_score', hue='marital_status', data=df)\n",
    "plt.title('Credit Score Distribution by Marital Status')\n",
    "plt.xlabel('Credit Score')\n",
    "plt.show()"
   ]
  },
  {
   "cell_type": "code",
   "execution_count": 56,
   "id": "2088382b-0b69-4cf2-84cb-575d59caa7fd",
   "metadata": {},
   "outputs": [
    {
     "data": {
      "image/png": "[encoded data removed]",
      "text/plain": [
       "<Figure size 640x480 with 1 Axes>"
      ]
     },
     "metadata": {},
     "output_type": "display_data"
    }
   ],
   "source": [
    "sns.countplot(x='credit_score', hue='home_ownership', data=df)\n",
    "plt.title('Credit Score Distribution by Home Ownership')\n",
    "plt.xlabel('Credit Score')\n",
    "plt.show()"
   ]
  },
  {
   "cell_type": "code",
   "execution_count": 57,
   "id": "959e1d36-b941-42a1-9617-51b8d3d91206",
   "metadata": {},
   "outputs": [
    {
     "data": {
      "image/png": "[encoded data removed]",
      "text/plain": [
       "<Figure size 1307.25x600 with 1 Axes>"
      ]
     },
     "metadata": {},
     "output_type": "display_data"
    }
   ],
   "source": [
    "sns.catplot(x='number_of_children', kind='count', hue='credit_score', data=df, height=6, aspect=2)\n",
    "plt.title('Distribution of Credit Scores by Number of Children')\n",
    "plt.xlabel('Number of Children')\n",
    "plt.ylabel('Count')\n",
    "plt.show()"
   ]
  },
  {
   "cell_type": "markdown",
   "id": "3e5ceba5-42d5-46da-a635-408fec7e4cc6",
   "metadata": {},
   "source": [
    "## EDA Questions"
   ]
  },
  {
   "cell_type": "markdown",
   "id": "ca5cdbdd-aa5c-4326-a55c-f04ecf7fb22b",
   "metadata": {},
   "source": [
    "##### Age:\n",
    "- Older individuals tend to have higher credit scores.\n",
    "- This could be due to more established credit histories and better financial management over time.\n",
    "\n",
    "##### Gender:\n",
    "- There is no significant difference in credit scores between different genders.\n",
    "- Both males and females are represented across all credit score categories.\n",
    "\n",
    "#### Income:\n",
    "- Higher income is associated with higher credit scores.\n",
    "- Individuals with higher incomes tend to have better financial stability and credit management.\n",
    "\n",
    "#### Marital Status:\n",
    "- Married individuals tend to have higher credit scores.\n",
    "- Single or divorced individuals are more represented in the lower credit score categories.\n",
    "\n",
    "#### Home Ownership:\n",
    "- Homeowners tend to have higher credit scores.\n",
    "- Non-homeowners (e.g., renters) are more represented in the lower credit score categories.\n",
    "\n",
    "#### Education:\n",
    "- Higher education levels are associated with higher credit scores.\n",
    "- Individuals with higher education tend to have better financial literacy and credit management.\n",
    "\n",
    "#### Number of Children:\n",
    "- There is no significant trend observed between the number of children and credit scores.\n",
    "- Individuals with different numbers of children are represented across all credit score categories.\n"
   ]
  },
  {
   "cell_type": "markdown",
   "id": "5209d1fb-83fa-44c0-8e55-26ab932eb4f7",
   "metadata": {},
   "source": [
    "#### Conclusion:\n",
    "- The analysis reveals that factors such as age, income, marital status, home ownership, and education level have a significant impact on credit scores.\n",
    "- Older individuals, those with higher incomes, married individuals, homeowners, and those with higher education levels tend to have higher credit scores.\n",
    "- Gender and the number of children do not show significant trends in relation to credit scores. These insights highlight the importance of financial stability, education, and life circumstances in credit management and financial health."
   ]
  },
  {
   "cell_type": "markdown",
   "id": "6b18c149-f535-4463-b6ad-b2817439be6e",
   "metadata": {},
   "source": [
    "#### Perfoming Chi-Square Test on the categorical features"
   ]
  },
  {
   "cell_type": "code",
   "execution_count": 62,
   "id": "95773e5e-13cc-4687-aa13-b64c11b19da9",
   "metadata": {},
   "outputs": [
    {
     "name": "stdout",
     "output_type": "stream",
     "text": [
      "0.04663610652284899\n"
     ]
    }
   ],
   "source": [
    "ct_gender = pd.crosstab(df['gender'], df['credit_score'])\n",
    "chi2, p, dof, ex = chi2_contingency(ct_gender)\n",
    "print(p) "
   ]
  },
  {
   "cell_type": "code",
   "execution_count": 63,
   "id": "09ac432a-bd50-4d55-93f2-323a4a82f797",
   "metadata": {},
   "outputs": [
    {
     "name": "stdout",
     "output_type": "stream",
     "text": [
      "1.0477064844829997e-06\n"
     ]
    }
   ],
   "source": [
    "ct_education = pd.crosstab(df['education'], df['credit_score'])\n",
    "chi2, p, dof, ex = chi2_contingency(ct_education)\n",
    "print(p) "
   ]
  },
  {
   "cell_type": "code",
   "execution_count": 64,
   "id": "32d10ebc-a553-45ef-9686-cfd02cd4da79",
   "metadata": {},
   "outputs": [
    {
     "name": "stdout",
     "output_type": "stream",
     "text": [
      "1.0277125101544082e-08\n"
     ]
    }
   ],
   "source": [
    "ct_marital = pd.crosstab(df['marital_status'], df['credit_score'])\n",
    "chi2, p, dof, ex = chi2_contingency(ct_marital)\n",
    "print(p) "
   ]
  },
  {
   "cell_type": "code",
   "execution_count": 65,
   "id": "88d5632e-3036-4ec9-9f57-08b226ca78d7",
   "metadata": {},
   "outputs": [
    {
     "name": "stdout",
     "output_type": "stream",
     "text": [
      "6.653814202717026e-17\n"
     ]
    }
   ],
   "source": [
    "ct_home = pd.crosstab(df['home_ownership'], df['credit_score'])\n",
    "chi2, p, dof, ex = chi2_contingency(ct_home)\n",
    "print(p) "
   ]
  },
  {
   "cell_type": "markdown",
   "id": "fdd35912-eefb-400c-bae4-324ae898f74c",
   "metadata": {},
   "source": [
    "#### Finding out correlation for numerical columns"
   ]
  },
  {
   "cell_type": "code",
   "execution_count": 67,
   "id": "126817af-ecfd-4b48-b300-f8503c5fa1a2",
   "metadata": {},
   "outputs": [
    {
     "data": {
      "text/html": [
       "<div>\n",
       "<style scoped>\n",
       "    .dataframe tbody tr th:only-of-type {\n",
       "        vertical-align: middle;\n",
       "    }\n",
       "\n",
       "    .dataframe tbody tr th {\n",
       "        vertical-align: top;\n",
       "    }\n",
       "\n",
       "    .dataframe thead th {\n",
       "        text-align: right;\n",
       "    }\n",
       "</style>\n",
       "<table border=\"1\" class=\"dataframe\">\n",
       "  <thead>\n",
       "    <tr style=\"text-align: right;\">\n",
       "      <th></th>\n",
       "      <th>age</th>\n",
       "      <th>income</th>\n",
       "      <th>number_of_children</th>\n",
       "    </tr>\n",
       "  </thead>\n",
       "  <tbody>\n",
       "    <tr>\n",
       "      <th>age</th>\n",
       "      <td>1.000000</td>\n",
       "      <td>0.731797</td>\n",
       "      <td>0.019404</td>\n",
       "    </tr>\n",
       "    <tr>\n",
       "      <th>income</th>\n",
       "      <td>0.731797</td>\n",
       "      <td>1.000000</td>\n",
       "      <td>-0.009786</td>\n",
       "    </tr>\n",
       "    <tr>\n",
       "      <th>number_of_children</th>\n",
       "      <td>0.019404</td>\n",
       "      <td>-0.009786</td>\n",
       "      <td>1.000000</td>\n",
       "    </tr>\n",
       "  </tbody>\n",
       "</table>\n",
       "</div>"
      ],
      "text/plain": [
       "                         age    income  number_of_children\n",
       "age                 1.000000  0.731797            0.019404\n",
       "income              0.731797  1.000000           -0.009786\n",
       "number_of_children  0.019404 -0.009786            1.000000"
      ]
     },
     "execution_count": 67,
     "metadata": {},
     "output_type": "execute_result"
    }
   ],
   "source": [
    "df.corr(numeric_only=True)"
   ]
  },
  {
   "cell_type": "markdown",
   "id": "5efc84bb-8a87-4438-8720-256105119675",
   "metadata": {},
   "source": [
    "## DATA PRE PROCESSING"
   ]
  },
  {
   "cell_type": "code",
   "execution_count": 69,
   "id": "3a9b0e38-e9eb-4594-a755-191de59e897b",
   "metadata": {},
   "outputs": [],
   "source": [
    "# Splitting the data\n",
    "X = df.drop('credit_score', axis=1)\n",
    "y = df['credit_score']"
   ]
  },
  {
   "cell_type": "code",
   "execution_count": 70,
   "id": "222dac6a-cb20-4210-9e6c-e9db8462d22d",
   "metadata": {},
   "outputs": [
    {
     "data": {
      "text/plain": [
       "(102, 7)"
      ]
     },
     "execution_count": 70,
     "metadata": {},
     "output_type": "execute_result"
    }
   ],
   "source": [
    "X.shape"
   ]
  },
  {
   "cell_type": "code",
   "execution_count": 71,
   "id": "87c35bfd-7f86-40db-945d-eaad07b27166",
   "metadata": {},
   "outputs": [
    {
     "data": {
      "text/plain": [
       "(102,)"
      ]
     },
     "execution_count": 71,
     "metadata": {},
     "output_type": "execute_result"
    }
   ],
   "source": [
    "y.shape"
   ]
  },
  {
   "cell_type": "code",
   "execution_count": 72,
   "id": "9d822561-5515-4072-9002-386e4770ef69",
   "metadata": {},
   "outputs": [],
   "source": [
    "from sklearn.model_selection import train_test_split\n",
    "from sklearn.compose import ColumnTransformer\n",
    "from sklearn.preprocessing import OneHotEncoder, OrdinalEncoder, LabelEncoder"
   ]
  },
  {
   "cell_type": "code",
   "execution_count": 73,
   "id": "e8153ed3-ecbe-442f-b03d-a1b59e36cbfb",
   "metadata": {},
   "outputs": [],
   "source": [
    "X_train, X_test, y_train, y_test = train_test_split(X, y, test_size=0.3, random_state=69)"
   ]
  },
  {
   "cell_type": "code",
   "execution_count": 74,
   "id": "d96fc45b-c20d-4baa-865e-3f908a34c42d",
   "metadata": {},
   "outputs": [],
   "source": [
    "preprocessoor = ColumnTransformer(transformers=[\n",
    "    ('ohe', OneHotEncoder(sparse_output=False, drop='first'), ['gender', 'marital_status', 'home_ownership']),\n",
    "    ('ordinal', OrdinalEncoder(categories=[[\"Associate's Degree\", \"High School Diploma\", \"Bachelor's Degree\", \"Master's Degree\", \"Doctorate\"]]), ['education'])\n",
    "], remainder= 'passthrough')"
   ]
  },
  {
   "cell_type": "code",
   "execution_count": 75,
   "id": "7c2b2fc4-e637-4295-9a6d-8ab052c3d94b",
   "metadata": {},
   "outputs": [
    {
     "data": {
      "text/plain": [
       "(71, 7)"
      ]
     },
     "execution_count": 75,
     "metadata": {},
     "output_type": "execute_result"
    }
   ],
   "source": [
    "X_train_transformed = preprocessoor.fit_transform(X_train)\n",
    "X_train_transformed.shape"
   ]
  },
  {
   "cell_type": "code",
   "execution_count": 76,
   "id": "3a831523-f445-4a6b-821b-dbe4babb7ee6",
   "metadata": {},
   "outputs": [],
   "source": [
    "X_test_transformed = preprocessoor.transform(X_test)"
   ]
  },
  {
   "cell_type": "code",
   "execution_count": 77,
   "id": "d5fd6585-d59b-4604-851c-f716c65caea0",
   "metadata": {},
   "outputs": [
    {
     "data": {
      "text/plain": [
       "(31, 7)"
      ]
     },
     "execution_count": 77,
     "metadata": {},
     "output_type": "execute_result"
    }
   ],
   "source": [
    "preprocessoor.transform(X_test).shape"
   ]
  },
  {
   "cell_type": "code",
   "execution_count": 78,
   "id": "91cc862c-29b4-49da-aba7-0789f2833499",
   "metadata": {},
   "outputs": [
    {
     "data": {
      "text/plain": [
       "array([[1.000e+00, 0.000e+00, 0.000e+00, 3.000e+00, 5.000e+01, 1.550e+05,\n",
       "        0.000e+00],\n",
       "       [1.000e+00, 0.000e+00, 0.000e+00, 3.000e+00, 3.000e+01, 1.000e+05,\n",
       "        2.000e+00],\n",
       "       [0.000e+00, 0.000e+00, 0.000e+00, 1.000e+00, 4.600e+01, 9.750e+04,\n",
       "        1.000e+00],\n",
       "       [0.000e+00, 0.000e+00, 0.000e+00, 2.000e+00, 4.500e+01, 1.100e+05,\n",
       "        3.000e+00],\n",
       "       [0.000e+00, 0.000e+00, 0.000e+00, 1.000e+00, 4.600e+01, 1.025e+05,\n",
       "        1.000e+00],\n",
       "       [1.000e+00, 0.000e+00, 0.000e+00, 0.000e+00, 5.300e+01, 1.225e+05,\n",
       "        0.000e+00],\n",
       "       [0.000e+00, 0.000e+00, 0.000e+00, 4.000e+00, 4.800e+01, 8.750e+04,\n",
       "        1.000e+00],\n",
       "       [0.000e+00, 0.000e+00, 0.000e+00, 2.000e+00, 4.500e+01, 1.000e+05,\n",
       "        3.000e+00],\n",
       "       [1.000e+00, 1.000e+00, 1.000e+00, 2.000e+00, 3.100e+01, 6.000e+04,\n",
       "        0.000e+00],\n",
       "       [1.000e+00, 0.000e+00, 0.000e+00, 2.000e+00, 5.100e+01, 1.400e+05,\n",
       "        0.000e+00],\n",
       "       [1.000e+00, 1.000e+00, 0.000e+00, 1.000e+00, 4.000e+01, 1.300e+05,\n",
       "        0.000e+00],\n",
       "       [1.000e+00, 0.000e+00, 0.000e+00, 0.000e+00, 5.300e+01, 1.250e+05,\n",
       "        0.000e+00],\n",
       "       [1.000e+00, 1.000e+00, 0.000e+00, 3.000e+00, 4.400e+01, 7.500e+04,\n",
       "        0.000e+00],\n",
       "       [0.000e+00, 1.000e+00, 1.000e+00, 2.000e+00, 2.500e+01, 5.750e+04,\n",
       "        0.000e+00],\n",
       "       [0.000e+00, 1.000e+00, 1.000e+00, 1.000e+00, 2.700e+01, 3.750e+04,\n",
       "        0.000e+00],\n",
       "       [1.000e+00, 1.000e+00, 0.000e+00, 1.000e+00, 4.000e+01, 1.425e+05,\n",
       "        0.000e+00],\n",
       "       [0.000e+00, 1.000e+00, 1.000e+00, 2.000e+00, 2.500e+01, 5.000e+04,\n",
       "        0.000e+00],\n",
       "       [1.000e+00, 0.000e+00, 0.000e+00, 3.000e+00, 3.000e+01, 1.175e+05,\n",
       "        2.000e+00],\n",
       "       [1.000e+00, 1.000e+00, 1.000e+00, 4.000e+00, 3.100e+01, 9.500e+04,\n",
       "        0.000e+00],\n",
       "       [0.000e+00, 1.000e+00, 1.000e+00, 2.000e+00, 2.500e+01, 6.250e+04,\n",
       "        0.000e+00],\n",
       "       [1.000e+00, 0.000e+00, 0.000e+00, 1.000e+00, 5.200e+01, 1.350e+05,\n",
       "        0.000e+00],\n",
       "       [0.000e+00, 0.000e+00, 0.000e+00, 2.000e+00, 2.600e+01, 5.500e+04,\n",
       "        1.000e+00],\n",
       "       [0.000e+00, 1.000e+00, 1.000e+00, 0.000e+00, 2.800e+01, 3.000e+04,\n",
       "        0.000e+00],\n",
       "       [1.000e+00, 1.000e+00, 0.000e+00, 4.000e+00, 4.100e+01, 1.150e+05,\n",
       "        0.000e+00],\n",
       "       [0.000e+00, 1.000e+00, 1.000e+00, 0.000e+00, 2.600e+01, 4.750e+04,\n",
       "        0.000e+00],\n",
       "       [1.000e+00, 0.000e+00, 0.000e+00, 2.000e+00, 5.100e+01, 1.350e+05,\n",
       "        0.000e+00],\n",
       "       [1.000e+00, 1.000e+00, 0.000e+00, 3.000e+00, 4.300e+01, 9.250e+04,\n",
       "        0.000e+00],\n",
       "       [1.000e+00, 1.000e+00, 1.000e+00, 1.000e+00, 3.300e+01, 5.000e+04,\n",
       "        0.000e+00],\n",
       "       [1.000e+00, 0.000e+00, 0.000e+00, 3.000e+00, 5.000e+01, 1.600e+05,\n",
       "        0.000e+00],\n",
       "       [1.000e+00, 0.000e+00, 0.000e+00, 3.000e+00, 3.000e+01, 1.125e+05,\n",
       "        2.000e+00],\n",
       "       [1.000e+00, 1.000e+00, 1.000e+00, 0.000e+00, 3.200e+01, 5.750e+04,\n",
       "        0.000e+00],\n",
       "       [0.000e+00, 1.000e+00, 1.000e+00, 2.000e+00, 2.500e+01, 5.500e+04,\n",
       "        0.000e+00],\n",
       "       [0.000e+00, 0.000e+00, 0.000e+00, 4.000e+00, 4.700e+01, 8.500e+04,\n",
       "        1.000e+00],\n",
       "       [0.000e+00, 0.000e+00, 0.000e+00, 4.000e+00, 4.700e+01, 9.000e+04,\n",
       "        1.000e+00],\n",
       "       [1.000e+00, 1.000e+00, 1.000e+00, 1.000e+00, 3.300e+01, 5.250e+04,\n",
       "        0.000e+00],\n",
       "       [0.000e+00, 1.000e+00, 1.000e+00, 2.000e+00, 2.500e+01, 6.000e+04,\n",
       "        0.000e+00],\n",
       "       [1.000e+00, 1.000e+00, 1.000e+00, 2.000e+00, 3.100e+01, 6.750e+04,\n",
       "        0.000e+00],\n",
       "       [1.000e+00, 0.000e+00, 0.000e+00, 2.000e+00, 5.100e+01, 1.450e+05,\n",
       "        0.000e+00],\n",
       "       [0.000e+00, 0.000e+00, 0.000e+00, 3.000e+00, 3.600e+01, 9.000e+04,\n",
       "        2.000e+00],\n",
       "       [1.000e+00, 1.000e+00, 1.000e+00, 2.000e+00, 2.800e+01, 7.500e+04,\n",
       "        0.000e+00],\n",
       "       [1.000e+00, 1.000e+00, 0.000e+00, 3.000e+00, 4.300e+01, 8.000e+04,\n",
       "        0.000e+00],\n",
       "       [0.000e+00, 0.000e+00, 0.000e+00, 2.000e+00, 3.700e+01, 7.000e+04,\n",
       "        2.000e+00],\n",
       "       [0.000e+00, 0.000e+00, 0.000e+00, 2.000e+00, 3.700e+01, 7.250e+04,\n",
       "        2.000e+00],\n",
       "       [0.000e+00, 1.000e+00, 1.000e+00, 0.000e+00, 2.600e+01, 4.500e+04,\n",
       "        0.000e+00],\n",
       "       [1.000e+00, 0.000e+00, 0.000e+00, 0.000e+00, 5.300e+01, 1.150e+05,\n",
       "        0.000e+00],\n",
       "       [1.000e+00, 1.000e+00, 0.000e+00, 3.000e+00, 4.200e+01, 1.000e+05,\n",
       "        0.000e+00],\n",
       "       [1.000e+00, 0.000e+00, 0.000e+00, 2.000e+00, 5.100e+01, 1.500e+05,\n",
       "        0.000e+00],\n",
       "       [0.000e+00, 1.000e+00, 1.000e+00, 0.000e+00, 2.800e+01, 3.250e+04,\n",
       "        0.000e+00],\n",
       "       [0.000e+00, 1.000e+00, 1.000e+00, 0.000e+00, 2.600e+01, 5.000e+04,\n",
       "        0.000e+00],\n",
       "       [1.000e+00, 1.000e+00, 1.000e+00, 2.000e+00, 3.100e+01, 7.000e+04,\n",
       "        0.000e+00],\n",
       "       [0.000e+00, 0.000e+00, 0.000e+00, 4.000e+00, 3.500e+01, 7.500e+04,\n",
       "        1.000e+00],\n",
       "       [0.000e+00, 1.000e+00, 1.000e+00, 1.000e+00, 2.900e+01, 2.500e+04,\n",
       "        0.000e+00],\n",
       "       [0.000e+00, 0.000e+00, 0.000e+00, 1.000e+00, 4.600e+01, 9.500e+04,\n",
       "        1.000e+00],\n",
       "       [0.000e+00, 0.000e+00, 0.000e+00, 2.000e+00, 4.500e+01, 1.150e+05,\n",
       "        3.000e+00],\n",
       "       [1.000e+00, 1.000e+00, 0.000e+00, 1.000e+00, 4.000e+01, 1.250e+05,\n",
       "        0.000e+00],\n",
       "       [0.000e+00, 1.000e+00, 1.000e+00, 1.000e+00, 2.900e+01, 2.750e+04,\n",
       "        0.000e+00],\n",
       "       [0.000e+00, 0.000e+00, 0.000e+00, 4.000e+00, 2.900e+01, 6.800e+04,\n",
       "        2.000e+00],\n",
       "       [0.000e+00, 0.000e+00, 0.000e+00, 3.000e+00, 3.600e+01, 8.500e+04,\n",
       "        2.000e+00],\n",
       "       [0.000e+00, 1.000e+00, 1.000e+00, 1.000e+00, 2.700e+01, 3.500e+04,\n",
       "        0.000e+00],\n",
       "       [0.000e+00, 0.000e+00, 0.000e+00, 2.000e+00, 3.700e+01, 7.750e+04,\n",
       "        2.000e+00],\n",
       "       [1.000e+00, 1.000e+00, 0.000e+00, 4.000e+00, 4.100e+01, 1.100e+05,\n",
       "        0.000e+00],\n",
       "       [1.000e+00, 1.000e+00, 0.000e+00, 3.000e+00, 4.400e+01, 8.750e+04,\n",
       "        0.000e+00],\n",
       "       [1.000e+00, 1.000e+00, 0.000e+00, 4.000e+00, 4.100e+01, 1.050e+05,\n",
       "        0.000e+00],\n",
       "       [0.000e+00, 0.000e+00, 0.000e+00, 4.000e+00, 4.800e+01, 7.000e+04,\n",
       "        1.000e+00],\n",
       "       [0.000e+00, 0.000e+00, 0.000e+00, 2.000e+00, 3.800e+01, 6.750e+04,\n",
       "        2.000e+00],\n",
       "       [0.000e+00, 0.000e+00, 0.000e+00, 2.000e+00, 3.800e+01, 6.500e+04,\n",
       "        2.000e+00],\n",
       "       [0.000e+00, 0.000e+00, 0.000e+00, 2.000e+00, 3.900e+01, 6.250e+04,\n",
       "        2.000e+00],\n",
       "       [0.000e+00, 0.000e+00, 0.000e+00, 4.000e+00, 4.700e+01, 9.750e+04,\n",
       "        1.000e+00],\n",
       "       [0.000e+00, 0.000e+00, 0.000e+00, 2.000e+00, 3.700e+01, 7.500e+04,\n",
       "        2.000e+00],\n",
       "       [0.000e+00, 0.000e+00, 0.000e+00, 4.000e+00, 4.700e+01, 9.500e+04,\n",
       "        1.000e+00],\n",
       "       [1.000e+00, 1.000e+00, 1.000e+00, 0.000e+00, 3.400e+01, 4.750e+04,\n",
       "        0.000e+00]])"
      ]
     },
     "execution_count": 78,
     "metadata": {},
     "output_type": "execute_result"
    }
   ],
   "source": [
    "X_train_transformed"
   ]
  },
  {
   "cell_type": "code",
   "execution_count": 79,
   "id": "237338ef-a19c-47ef-a050-c7485ef5205b",
   "metadata": {},
   "outputs": [
    {
     "data": {
      "text/html": [
       "<style>#sk-container-id-1 {\n",
       "  /* Definition of color scheme common for light and dark mode */\n",
       "  --sklearn-color-text: black;\n",
       "  --sklearn-color-line: gray;\n",
       "  /* Definition of color scheme for unfitted estimators */\n",
       "  --sklearn-color-unfitted-level-0: #fff5e6;\n",
       "  --sklearn-color-unfitted-level-1: #f6e4d2;\n",
       "  --sklearn-color-unfitted-level-2: #ffe0b3;\n",
       "  --sklearn-color-unfitted-level-3: chocolate;\n",
       "  /* Definition of color scheme for fitted estimators */\n",
       "  --sklearn-color-fitted-level-0: #f0f8ff;\n",
       "  --sklearn-color-fitted-level-1: #d4ebff;\n",
       "  --sklearn-color-fitted-level-2: #b3dbfd;\n",
       "  --sklearn-color-fitted-level-3: cornflowerblue;\n",
       "\n",
       "  /* Specific color for light theme */\n",
       "  --sklearn-color-text-on-default-background: var(--sg-text-color, var(--theme-code-foreground, var(--jp-content-font-color1, black)));\n",
       "  --sklearn-color-background: var(--sg-background-color, var(--theme-background, var(--jp-layout-color0, white)));\n",
       "  --sklearn-color-border-box: var(--sg-text-color, var(--theme-code-foreground, var(--jp-content-font-color1, black)));\n",
       "  --sklearn-color-icon: #696969;\n",
       "\n",
       "  @media (prefers-color-scheme: dark) {\n",
       "    /* Redefinition of color scheme for dark theme */\n",
       "    --sklearn-color-text-on-default-background: var(--sg-text-color, var(--theme-code-foreground, var(--jp-content-font-color1, white)));\n",
       "    --sklearn-color-background: var(--sg-background-color, var(--theme-background, var(--jp-layout-color0, #111)));\n",
       "    --sklearn-color-border-box: var(--sg-text-color, var(--theme-code-foreground, var(--jp-content-font-color1, white)));\n",
       "    --sklearn-color-icon: #878787;\n",
       "  }\n",
       "}\n",
       "\n",
       "#sk-container-id-1 {\n",
       "  color: var(--sklearn-color-text);\n",
       "}\n",
       "\n",
       "#sk-container-id-1 pre {\n",
       "  padding: 0;\n",
       "}\n",
       "\n",
       "#sk-container-id-1 input.sk-hidden--visually {\n",
       "  border: 0;\n",
       "  clip: rect(1px 1px 1px 1px);\n",
       "  clip: rect(1px, 1px, 1px, 1px);\n",
       "  height: 1px;\n",
       "  margin: -1px;\n",
       "  overflow: hidden;\n",
       "  padding: 0;\n",
       "  position: absolute;\n",
       "  width: 1px;\n",
       "}\n",
       "\n",
       "#sk-container-id-1 div.sk-dashed-wrapped {\n",
       "  border: 1px dashed var(--sklearn-color-line);\n",
       "  margin: 0 0.4em 0.5em 0.4em;\n",
       "  box-sizing: border-box;\n",
       "  padding-bottom: 0.4em;\n",
       "  background-color: var(--sklearn-color-background);\n",
       "}\n",
       "\n",
       "#sk-container-id-1 div.sk-container {\n",
       "  /* jupyter's `normalize.less` sets `[hidden] { display: none; }`\n",
       "     but bootstrap.min.css set `[hidden] { display: none !important; }`\n",
       "     so we also need the `!important` here to be able to override the\n",
       "     default hidden behavior on the sphinx rendered scikit-learn.org.\n",
       "     See: https://github.com/scikit-learn/scikit-learn/issues/21755 */\n",
       "  display: inline-block !important;\n",
       "  position: relative;\n",
       "}\n",
       "\n",
       "#sk-container-id-1 div.sk-text-repr-fallback {\n",
       "  display: none;\n",
       "}\n",
       "\n",
       "div.sk-parallel-item,\n",
       "div.sk-serial,\n",
       "div.sk-item {\n",
       "  /* draw centered vertical line to link estimators */\n",
       "  background-image: linear-gradient(var(--sklearn-color-text-on-default-background), var(--sklearn-color-text-on-default-background));\n",
       "  background-size: 2px 100%;\n",
       "  background-repeat: no-repeat;\n",
       "  background-position: center center;\n",
       "}\n",
       "\n",
       "/* Parallel-specific style estimator block */\n",
       "\n",
       "#sk-container-id-1 div.sk-parallel-item::after {\n",
       "  content: \"\";\n",
       "  width: 100%;\n",
       "  border-bottom: 2px solid var(--sklearn-color-text-on-default-background);\n",
       "  flex-grow: 1;\n",
       "}\n",
       "\n",
       "#sk-container-id-1 div.sk-parallel {\n",
       "  display: flex;\n",
       "  align-items: stretch;\n",
       "  justify-content: center;\n",
       "  background-color: var(--sklearn-color-background);\n",
       "  position: relative;\n",
       "}\n",
       "\n",
       "#sk-container-id-1 div.sk-parallel-item {\n",
       "  display: flex;\n",
       "  flex-direction: column;\n",
       "}\n",
       "\n",
       "#sk-container-id-1 div.sk-parallel-item:first-child::after {\n",
       "  align-self: flex-end;\n",
       "  width: 50%;\n",
       "}\n",
       "\n",
       "#sk-container-id-1 div.sk-parallel-item:last-child::after {\n",
       "  align-self: flex-start;\n",
       "  width: 50%;\n",
       "}\n",
       "\n",
       "#sk-container-id-1 div.sk-parallel-item:only-child::after {\n",
       "  width: 0;\n",
       "}\n",
       "\n",
       "/* Serial-specific style estimator block */\n",
       "\n",
       "#sk-container-id-1 div.sk-serial {\n",
       "  display: flex;\n",
       "  flex-direction: column;\n",
       "  align-items: center;\n",
       "  background-color: var(--sklearn-color-background);\n",
       "  padding-right: 1em;\n",
       "  padding-left: 1em;\n",
       "}\n",
       "\n",
       "\n",
       "/* Toggleable style: style used for estimator/Pipeline/ColumnTransformer box that is\n",
       "clickable and can be expanded/collapsed.\n",
       "- Pipeline and ColumnTransformer use this feature and define the default style\n",
       "- Estimators will overwrite some part of the style using the `sk-estimator` class\n",
       "*/\n",
       "\n",
       "/* Pipeline and ColumnTransformer style (default) */\n",
       "\n",
       "#sk-container-id-1 div.sk-toggleable {\n",
       "  /* Default theme specific background. It is overwritten whether we have a\n",
       "  specific estimator or a Pipeline/ColumnTransformer */\n",
       "  background-color: var(--sklearn-color-background);\n",
       "}\n",
       "\n",
       "/* Toggleable label */\n",
       "#sk-container-id-1 label.sk-toggleable__label {\n",
       "  cursor: pointer;\n",
       "  display: block;\n",
       "  width: 100%;\n",
       "  margin-bottom: 0;\n",
       "  padding: 0.5em;\n",
       "  box-sizing: border-box;\n",
       "  text-align: center;\n",
       "}\n",
       "\n",
       "#sk-container-id-1 label.sk-toggleable__label-arrow:before {\n",
       "  /* Arrow on the left of the label */\n",
       "  content: \"▸\";\n",
       "  float: left;\n",
       "  margin-right: 0.25em;\n",
       "  color: var(--sklearn-color-icon);\n",
       "}\n",
       "\n",
       "#sk-container-id-1 label.sk-toggleable__label-arrow:hover:before {\n",
       "  color: var(--sklearn-color-text);\n",
       "}\n",
       "\n",
       "/* Toggleable content - dropdown */\n",
       "\n",
       "#sk-container-id-1 div.sk-toggleable__content {\n",
       "  max-height: 0;\n",
       "  max-width: 0;\n",
       "  overflow: hidden;\n",
       "  text-align: left;\n",
       "  /* unfitted */\n",
       "  background-color: var(--sklearn-color-unfitted-level-0);\n",
       "}\n",
       "\n",
       "#sk-container-id-1 div.sk-toggleable__content.fitted {\n",
       "  /* fitted */\n",
       "  background-color: var(--sklearn-color-fitted-level-0);\n",
       "}\n",
       "\n",
       "#sk-container-id-1 div.sk-toggleable__content pre {\n",
       "  margin: 0.2em;\n",
       "  border-radius: 0.25em;\n",
       "  color: var(--sklearn-color-text);\n",
       "  /* unfitted */\n",
       "  background-color: var(--sklearn-color-unfitted-level-0);\n",
       "}\n",
       "\n",
       "#sk-container-id-1 div.sk-toggleable__content.fitted pre {\n",
       "  /* unfitted */\n",
       "  background-color: var(--sklearn-color-fitted-level-0);\n",
       "}\n",
       "\n",
       "#sk-container-id-1 input.sk-toggleable__control:checked~div.sk-toggleable__content {\n",
       "  /* Expand drop-down */\n",
       "  max-height: 200px;\n",
       "  max-width: 100%;\n",
       "  overflow: auto;\n",
       "}\n",
       "\n",
       "#sk-container-id-1 input.sk-toggleable__control:checked~label.sk-toggleable__label-arrow:before {\n",
       "  content: \"▾\";\n",
       "}\n",
       "\n",
       "/* Pipeline/ColumnTransformer-specific style */\n",
       "\n",
       "#sk-container-id-1 div.sk-label input.sk-toggleable__control:checked~label.sk-toggleable__label {\n",
       "  color: var(--sklearn-color-text);\n",
       "  background-color: var(--sklearn-color-unfitted-level-2);\n",
       "}\n",
       "\n",
       "#sk-container-id-1 div.sk-label.fitted input.sk-toggleable__control:checked~label.sk-toggleable__label {\n",
       "  background-color: var(--sklearn-color-fitted-level-2);\n",
       "}\n",
       "\n",
       "/* Estimator-specific style */\n",
       "\n",
       "/* Colorize estimator box */\n",
       "#sk-container-id-1 div.sk-estimator input.sk-toggleable__control:checked~label.sk-toggleable__label {\n",
       "  /* unfitted */\n",
       "  background-color: var(--sklearn-color-unfitted-level-2);\n",
       "}\n",
       "\n",
       "#sk-container-id-1 div.sk-estimator.fitted input.sk-toggleable__control:checked~label.sk-toggleable__label {\n",
       "  /* fitted */\n",
       "  background-color: var(--sklearn-color-fitted-level-2);\n",
       "}\n",
       "\n",
       "#sk-container-id-1 div.sk-label label.sk-toggleable__label,\n",
       "#sk-container-id-1 div.sk-label label {\n",
       "  /* The background is the default theme color */\n",
       "  color: var(--sklearn-color-text-on-default-background);\n",
       "}\n",
       "\n",
       "/* On hover, darken the color of the background */\n",
       "#sk-container-id-1 div.sk-label:hover label.sk-toggleable__label {\n",
       "  color: var(--sklearn-color-text);\n",
       "  background-color: var(--sklearn-color-unfitted-level-2);\n",
       "}\n",
       "\n",
       "/* Label box, darken color on hover, fitted */\n",
       "#sk-container-id-1 div.sk-label.fitted:hover label.sk-toggleable__label.fitted {\n",
       "  color: var(--sklearn-color-text);\n",
       "  background-color: var(--sklearn-color-fitted-level-2);\n",
       "}\n",
       "\n",
       "/* Estimator label */\n",
       "\n",
       "#sk-container-id-1 div.sk-label label {\n",
       "  font-family: monospace;\n",
       "  font-weight: bold;\n",
       "  display: inline-block;\n",
       "  line-height: 1.2em;\n",
       "}\n",
       "\n",
       "#sk-container-id-1 div.sk-label-container {\n",
       "  text-align: center;\n",
       "}\n",
       "\n",
       "/* Estimator-specific */\n",
       "#sk-container-id-1 div.sk-estimator {\n",
       "  font-family: monospace;\n",
       "  border: 1px dotted var(--sklearn-color-border-box);\n",
       "  border-radius: 0.25em;\n",
       "  box-sizing: border-box;\n",
       "  margin-bottom: 0.5em;\n",
       "  /* unfitted */\n",
       "  background-color: var(--sklearn-color-unfitted-level-0);\n",
       "}\n",
       "\n",
       "#sk-container-id-1 div.sk-estimator.fitted {\n",
       "  /* fitted */\n",
       "  background-color: var(--sklearn-color-fitted-level-0);\n",
       "}\n",
       "\n",
       "/* on hover */\n",
       "#sk-container-id-1 div.sk-estimator:hover {\n",
       "  /* unfitted */\n",
       "  background-color: var(--sklearn-color-unfitted-level-2);\n",
       "}\n",
       "\n",
       "#sk-container-id-1 div.sk-estimator.fitted:hover {\n",
       "  /* fitted */\n",
       "  background-color: var(--sklearn-color-fitted-level-2);\n",
       "}\n",
       "\n",
       "/* Specification for estimator info (e.g. \"i\" and \"?\") */\n",
       "\n",
       "/* Common style for \"i\" and \"?\" */\n",
       "\n",
       ".sk-estimator-doc-link,\n",
       "a:link.sk-estimator-doc-link,\n",
       "a:visited.sk-estimator-doc-link {\n",
       "  float: right;\n",
       "  font-size: smaller;\n",
       "  line-height: 1em;\n",
       "  font-family: monospace;\n",
       "  background-color: var(--sklearn-color-background);\n",
       "  border-radius: 1em;\n",
       "  height: 1em;\n",
       "  width: 1em;\n",
       "  text-decoration: none !important;\n",
       "  margin-left: 1ex;\n",
       "  /* unfitted */\n",
       "  border: var(--sklearn-color-unfitted-level-1) 1pt solid;\n",
       "  color: var(--sklearn-color-unfitted-level-1);\n",
       "}\n",
       "\n",
       ".sk-estimator-doc-link.fitted,\n",
       "a:link.sk-estimator-doc-link.fitted,\n",
       "a:visited.sk-estimator-doc-link.fitted {\n",
       "  /* fitted */\n",
       "  border: var(--sklearn-color-fitted-level-1) 1pt solid;\n",
       "  color: var(--sklearn-color-fitted-level-1);\n",
       "}\n",
       "\n",
       "/* On hover */\n",
       "div.sk-estimator:hover .sk-estimator-doc-link:hover,\n",
       ".sk-estimator-doc-link:hover,\n",
       "div.sk-label-container:hover .sk-estimator-doc-link:hover,\n",
       ".sk-estimator-doc-link:hover {\n",
       "  /* unfitted */\n",
       "  background-color: var(--sklearn-color-unfitted-level-3);\n",
       "  color: var(--sklearn-color-background);\n",
       "  text-decoration: none;\n",
       "}\n",
       "\n",
       "div.sk-estimator.fitted:hover .sk-estimator-doc-link.fitted:hover,\n",
       ".sk-estimator-doc-link.fitted:hover,\n",
       "div.sk-label-container:hover .sk-estimator-doc-link.fitted:hover,\n",
       ".sk-estimator-doc-link.fitted:hover {\n",
       "  /* fitted */\n",
       "  background-color: var(--sklearn-color-fitted-level-3);\n",
       "  color: var(--sklearn-color-background);\n",
       "  text-decoration: none;\n",
       "}\n",
       "\n",
       "/* Span, style for the box shown on hovering the info icon */\n",
       ".sk-estimator-doc-link span {\n",
       "  display: none;\n",
       "  z-index: 9999;\n",
       "  position: relative;\n",
       "  font-weight: normal;\n",
       "  right: .2ex;\n",
       "  padding: .5ex;\n",
       "  margin: .5ex;\n",
       "  width: min-content;\n",
       "  min-width: 20ex;\n",
       "  max-width: 50ex;\n",
       "  color: var(--sklearn-color-text);\n",
       "  box-shadow: 2pt 2pt 4pt #999;\n",
       "  /* unfitted */\n",
       "  background: var(--sklearn-color-unfitted-level-0);\n",
       "  border: .5pt solid var(--sklearn-color-unfitted-level-3);\n",
       "}\n",
       "\n",
       ".sk-estimator-doc-link.fitted span {\n",
       "  /* fitted */\n",
       "  background: var(--sklearn-color-fitted-level-0);\n",
       "  border: var(--sklearn-color-fitted-level-3);\n",
       "}\n",
       "\n",
       ".sk-estimator-doc-link:hover span {\n",
       "  display: block;\n",
       "}\n",
       "\n",
       "/* \"?\"-specific style due to the `<a>` HTML tag */\n",
       "\n",
       "#sk-container-id-1 a.estimator_doc_link {\n",
       "  float: right;\n",
       "  font-size: 1rem;\n",
       "  line-height: 1em;\n",
       "  font-family: monospace;\n",
       "  background-color: var(--sklearn-color-background);\n",
       "  border-radius: 1rem;\n",
       "  height: 1rem;\n",
       "  width: 1rem;\n",
       "  text-decoration: none;\n",
       "  /* unfitted */\n",
       "  color: var(--sklearn-color-unfitted-level-1);\n",
       "  border: var(--sklearn-color-unfitted-level-1) 1pt solid;\n",
       "}\n",
       "\n",
       "#sk-container-id-1 a.estimator_doc_link.fitted {\n",
       "  /* fitted */\n",
       "  border: var(--sklearn-color-fitted-level-1) 1pt solid;\n",
       "  color: var(--sklearn-color-fitted-level-1);\n",
       "}\n",
       "\n",
       "/* On hover */\n",
       "#sk-container-id-1 a.estimator_doc_link:hover {\n",
       "  /* unfitted */\n",
       "  background-color: var(--sklearn-color-unfitted-level-3);\n",
       "  color: var(--sklearn-color-background);\n",
       "  text-decoration: none;\n",
       "}\n",
       "\n",
       "#sk-container-id-1 a.estimator_doc_link.fitted:hover {\n",
       "  /* fitted */\n",
       "  background-color: var(--sklearn-color-fitted-level-3);\n",
       "}\n",
       "</style><div id=\"sk-container-id-1\" class=\"sk-top-container\"><div class=\"sk-text-repr-fallback\"><pre>LabelEncoder()</pre><b>In a Jupyter environment, please rerun this cell to show the HTML representation or trust the notebook. <br />On GitHub, the HTML representation is unable to render, please try loading this page with nbviewer.org.</b></div><div class=\"sk-container\" hidden><div class=\"sk-item\"><div class=\"sk-estimator fitted sk-toggleable\"><input class=\"sk-toggleable__control sk-hidden--visually\" id=\"sk-estimator-id-1\" type=\"checkbox\" checked><label for=\"sk-estimator-id-1\" class=\"sk-toggleable__label fitted sk-toggleable__label-arrow fitted\">&nbsp;&nbsp;LabelEncoder<a class=\"sk-estimator-doc-link fitted\" rel=\"noreferrer\" target=\"_blank\" href=\"https://scikit-learn.org/1.4/modules/generated/sklearn.preprocessing.LabelEncoder.html\">?<span>Documentation for LabelEncoder</span></a><span class=\"sk-estimator-doc-link fitted\">i<span>Fitted</span></span></label><div class=\"sk-toggleable__content fitted\"><pre>LabelEncoder()</pre></div> </div></div></div></div>"
      ],
      "text/plain": [
       "LabelEncoder()"
      ]
     },
     "execution_count": 79,
     "metadata": {},
     "output_type": "execute_result"
    }
   ],
   "source": [
    "# Label encoding \n",
    "label_encoder = LabelEncoder()\n",
    "label_encoder.fit(y_train)"
   ]
  },
  {
   "cell_type": "code",
   "execution_count": 80,
   "id": "be2b476d-5ad4-452b-b9b4-be0348085c50",
   "metadata": {},
   "outputs": [],
   "source": [
    "y_train_encoded = label_encoder.transform(y_train)\n",
    "y_test_encoded = label_encoder.transform(y_test)"
   ]
  },
  {
   "cell_type": "code",
   "execution_count": 81,
   "id": "d36a5576-6626-4153-9e19-b6fba51597e0",
   "metadata": {},
   "outputs": [
    {
     "data": {
      "text/plain": [
       "array([1, 1, 1, 1, 1, 1, 1, 1, 0, 1, 1, 1, 1, 0, 2, 1, 1, 1, 1, 0, 1, 0,\n",
       "       2, 1, 0, 1, 1, 0, 1, 1, 0, 0, 1, 1, 0, 0, 0, 1, 1, 0, 1, 1, 1, 0,\n",
       "       1, 1, 1, 2, 0, 0, 1, 2, 1, 1, 1, 2, 0, 1, 2, 1, 1, 1, 1, 1, 1, 1,\n",
       "       1, 1, 1, 1, 0])"
      ]
     },
     "execution_count": 81,
     "metadata": {},
     "output_type": "execute_result"
    }
   ],
   "source": [
    "y_train_encoded"
   ]
  },
  {
   "cell_type": "code",
   "execution_count": 82,
   "id": "8bfd4d40-1c12-4352-bc73-9998def24850",
   "metadata": {},
   "outputs": [
    {
     "data": {
      "text/plain": [
       "array([1, 1, 0, 1, 1, 1, 1, 1, 1, 1, 1, 1, 1, 1, 1, 1, 1, 1, 1, 1, 0, 1,\n",
       "       1, 1, 1, 1, 0, 1, 1, 1, 0])"
      ]
     },
     "execution_count": 82,
     "metadata": {},
     "output_type": "execute_result"
    }
   ],
   "source": [
    "y_test_encoded"
   ]
  },
  {
   "cell_type": "markdown",
   "id": "138a718d-9941-487c-b60a-3146db73b7ab",
   "metadata": {},
   "source": [
    "#### Scaling the data"
   ]
  },
  {
   "cell_type": "code",
   "execution_count": 84,
   "id": "d37645c3-eaa2-459a-bb1d-e4d968717ed6",
   "metadata": {},
   "outputs": [],
   "source": [
    "# Importing scaler\n",
    "from sklearn.preprocessing import StandardScaler"
   ]
  },
  {
   "cell_type": "code",
   "execution_count": 85,
   "id": "55f9466b-6f29-440d-89f4-e3623da573b9",
   "metadata": {},
   "outputs": [],
   "source": [
    "scaler = StandardScaler()"
   ]
  },
  {
   "cell_type": "code",
   "execution_count": 86,
   "id": "65211f59-fecc-4b64-a2bb-d37fce9da001",
   "metadata": {},
   "outputs": [],
   "source": [
    "X_train_scaled = scaler.fit_transform(X_train_transformed)"
   ]
  },
  {
   "cell_type": "code",
   "execution_count": 87,
   "id": "a7612189-2bba-426f-a4e0-2104ac843918",
   "metadata": {},
   "outputs": [],
   "source": [
    "X_test_scaled = scaler.transform(X_test_transformed)"
   ]
  },
  {
   "cell_type": "code",
   "execution_count": 88,
   "id": "3d6ce74e-3356-40c7-806f-ae6acd7bdce1",
   "metadata": {},
   "outputs": [
    {
     "data": {
      "text/plain": [
       "array([[ 1.07308674,  1.04318517, -0.69221866,  0.75959875,  0.44592278,\n",
       "         0.58374105, -0.70362388],\n",
       "       [-0.93189112, -0.95860259, -0.69221866,  1.55270922, -0.34277338,\n",
       "        -0.16599872,  0.38240428],\n",
       "       [ 1.07308674,  1.04318517,  1.44463024, -1.61973264, -0.68078602,\n",
       "        -0.91573849, -0.70362388],\n",
       "       [ 1.07308674,  1.04318517, -0.69221866,  1.55270922,  0.3332519 ,\n",
       "         1.03358491, -0.70362388],\n",
       "       [-0.93189112, -0.95860259, -0.69221866, -0.03351171,  0.78393542,\n",
       "         0.58374105,  2.55446062],\n",
       "       [-0.93189112, -0.95860259, -0.69221866,  0.75959875, -0.2301025 ,\n",
       "        -0.16599872,  1.46843245],\n",
       "       [-0.93189112, -0.95860259, -0.69221866, -0.03351171,  0.10791014,\n",
       "        -0.76579054,  1.46843245],\n",
       "       [ 1.07308674, -0.95860259, -0.69221866, -0.82662217,  1.57263158,\n",
       "         1.55840275, -0.70362388],\n",
       "       [ 1.07308674, -0.95860259,  1.44463024, -0.03351171, -0.45544426,\n",
       "         0.58374105,  0.38240428],\n",
       "       [-0.93189112, -0.95860259, -0.69221866,  1.55270922,  1.12194806,\n",
       "        -0.01605077,  0.38240428],\n",
       "       [-0.93189112, -0.95860259, -0.69221866,  0.75959875, -0.56811514,\n",
       "        -0.10601954,  0.38240428],\n",
       "       [-0.93189112, -0.95860259, -0.69221866,  1.55270922,  1.23461894,\n",
       "        -0.2409727 ,  0.38240428],\n",
       "       [-0.93189112, -0.95860259, -0.69221866, -0.82662217,  0.8966063 ,\n",
       "         0.13389719,  0.38240428],\n",
       "       [ 1.07308674, -0.95860259, -0.69221866, -0.82662217,  1.57263158,\n",
       "         1.18353287, -0.70362388],\n",
       "       [ 1.07308674,  1.04318517, -0.69221866,  0.75959875,  0.55859366,\n",
       "         0.28384514, -0.70362388],\n",
       "       [ 1.07308674, -0.95860259, -0.69221866,  0.75959875,  1.34728982,\n",
       "         2.30814252, -0.70362388],\n",
       "       [ 1.07308674, -0.95860259, -0.69221866,  0.75959875, -0.90612778,\n",
       "         0.58374105,  1.46843245],\n",
       "       [-0.93189112, -0.95860259, -0.69221866,  1.55270922, -0.34277338,\n",
       "         0.13389719,  0.38240428],\n",
       "       [ 1.07308674, -0.95860259, -0.69221866, -1.61973264,  1.68530246,\n",
       "         1.25850684, -0.70362388],\n",
       "       [-0.93189112, -0.95860259, -0.69221866,  1.55270922, -0.34277338,\n",
       "        -0.01605077,  0.38240428],\n",
       "       [ 1.07308674,  1.04318517,  1.44463024, -0.03351171, -0.7934569 ,\n",
       "        -0.61584258, -0.70362388],\n",
       "       [-0.93189112, -0.95860259, -0.69221866,  1.55270922,  1.23461894,\n",
       "        -0.61584258,  0.38240428],\n",
       "       [ 1.07308674, -0.95860259, -0.69221866,  0.75959875,  1.34728982,\n",
       "         1.93327264, -0.70362388],\n",
       "       [ 1.07308674, -0.95860259, -0.69221866, -0.82662217,  1.57263158,\n",
       "         1.33348082, -0.70362388],\n",
       "       [ 1.07308674,  1.04318517,  1.44463024,  0.75959875, -0.68078602,\n",
       "        -0.01605077, -0.70362388],\n",
       "       [-0.93189112, -0.95860259, -0.69221866,  0.75959875, -0.2301025 ,\n",
       "         0.28384514,  1.46843245],\n",
       "       [-0.93189112,  1.04318517,  1.44463024, -1.61973264, -1.3568113 ,\n",
       "        -1.36558235, -0.70362388],\n",
       "       [-0.93189112, -0.95860259, -0.69221866,  1.55270922,  1.12194806,\n",
       "        -0.09102474,  0.38240428],\n",
       "       [ 1.07308674,  1.04318517, -0.69221866,  0.75959875,  0.44592278,\n",
       "         0.28384514, -0.70362388],\n",
       "       [ 1.07308674,  1.04318517, -0.69221866,  0.75959875,  0.44592278,\n",
       "         0.733689  , -0.70362388],\n",
       "       [ 1.07308674,  1.04318517,  1.44463024, -1.61973264, -0.45544426,\n",
       "        -1.2156344 , -0.70362388]])"
      ]
     },
     "execution_count": 88,
     "metadata": {},
     "output_type": "execute_result"
    }
   ],
   "source": [
    "X_test_scaled"
   ]
  },
  {
   "cell_type": "code",
   "execution_count": 89,
   "id": "51731835-d107-4464-b5e1-520dae9abba6",
   "metadata": {},
   "outputs": [
    {
     "data": {
      "text/plain": [
       "array([[ 1.07308674, -0.95860259, -0.69221866,  0.75959875,  1.34728982,\n",
       "         2.08322059, -0.70362388],\n",
       "       [ 1.07308674, -0.95860259, -0.69221866,  0.75959875, -0.90612778,\n",
       "         0.4337931 ,  1.46843245],\n",
       "       [-0.93189112, -0.95860259, -0.69221866, -0.82662217,  0.8966063 ,\n",
       "         0.35881912,  0.38240428],\n",
       "       [-0.93189112, -0.95860259, -0.69221866, -0.03351171,  0.78393542,\n",
       "         0.733689  ,  2.55446062],\n",
       "       [-0.93189112, -0.95860259, -0.69221866, -0.82662217,  0.8966063 ,\n",
       "         0.50876707,  0.38240428],\n",
       "       [ 1.07308674, -0.95860259, -0.69221866, -1.61973264,  1.68530246,\n",
       "         1.10855889, -0.70362388],\n",
       "       [-0.93189112, -0.95860259, -0.69221866,  1.55270922,  1.12194806,\n",
       "         0.05892321,  0.38240428],\n",
       "       [-0.93189112, -0.95860259, -0.69221866, -0.03351171,  0.78393542,\n",
       "         0.4337931 ,  2.55446062],\n",
       "       [ 1.07308674,  1.04318517,  1.44463024, -0.03351171, -0.7934569 ,\n",
       "        -0.76579054, -0.70362388],\n",
       "       [ 1.07308674, -0.95860259, -0.69221866, -0.03351171,  1.4599607 ,\n",
       "         1.63337673, -0.70362388],\n",
       "       [ 1.07308674,  1.04318517, -0.69221866, -0.82662217,  0.22058102,\n",
       "         1.33348082, -0.70362388],\n",
       "       [ 1.07308674, -0.95860259, -0.69221866, -1.61973264,  1.68530246,\n",
       "         1.18353287, -0.70362388],\n",
       "       [ 1.07308674,  1.04318517, -0.69221866,  0.75959875,  0.67126454,\n",
       "        -0.31594668, -0.70362388],\n",
       "       [-0.93189112,  1.04318517,  1.44463024, -0.03351171, -1.46948218,\n",
       "        -0.84076451, -0.70362388],\n",
       "       [-0.93189112,  1.04318517,  1.44463024, -0.82662217, -1.24414042,\n",
       "        -1.44055633, -0.70362388],\n",
       "       [ 1.07308674,  1.04318517, -0.69221866, -0.82662217,  0.22058102,\n",
       "         1.70835071, -0.70362388],\n",
       "       [-0.93189112,  1.04318517,  1.44463024, -0.03351171, -1.46948218,\n",
       "        -1.06568645, -0.70362388],\n",
       "       [ 1.07308674, -0.95860259, -0.69221866,  0.75959875, -0.90612778,\n",
       "         0.95861093,  1.46843245],\n",
       "       [ 1.07308674,  1.04318517,  1.44463024,  1.55270922, -0.7934569 ,\n",
       "         0.28384514, -0.70362388],\n",
       "       [-0.93189112,  1.04318517,  1.44463024, -0.03351171, -1.46948218,\n",
       "        -0.69081656, -0.70362388],\n",
       "       [ 1.07308674, -0.95860259, -0.69221866, -0.82662217,  1.57263158,\n",
       "         1.48342877, -0.70362388],\n",
       "       [-0.93189112, -0.95860259, -0.69221866, -0.03351171, -1.3568113 ,\n",
       "        -0.91573849,  0.38240428],\n",
       "       [-0.93189112,  1.04318517,  1.44463024, -1.61973264, -1.13146954,\n",
       "        -1.66547826, -0.70362388],\n",
       "       [ 1.07308674,  1.04318517, -0.69221866,  1.55270922,  0.3332519 ,\n",
       "         0.88363696, -0.70362388],\n",
       "       [-0.93189112,  1.04318517,  1.44463024, -1.61973264, -1.3568113 ,\n",
       "        -1.14066042, -0.70362388],\n",
       "       [ 1.07308674, -0.95860259, -0.69221866, -0.03351171,  1.4599607 ,\n",
       "         1.48342877, -0.70362388],\n",
       "       [ 1.07308674,  1.04318517, -0.69221866,  0.75959875,  0.55859366,\n",
       "         0.20887116, -0.70362388],\n",
       "       [ 1.07308674,  1.04318517,  1.44463024, -0.82662217, -0.56811514,\n",
       "        -1.06568645, -0.70362388],\n",
       "       [ 1.07308674, -0.95860259, -0.69221866,  0.75959875,  1.34728982,\n",
       "         2.23316854, -0.70362388],\n",
       "       [ 1.07308674, -0.95860259, -0.69221866,  0.75959875, -0.90612778,\n",
       "         0.80866298,  1.46843245],\n",
       "       [ 1.07308674,  1.04318517,  1.44463024, -1.61973264, -0.68078602,\n",
       "        -0.84076451, -0.70362388],\n",
       "       [-0.93189112,  1.04318517,  1.44463024, -0.03351171, -1.46948218,\n",
       "        -0.91573849, -0.70362388],\n",
       "       [-0.93189112, -0.95860259, -0.69221866,  1.55270922,  1.00927718,\n",
       "        -0.01605077,  0.38240428],\n",
       "       [-0.93189112, -0.95860259, -0.69221866,  1.55270922,  1.00927718,\n",
       "         0.13389719,  0.38240428],\n",
       "       [ 1.07308674,  1.04318517,  1.44463024, -0.82662217, -0.56811514,\n",
       "        -0.99071247, -0.70362388],\n",
       "       [-0.93189112,  1.04318517,  1.44463024, -0.03351171, -1.46948218,\n",
       "        -0.76579054, -0.70362388],\n",
       "       [ 1.07308674,  1.04318517,  1.44463024, -0.03351171, -0.7934569 ,\n",
       "        -0.54086861, -0.70362388],\n",
       "       [ 1.07308674, -0.95860259, -0.69221866, -0.03351171,  1.4599607 ,\n",
       "         1.78332468, -0.70362388],\n",
       "       [-0.93189112, -0.95860259, -0.69221866,  0.75959875, -0.2301025 ,\n",
       "         0.13389719,  1.46843245],\n",
       "       [ 1.07308674,  1.04318517,  1.44463024, -0.03351171, -1.13146954,\n",
       "        -0.31594668, -0.70362388],\n",
       "       [ 1.07308674,  1.04318517, -0.69221866,  0.75959875,  0.55859366,\n",
       "        -0.16599872, -0.70362388],\n",
       "       [-0.93189112, -0.95860259, -0.69221866, -0.03351171, -0.11743162,\n",
       "        -0.46589463,  1.46843245],\n",
       "       [-0.93189112, -0.95860259, -0.69221866, -0.03351171, -0.11743162,\n",
       "        -0.39092065,  1.46843245],\n",
       "       [-0.93189112,  1.04318517,  1.44463024, -1.61973264, -1.3568113 ,\n",
       "        -1.2156344 , -0.70362388],\n",
       "       [ 1.07308674, -0.95860259, -0.69221866, -1.61973264,  1.68530246,\n",
       "         0.88363696, -0.70362388],\n",
       "       [ 1.07308674,  1.04318517, -0.69221866,  0.75959875,  0.44592278,\n",
       "         0.4337931 , -0.70362388],\n",
       "       [ 1.07308674, -0.95860259, -0.69221866, -0.03351171,  1.4599607 ,\n",
       "         1.93327264, -0.70362388],\n",
       "       [-0.93189112,  1.04318517,  1.44463024, -1.61973264, -1.13146954,\n",
       "        -1.59050428, -0.70362388],\n",
       "       [-0.93189112,  1.04318517,  1.44463024, -1.61973264, -1.3568113 ,\n",
       "        -1.06568645, -0.70362388],\n",
       "       [ 1.07308674,  1.04318517,  1.44463024, -0.03351171, -0.7934569 ,\n",
       "        -0.46589463, -0.70362388],\n",
       "       [-0.93189112, -0.95860259, -0.69221866,  1.55270922, -0.34277338,\n",
       "        -0.31594668,  0.38240428],\n",
       "       [-0.93189112,  1.04318517,  1.44463024, -0.82662217, -1.01879866,\n",
       "        -1.81542622, -0.70362388],\n",
       "       [-0.93189112, -0.95860259, -0.69221866, -0.82662217,  0.8966063 ,\n",
       "         0.28384514,  0.38240428],\n",
       "       [-0.93189112, -0.95860259, -0.69221866, -0.03351171,  0.78393542,\n",
       "         0.88363696,  2.55446062],\n",
       "       [ 1.07308674,  1.04318517, -0.69221866, -0.82662217,  0.22058102,\n",
       "         1.18353287, -0.70362388],\n",
       "       [-0.93189112,  1.04318517,  1.44463024, -0.82662217, -1.01879866,\n",
       "        -1.74045224, -0.70362388],\n",
       "       [-0.93189112, -0.95860259, -0.69221866,  1.55270922, -1.01879866,\n",
       "        -0.52587381,  1.46843245],\n",
       "       [-0.93189112, -0.95860259, -0.69221866,  0.75959875, -0.2301025 ,\n",
       "        -0.01605077,  1.46843245],\n",
       "       [-0.93189112,  1.04318517,  1.44463024, -0.82662217, -1.24414042,\n",
       "        -1.51553031, -0.70362388],\n",
       "       [-0.93189112, -0.95860259, -0.69221866, -0.03351171, -0.11743162,\n",
       "        -0.2409727 ,  1.46843245],\n",
       "       [ 1.07308674,  1.04318517, -0.69221866,  1.55270922,  0.3332519 ,\n",
       "         0.733689  , -0.70362388],\n",
       "       [ 1.07308674,  1.04318517, -0.69221866,  0.75959875,  0.67126454,\n",
       "         0.05892321, -0.70362388],\n",
       "       [ 1.07308674,  1.04318517, -0.69221866,  1.55270922,  0.3332519 ,\n",
       "         0.58374105, -0.70362388],\n",
       "       [-0.93189112, -0.95860259, -0.69221866,  1.55270922,  1.12194806,\n",
       "        -0.46589463,  0.38240428],\n",
       "       [-0.93189112, -0.95860259, -0.69221866, -0.03351171, -0.00476074,\n",
       "        -0.54086861,  1.46843245],\n",
       "       [-0.93189112, -0.95860259, -0.69221866, -0.03351171, -0.00476074,\n",
       "        -0.61584258,  1.46843245],\n",
       "       [-0.93189112, -0.95860259, -0.69221866, -0.03351171,  0.10791014,\n",
       "        -0.69081656,  1.46843245],\n",
       "       [-0.93189112, -0.95860259, -0.69221866,  1.55270922,  1.00927718,\n",
       "         0.35881912,  0.38240428],\n",
       "       [-0.93189112, -0.95860259, -0.69221866, -0.03351171, -0.11743162,\n",
       "        -0.31594668,  1.46843245],\n",
       "       [-0.93189112, -0.95860259, -0.69221866,  1.55270922,  1.00927718,\n",
       "         0.28384514,  0.38240428],\n",
       "       [ 1.07308674,  1.04318517,  1.44463024, -1.61973264, -0.45544426,\n",
       "        -1.14066042, -0.70362388]])"
      ]
     },
     "execution_count": 89,
     "metadata": {},
     "output_type": "execute_result"
    }
   ],
   "source": [
    "X_train_scaled"
   ]
  },
  {
   "cell_type": "markdown",
   "id": "d3b20b2e-e3b9-43b3-80dc-dfff0e0d4aa7",
   "metadata": {},
   "source": [
    "#### Oversampling the data using SMOTE"
   ]
  },
  {
   "cell_type": "code",
   "execution_count": 91,
   "id": "cf5b283a-d607-4098-b867-dc787d15e46a",
   "metadata": {},
   "outputs": [],
   "source": [
    "from imblearn.over_sampling import SMOTE\n",
    "\n",
    "\n",
    "smote = SMOTE(random_state=69, k_neighbors=2 )\n",
    "\n",
    "X_train_resampled, y_train_resampled = smote.fit_resample(X_train_scaled, y_train_encoded)\n"
   ]
  },
  {
   "cell_type": "code",
   "execution_count": 92,
   "id": "f29f3c68-6904-41ad-b1d6-8dd624122e1d",
   "metadata": {},
   "outputs": [
    {
     "data": {
      "text/plain": [
       "(144,)"
      ]
     },
     "execution_count": 92,
     "metadata": {},
     "output_type": "execute_result"
    }
   ],
   "source": [
    "y_train_resampled.shape"
   ]
  },
  {
   "cell_type": "code",
   "execution_count": 93,
   "id": "662373d6-b327-49f9-be8e-7491daed3fe8",
   "metadata": {},
   "outputs": [
    {
     "data": {
      "text/plain": [
       "(71,)"
      ]
     },
     "execution_count": 93,
     "metadata": {},
     "output_type": "execute_result"
    }
   ],
   "source": [
    "y_train_encoded.shape"
   ]
  },
  {
   "cell_type": "markdown",
   "id": "fc08e60c-1a7b-42ff-a153-1f03bd9e8283",
   "metadata": {},
   "source": [
    "## Logistic Regression"
   ]
  },
  {
   "cell_type": "code",
   "execution_count": 95,
   "id": "5f5e12bb-1cf3-49df-9b3c-57f80fd51fb7",
   "metadata": {},
   "outputs": [],
   "source": [
    "from sklearn.linear_model import LogisticRegression\n",
    "from sklearn.metrics import classification_report"
   ]
  },
  {
   "cell_type": "code",
   "execution_count": 96,
   "id": "6f10133c-9437-4123-b93f-64ba433877e4",
   "metadata": {},
   "outputs": [
    {
     "name": "stdout",
     "output_type": "stream",
     "text": [
      "              precision    recall  f1-score   support\n",
      "\n",
      "           0       0.60      0.75      0.67         4\n",
      "           1       1.00      0.93      0.96        27\n",
      "           2       0.00      0.00      0.00         0\n",
      "\n",
      "    accuracy                           0.90        31\n",
      "   macro avg       0.53      0.56      0.54        31\n",
      "weighted avg       0.95      0.90      0.92        31\n",
      "\n",
      "Confusion Matrix:\n",
      "[[ 3  0  1]\n",
      " [ 2 25  0]\n",
      " [ 0  0  0]]\n",
      "Accuracy: 0.90\n"
     ]
    },
    {
     "name": "stderr",
     "output_type": "stream",
     "text": [
      "C:\\Users\\skyna\\anaconda3\\Lib\\site-packages\\sklearn\\metrics\\_classification.py:1509: UndefinedMetricWarning: Recall is ill-defined and being set to 0.0 in labels with no true samples. Use `zero_division` parameter to control this behavior.\n",
      "  _warn_prf(average, modifier, f\"{metric.capitalize()} is\", len(result))\n",
      "C:\\Users\\skyna\\anaconda3\\Lib\\site-packages\\sklearn\\metrics\\_classification.py:1509: UndefinedMetricWarning: Recall is ill-defined and being set to 0.0 in labels with no true samples. Use `zero_division` parameter to control this behavior.\n",
      "  _warn_prf(average, modifier, f\"{metric.capitalize()} is\", len(result))\n",
      "C:\\Users\\skyna\\anaconda3\\Lib\\site-packages\\sklearn\\metrics\\_classification.py:1509: UndefinedMetricWarning: Recall is ill-defined and being set to 0.0 in labels with no true samples. Use `zero_division` parameter to control this behavior.\n",
      "  _warn_prf(average, modifier, f\"{metric.capitalize()} is\", len(result))\n"
     ]
    }
   ],
   "source": [
    "clf = LogisticRegression()\n",
    "\n",
    "clf.fit(X_train_resampled, y_train_resampled)\n",
    "\n",
    "y_pred = clf.predict(X_test_scaled)\n",
    "\n",
    "print(classification_report(y_test_encoded, y_pred))\n",
    "print(\"Confusion Matrix:\")\n",
    "print(confusion_matrix(y_test_encoded, y_pred))\n",
    "accuracy = accuracy_score(y_test_encoded, y_pred)\n",
    "print(f'Accuracy: {accuracy:.2f}')"
   ]
  },
  {
   "cell_type": "code",
   "execution_count": null,
   "id": "48011952-984f-404d-86b5-f9fae6bd79ad",
   "metadata": {},
   "outputs": [],
   "source": []
  },
  {
   "cell_type": "markdown",
   "id": "b2afa626-898f-41da-a4e5-71ce9862fa29",
   "metadata": {},
   "source": [
    "## Random Forest"
   ]
  },
  {
   "cell_type": "code",
   "execution_count": 98,
   "id": "c3d6cf3e-7545-4c5e-9290-bdf7531f0f8d",
   "metadata": {},
   "outputs": [],
   "source": [
    "from sklearn.ensemble import RandomForestClassifier\n",
    "from sklearn.metrics import classification_report, accuracy_score, confusion_matrix"
   ]
  },
  {
   "cell_type": "code",
   "execution_count": 99,
   "id": "2f29d5e3-a6ba-4392-949b-51115b4d764d",
   "metadata": {},
   "outputs": [
    {
     "name": "stdout",
     "output_type": "stream",
     "text": [
      "              precision    recall  f1-score   support\n",
      "\n",
      "           0       0.75      0.75      0.75         4\n",
      "           1       1.00      0.96      0.98        27\n",
      "           2       0.00      0.00      0.00         0\n",
      "\n",
      "    accuracy                           0.94        31\n",
      "   macro avg       0.58      0.57      0.58        31\n",
      "weighted avg       0.97      0.94      0.95        31\n",
      "\n",
      "Confusion Matrix:\n",
      "[[ 3  0  1]\n",
      " [ 1 26  0]\n",
      " [ 0  0  0]]\n",
      "Accuracy: 0.94\n"
     ]
    },
    {
     "name": "stderr",
     "output_type": "stream",
     "text": [
      "C:\\Users\\skyna\\anaconda3\\Lib\\site-packages\\sklearn\\metrics\\_classification.py:1509: UndefinedMetricWarning: Recall is ill-defined and being set to 0.0 in labels with no true samples. Use `zero_division` parameter to control this behavior.\n",
      "  _warn_prf(average, modifier, f\"{metric.capitalize()} is\", len(result))\n",
      "C:\\Users\\skyna\\anaconda3\\Lib\\site-packages\\sklearn\\metrics\\_classification.py:1509: UndefinedMetricWarning: Recall is ill-defined and being set to 0.0 in labels with no true samples. Use `zero_division` parameter to control this behavior.\n",
      "  _warn_prf(average, modifier, f\"{metric.capitalize()} is\", len(result))\n",
      "C:\\Users\\skyna\\anaconda3\\Lib\\site-packages\\sklearn\\metrics\\_classification.py:1509: UndefinedMetricWarning: Recall is ill-defined and being set to 0.0 in labels with no true samples. Use `zero_division` parameter to control this behavior.\n",
      "  _warn_prf(average, modifier, f\"{metric.capitalize()} is\", len(result))\n"
     ]
    }
   ],
   "source": [
    "rf = RandomForestClassifier(n_estimators=200, random_state=60)\n",
    "\n",
    "rf.fit(X_train_resampled, y_train_resampled)\n",
    "\n",
    "y_pred = rf.predict(X_test_scaled)\n",
    "\n",
    "print(classification_report(y_test_encoded, y_pred))\n",
    "print(\"Confusion Matrix:\")\n",
    "print(confusion_matrix(y_test_encoded, y_pred))\n",
    "accuracy = accuracy_score(y_test_encoded, y_pred)\n",
    "print(f'Accuracy: {accuracy:.2f}')"
   ]
  },
  {
   "cell_type": "markdown",
   "id": "7da5d3c1-e289-49d0-96e7-047ba8aaebb3",
   "metadata": {},
   "source": [
    "## XG Boost"
   ]
  },
  {
   "cell_type": "code",
   "execution_count": 101,
   "id": "bd513cc5-b5ac-4cf2-a0d8-57ab2578e7ef",
   "metadata": {},
   "outputs": [],
   "source": [
    "import xgboost as xgb"
   ]
  },
  {
   "cell_type": "code",
   "execution_count": 102,
   "id": "dfba18b1-170f-4703-9bfa-8bfe99111a0e",
   "metadata": {},
   "outputs": [
    {
     "name": "stdout",
     "output_type": "stream",
     "text": [
      "Classification Report:\n",
      "              precision    recall  f1-score   support\n",
      "\n",
      "           0       1.00      0.75      0.86         4\n",
      "           1       1.00      1.00      1.00        27\n",
      "           2       0.00      0.00      0.00         0\n",
      "\n",
      "    accuracy                           0.97        31\n",
      "   macro avg       0.67      0.58      0.62        31\n",
      "weighted avg       1.00      0.97      0.98        31\n",
      "\n",
      "Confusion Matrix:\n",
      "[[ 3  0  1]\n",
      " [ 0 27  0]\n",
      " [ 0  0  0]]\n",
      "Accuracy: 0.97\n"
     ]
    },
    {
     "name": "stderr",
     "output_type": "stream",
     "text": [
      "C:\\Users\\skyna\\anaconda3\\Lib\\site-packages\\sklearn\\metrics\\_classification.py:1509: UndefinedMetricWarning: Recall is ill-defined and being set to 0.0 in labels with no true samples. Use `zero_division` parameter to control this behavior.\n",
      "  _warn_prf(average, modifier, f\"{metric.capitalize()} is\", len(result))\n",
      "C:\\Users\\skyna\\anaconda3\\Lib\\site-packages\\sklearn\\metrics\\_classification.py:1509: UndefinedMetricWarning: Recall is ill-defined and being set to 0.0 in labels with no true samples. Use `zero_division` parameter to control this behavior.\n",
      "  _warn_prf(average, modifier, f\"{metric.capitalize()} is\", len(result))\n",
      "C:\\Users\\skyna\\anaconda3\\Lib\\site-packages\\sklearn\\metrics\\_classification.py:1509: UndefinedMetricWarning: Recall is ill-defined and being set to 0.0 in labels with no true samples. Use `zero_division` parameter to control this behavior.\n",
      "  _warn_prf(average, modifier, f\"{metric.capitalize()} is\", len(result))\n"
     ]
    }
   ],
   "source": [
    "xgb_classifier = xgb.XGBClassifier(random_state=69)\n",
    "\n",
    "xgb_classifier.fit(X_train_resampled, y_train_resampled)\n",
    "\n",
    "y_pred = xgb_classifier.predict(X_test_scaled)\n",
    "\n",
    "\n",
    "print(\"Classification Report:\")\n",
    "print(classification_report(y_test_encoded, y_pred))\n",
    "print(\"Confusion Matrix:\")\n",
    "print(confusion_matrix(y_test_encoded, y_pred))\n",
    "accuracy = accuracy_score(y_test_encoded, y_pred)\n",
    "print(f'Accuracy: {accuracy:.2f}')\n"
   ]
  },
  {
   "cell_type": "code",
   "execution_count": null,
   "id": "5939be37-53fc-45f8-88c2-f6f900b21000",
   "metadata": {},
   "outputs": [],
   "source": []
  },
  {
   "cell_type": "markdown",
   "id": "2c0ce8af-9a18-4e77-be89-64526780fc85",
   "metadata": {},
   "source": [
    "## Decision Tress"
   ]
  },
  {
   "cell_type": "code",
   "execution_count": 104,
   "id": "a4ba6d5c-f763-4893-8135-39e1f26a45f9",
   "metadata": {},
   "outputs": [],
   "source": [
    "from sklearn.tree import DecisionTreeClassifier"
   ]
  },
  {
   "cell_type": "code",
   "execution_count": 105,
   "id": "6ac7931a-49ab-4abd-8aef-fc73960fc9ee",
   "metadata": {},
   "outputs": [
    {
     "name": "stdout",
     "output_type": "stream",
     "text": [
      "Classification Report:\n",
      "              precision    recall  f1-score   support\n",
      "\n",
      "           0       0.75      0.75      0.75         4\n",
      "           1       1.00      0.96      0.98        27\n",
      "           2       0.00      0.00      0.00         0\n",
      "\n",
      "    accuracy                           0.94        31\n",
      "   macro avg       0.58      0.57      0.58        31\n",
      "weighted avg       0.97      0.94      0.95        31\n",
      "\n",
      "Confusion Matrix:\n",
      "[[ 3  0  1]\n",
      " [ 1 26  0]\n",
      " [ 0  0  0]]\n",
      "Accuracy: 0.94\n"
     ]
    },
    {
     "name": "stderr",
     "output_type": "stream",
     "text": [
      "C:\\Users\\skyna\\anaconda3\\Lib\\site-packages\\sklearn\\metrics\\_classification.py:1509: UndefinedMetricWarning: Recall is ill-defined and being set to 0.0 in labels with no true samples. Use `zero_division` parameter to control this behavior.\n",
      "  _warn_prf(average, modifier, f\"{metric.capitalize()} is\", len(result))\n",
      "C:\\Users\\skyna\\anaconda3\\Lib\\site-packages\\sklearn\\metrics\\_classification.py:1509: UndefinedMetricWarning: Recall is ill-defined and being set to 0.0 in labels with no true samples. Use `zero_division` parameter to control this behavior.\n",
      "  _warn_prf(average, modifier, f\"{metric.capitalize()} is\", len(result))\n",
      "C:\\Users\\skyna\\anaconda3\\Lib\\site-packages\\sklearn\\metrics\\_classification.py:1509: UndefinedMetricWarning: Recall is ill-defined and being set to 0.0 in labels with no true samples. Use `zero_division` parameter to control this behavior.\n",
      "  _warn_prf(average, modifier, f\"{metric.capitalize()} is\", len(result))\n"
     ]
    }
   ],
   "source": [
    "dt_classifier = DecisionTreeClassifier(random_state=42)\n",
    "\n",
    "dt_classifier.fit(X_train_resampled, y_train_resampled)\n",
    "\n",
    "y_pred = dt_classifier.predict(X_test_scaled)\n",
    "\n",
    "print(\"Classification Report:\")\n",
    "print(classification_report(y_test_encoded, y_pred))\n",
    "print(\"Confusion Matrix:\")\n",
    "print(confusion_matrix(y_test_encoded, y_pred))\n",
    "accuracy = accuracy_score(y_test_encoded, y_pred)\n",
    "print(f'Accuracy: {accuracy:.2f}')"
   ]
  },
  {
   "cell_type": "code",
   "execution_count": null,
   "id": "b45fc4a1-9ed3-4a39-9b42-80ca8ed050b6",
   "metadata": {},
   "outputs": [],
   "source": []
  },
  {
   "cell_type": "markdown",
   "id": "6bf92a80-8343-47cf-b0eb-90c34ec5ac66",
   "metadata": {},
   "source": [
    "## SVC "
   ]
  },
  {
   "cell_type": "code",
   "execution_count": 107,
   "id": "8cc6210d-4465-4f1a-9797-ccbb63b788b6",
   "metadata": {},
   "outputs": [],
   "source": [
    "from sklearn.svm import SVC"
   ]
  },
  {
   "cell_type": "code",
   "execution_count": 108,
   "id": "412d0e24-0f0a-41bb-aace-2690af14a300",
   "metadata": {},
   "outputs": [
    {
     "name": "stdout",
     "output_type": "stream",
     "text": [
      "Classification Report:\n",
      "              precision    recall  f1-score   support\n",
      "\n",
      "           0       0.75      0.75      0.75         4\n",
      "           1       1.00      0.96      0.98        27\n",
      "           2       0.00      0.00      0.00         0\n",
      "\n",
      "    accuracy                           0.94        31\n",
      "   macro avg       0.58      0.57      0.58        31\n",
      "weighted avg       0.97      0.94      0.95        31\n",
      "\n",
      "Confusion Matrix:\n",
      "[[ 3  0  1]\n",
      " [ 1 26  0]\n",
      " [ 0  0  0]]\n",
      "Accuracy: 0.94\n"
     ]
    },
    {
     "name": "stderr",
     "output_type": "stream",
     "text": [
      "C:\\Users\\skyna\\anaconda3\\Lib\\site-packages\\sklearn\\metrics\\_classification.py:1509: UndefinedMetricWarning: Recall is ill-defined and being set to 0.0 in labels with no true samples. Use `zero_division` parameter to control this behavior.\n",
      "  _warn_prf(average, modifier, f\"{metric.capitalize()} is\", len(result))\n",
      "C:\\Users\\skyna\\anaconda3\\Lib\\site-packages\\sklearn\\metrics\\_classification.py:1509: UndefinedMetricWarning: Recall is ill-defined and being set to 0.0 in labels with no true samples. Use `zero_division` parameter to control this behavior.\n",
      "  _warn_prf(average, modifier, f\"{metric.capitalize()} is\", len(result))\n",
      "C:\\Users\\skyna\\anaconda3\\Lib\\site-packages\\sklearn\\metrics\\_classification.py:1509: UndefinedMetricWarning: Recall is ill-defined and being set to 0.0 in labels with no true samples. Use `zero_division` parameter to control this behavior.\n",
      "  _warn_prf(average, modifier, f\"{metric.capitalize()} is\", len(result))\n"
     ]
    }
   ],
   "source": [
    "svm_classifier = SVC(kernel='rbf', random_state=69)\n",
    "\n",
    "svm_classifier.fit(X_train_resampled, y_train_resampled)\n",
    "\n",
    "y_pred = svm_classifier.predict(X_test_scaled)\n",
    "\n",
    "print(\"Classification Report:\")\n",
    "print(classification_report(y_test_encoded, y_pred))\n",
    "print(\"Confusion Matrix:\")\n",
    "print(confusion_matrix(y_test_encoded, y_pred))\n",
    "accuracy = accuracy_score(y_test_encoded, y_pred)\n",
    "print(f'Accuracy: {accuracy:.2f}')"
   ]
  },
  {
   "cell_type": "markdown",
   "id": "e2fec298-708a-4f3d-9265-d3afef2298bd",
   "metadata": {},
   "source": [
    "## Cross Validation of Model"
   ]
  },
  {
   "cell_type": "code",
   "execution_count": 110,
   "id": "4cf2c4c9-a542-4c78-a4d9-9ea8ebed7bb3",
   "metadata": {},
   "outputs": [],
   "source": [
    "from sklearn.model_selection import cross_val_score"
   ]
  },
  {
   "cell_type": "code",
   "execution_count": 111,
   "id": "654ddd68-93b0-40dd-a88e-91d799889a22",
   "metadata": {},
   "outputs": [
    {
     "name": "stdout",
     "output_type": "stream",
     "text": [
      "Cross-validation scores: [0.96551724 0.79310345 0.93103448 0.93103448 0.92857143]\n",
      "Mean cross-validation score for SVC: 0.9098522167487685\n"
     ]
    }
   ],
   "source": [
    "scores = cross_val_score(svm_classifier, X_train_resampled, y_train_resampled, cv=5)\n",
    "\n",
    "print(\"Cross-validation scores:\", scores)\n",
    "print(f\"Mean cross-validation score for SVC: {np.mean(scores)}\")"
   ]
  },
  {
   "cell_type": "code",
   "execution_count": 112,
   "id": "31413835-d992-4859-8bc4-54950e5269d4",
   "metadata": {},
   "outputs": [
    {
     "name": "stdout",
     "output_type": "stream",
     "text": [
      "Cross-validation scores: [1.         0.89655172 1.         1.         0.96428571]\n",
      "Mean cross-validation score for Logistic Regression: 0.972167487684729\n"
     ]
    }
   ],
   "source": [
    "scores = cross_val_score(clf, X_train_resampled, y_train_resampled, cv=5)\n",
    "\n",
    "print(\"Cross-validation scores:\", scores)\n",
    "print(f\"Mean cross-validation score for Logistic Regression: {np.mean(scores)}\")"
   ]
  },
  {
   "cell_type": "code",
   "execution_count": 113,
   "id": "cb19bb52-a2d8-4810-93ef-b86dd34cce88",
   "metadata": {},
   "outputs": [
    {
     "name": "stdout",
     "output_type": "stream",
     "text": [
      "Cross-validation scores: [1.         0.89655172 1.         1.         1.        ]\n",
      "Mean cross-validation score for XG Boost: 0.9793103448275862\n"
     ]
    }
   ],
   "source": [
    "scores = cross_val_score(xgb_classifier, X_train_resampled, y_train_resampled, cv=5)\n",
    "\n",
    "print(\"Cross-validation scores:\", scores)\n",
    "print(f\"Mean cross-validation score for XG Boost: {np.mean(scores)}\")"
   ]
  },
  {
   "cell_type": "code",
   "execution_count": 114,
   "id": "a79dc500-750b-4c44-ba12-86f85bf87ef2",
   "metadata": {},
   "outputs": [
    {
     "name": "stdout",
     "output_type": "stream",
     "text": [
      "Cross-validation scores: [1.         0.93103448 1.         0.96551724 1.        ]\n",
      "Mean cross-validation score for Decision Tree: 0.9793103448275862\n"
     ]
    }
   ],
   "source": [
    "scores = cross_val_score(dt_classifier, X_train_resampled, y_train_resampled, cv=5)\n",
    "\n",
    "print(\"Cross-validation scores:\", scores)\n",
    "print(f\"Mean cross-validation score for Decision Tree: {np.mean(scores)}\")"
   ]
  },
  {
   "cell_type": "code",
   "execution_count": 115,
   "id": "10bb18bd-c35d-493f-aeab-0e5ed0e33a4d",
   "metadata": {},
   "outputs": [
    {
     "name": "stdout",
     "output_type": "stream",
     "text": [
      "Cross-validation scores: [1.         0.93103448 1.         1.         1.        ]\n",
      "Mean cross-validation score for Random Forest: 0.9862068965517242\n"
     ]
    }
   ],
   "source": [
    "scores = cross_val_score(rf, X_train_resampled, y_train_resampled, cv=5)\n",
    "\n",
    "print(\"Cross-validation scores:\", scores)\n",
    "print(f\"Mean cross-validation score for Random Forest: {np.mean(scores)}\")"
   ]
  },
  {
   "cell_type": "code",
   "execution_count": null,
   "id": "00613056-0a03-42f7-882b-322d270fe310",
   "metadata": {},
   "outputs": [],
   "source": []
  },
  {
   "cell_type": "markdown",
   "id": "303335b2-26d6-4f0c-b6b6-62477473a0e8",
   "metadata": {},
   "source": [
    "#### Conclusion :\n",
    "##### Our model, the Random Forest Classifier, got scores like 1.0, 0.93, and 1.0 when we tested it with different parts of our data. The average of these scores, which is about 0.986, shows how well the model can predict things correctly. It means our model is very good at guessing right most of the time.\n",
    "##### But since the dataset that we used to create the model has very limited amouunt of records, there might be a chance that our model has become overfit"
   ]
  },
  {
   "cell_type": "code",
   "execution_count": null,
   "id": "5d767270-1365-4429-8d78-b113a45cf547",
   "metadata": {},
   "outputs": [],
   "source": []
  },
  {
   "cell_type": "code",
   "execution_count": 117,
   "id": "2a8e7ade-1c3a-41cc-a02d-41d4fd2c19d4",
   "metadata": {},
   "outputs": [],
   "source": [
    "import pickle"
   ]
  },
  {
   "cell_type": "code",
   "execution_count": 118,
   "id": "e4448ec5-5f61-490e-bd99-3cec8ce9ba0f",
   "metadata": {},
   "outputs": [],
   "source": [
    "with open(r'C:\\Users\\skyna\\OneDrive\\Desktop\\Capstone\\Model\\rfmodel.pkl', 'wb') as f:\n",
    "    pickle.dump(rf, f)"
   ]
  },
  {
   "cell_type": "code",
   "execution_count": null,
   "id": "d794c1bc-6b93-43b3-b7b3-eb5eace3a96f",
   "metadata": {},
   "outputs": [],
   "source": []
  }
 ],
 "metadata": {
  "kernelspec": {
   "display_name": "Python 3 (ipykernel)",
   "language": "python",
   "name": "python3"
  },
  "language_info": {
   "codemirror_mode": {
    "name": "ipython",
    "version": 3
   },
   "file_extension": ".py",
   "mimetype": "text/x-python",
   "name": "python",
   "nbconvert_exporter": "python",
   "pygments_lexer": "ipython3",
   "version": "3.12.4"
  }
 },
 "nbformat": 4,
 "nbformat_minor": 5
}
